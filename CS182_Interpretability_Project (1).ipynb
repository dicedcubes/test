{
  "nbformat": 4,
  "nbformat_minor": 0,
  "metadata": {
    "colab": {
      "provenance": [],
      "gpuType": "T4"
    },
    "kernelspec": {
      "name": "python3",
      "display_name": "Python 3"
    },
    "language_info": {
      "name": "python"
    },
    "accelerator": "GPU"
  },
  "cells": [
    {
      "cell_type": "markdown",
      "metadata": {
        "id": "04SsNKOZJLuE"
      },
      "source": [
        "[![Open In Colab](https://colab.research.google.com/assets/colab-badge.svg)](https://colab.research.google.com/github/TransformerLensOrg/TransformerLens/blob/main/demos/Exploratory_Analysis_Demo.ipynb)"
      ]
    },
    {
      "cell_type": "markdown",
      "metadata": {
        "id": "czMK0jeuJLuG"
      },
      "source": [
        "# ​Extending the Linear Representation Hypothesis via Transcoder-Style SAEs and Feature Steering on Hallucinations on the LAMBADA Dataset\n",
        "\n",
        "This notebook demonstrates an extension of the LRH using Transcoder-Style Sparse Autoencoders (SAEs) by steering features in GPT-2 associated with hallucinations to demonstrate such steering can influence model outputs. The benchmark dataset used is the LAMBADA dataset, which contains cloze-style (i.e. 'fill-in-the-blank) problems. This notebook takes inspiration from the\n",
        "[TransformerLens](https://github.com/TransformerLensOrg/TransformerLens/) library's [Exploratory Analysis demo Colab Notebook](https://colab.research.google.com/github/neelnanda-io/TransformerLens/blob/main/demos/Exploratory_Analysis_Demo.ipynb)."
      ]
    },
    {
      "cell_type": "markdown",
      "metadata": {
        "id": "1uTffj8rJLuG"
      },
      "source": [
        "## Setup"
      ]
    },
    {
      "cell_type": "markdown",
      "metadata": {
        "id": "3dwuKnHgJLuH"
      },
      "source": [
        "### Environment Setup"
      ]
    },
    {
      "cell_type": "markdown",
      "metadata": {
        "id": "2HJMAwUrEAKN"
      },
      "source": [
        "**Note**: Be sure to switch runtime to use a GPU for faster compute (e.g. T4 GPU)"
      ]
    },
    {
      "cell_type": "code",
      "execution_count": 1,
      "metadata": {
        "colab": {
          "base_uri": "https://localhost:8080/"
        },
        "collapsed": true,
        "id": "mWbxwP6vJLuH",
        "outputId": "6a8c250e-bbac-4339-9240-82eb1143c2dc"
      },
      "outputs": [
        {
          "output_type": "stream",
          "name": "stdout",
          "text": [
            "Requirement already satisfied: transformer_lens in /usr/local/lib/python3.11/dist-packages (2.15.0)\n",
            "Requirement already satisfied: accelerate>=0.23.0 in /usr/local/lib/python3.11/dist-packages (from transformer_lens) (1.5.2)\n",
            "Requirement already satisfied: beartype<0.15.0,>=0.14.1 in /usr/local/lib/python3.11/dist-packages (from transformer_lens) (0.14.1)\n",
            "Requirement already satisfied: better-abc<0.0.4,>=0.0.3 in /usr/local/lib/python3.11/dist-packages (from transformer_lens) (0.0.3)\n",
            "Requirement already satisfied: datasets>=2.7.1 in /usr/local/lib/python3.11/dist-packages (from transformer_lens) (2.21.0)\n",
            "Requirement already satisfied: einops>=0.6.0 in /usr/local/lib/python3.11/dist-packages (from transformer_lens) (0.8.1)\n",
            "Requirement already satisfied: fancy-einsum>=0.0.3 in /usr/local/lib/python3.11/dist-packages (from transformer_lens) (0.0.3)\n",
            "Requirement already satisfied: jaxtyping>=0.2.11 in /usr/local/lib/python3.11/dist-packages (from transformer_lens) (0.3.1)\n",
            "Requirement already satisfied: numpy>=1.24 in /usr/local/lib/python3.11/dist-packages (from transformer_lens) (1.26.4)\n",
            "Requirement already satisfied: pandas>=1.1.5 in /usr/local/lib/python3.11/dist-packages (from transformer_lens) (2.2.2)\n",
            "Requirement already satisfied: rich>=12.6.0 in /usr/local/lib/python3.11/dist-packages (from transformer_lens) (13.9.4)\n",
            "Requirement already satisfied: sentencepiece in /usr/local/lib/python3.11/dist-packages (from transformer_lens) (0.2.0)\n",
            "Requirement already satisfied: torch>=2.2 in /usr/local/lib/python3.11/dist-packages (from transformer_lens) (2.6.0+cu124)\n",
            "Requirement already satisfied: tqdm>=4.64.1 in /usr/local/lib/python3.11/dist-packages (from transformer_lens) (4.67.1)\n",
            "Requirement already satisfied: transformers>=4.43 in /usr/local/lib/python3.11/dist-packages (from transformer_lens) (4.51.3)\n",
            "Requirement already satisfied: transformers-stream-generator<0.0.6,>=0.0.5 in /usr/local/lib/python3.11/dist-packages (from transformer_lens) (0.0.5)\n",
            "Requirement already satisfied: typeguard<5.0,>=4.2 in /usr/local/lib/python3.11/dist-packages (from transformer_lens) (4.4.2)\n",
            "Requirement already satisfied: typing-extensions in /usr/local/lib/python3.11/dist-packages (from transformer_lens) (4.13.2)\n",
            "Requirement already satisfied: wandb>=0.13.5 in /usr/local/lib/python3.11/dist-packages (from transformer_lens) (0.19.9)\n",
            "Requirement already satisfied: packaging>=20.0 in /usr/local/lib/python3.11/dist-packages (from accelerate>=0.23.0->transformer_lens) (24.2)\n",
            "Requirement already satisfied: psutil in /usr/local/lib/python3.11/dist-packages (from accelerate>=0.23.0->transformer_lens) (5.9.5)\n",
            "Requirement already satisfied: pyyaml in /usr/local/lib/python3.11/dist-packages (from accelerate>=0.23.0->transformer_lens) (6.0.2)\n",
            "Requirement already satisfied: huggingface-hub>=0.21.0 in /usr/local/lib/python3.11/dist-packages (from accelerate>=0.23.0->transformer_lens) (0.30.2)\n",
            "Requirement already satisfied: safetensors>=0.4.3 in /usr/local/lib/python3.11/dist-packages (from accelerate>=0.23.0->transformer_lens) (0.4.5)\n",
            "Requirement already satisfied: filelock in /usr/local/lib/python3.11/dist-packages (from datasets>=2.7.1->transformer_lens) (3.18.0)\n",
            "Requirement already satisfied: pyarrow>=15.0.0 in /usr/local/lib/python3.11/dist-packages (from datasets>=2.7.1->transformer_lens) (18.1.0)\n",
            "Requirement already satisfied: dill<0.3.9,>=0.3.0 in /usr/local/lib/python3.11/dist-packages (from datasets>=2.7.1->transformer_lens) (0.3.8)\n",
            "Requirement already satisfied: requests>=2.32.2 in /usr/local/lib/python3.11/dist-packages (from datasets>=2.7.1->transformer_lens) (2.32.3)\n",
            "Requirement already satisfied: xxhash in /usr/local/lib/python3.11/dist-packages (from datasets>=2.7.1->transformer_lens) (3.5.0)\n",
            "Requirement already satisfied: multiprocess in /usr/local/lib/python3.11/dist-packages (from datasets>=2.7.1->transformer_lens) (0.70.16)\n",
            "Requirement already satisfied: fsspec<=2024.6.1,>=2023.1.0 in /usr/local/lib/python3.11/dist-packages (from fsspec[http]<=2024.6.1,>=2023.1.0->datasets>=2.7.1->transformer_lens) (2024.6.1)\n",
            "Requirement already satisfied: aiohttp in /usr/local/lib/python3.11/dist-packages (from datasets>=2.7.1->transformer_lens) (3.11.15)\n",
            "Requirement already satisfied: wadler-lindig>=0.1.3 in /usr/local/lib/python3.11/dist-packages (from jaxtyping>=0.2.11->transformer_lens) (0.1.5)\n",
            "Requirement already satisfied: python-dateutil>=2.8.2 in /usr/local/lib/python3.11/dist-packages (from pandas>=1.1.5->transformer_lens) (2.8.2)\n",
            "Requirement already satisfied: pytz>=2020.1 in /usr/local/lib/python3.11/dist-packages (from pandas>=1.1.5->transformer_lens) (2025.2)\n",
            "Requirement already satisfied: tzdata>=2022.7 in /usr/local/lib/python3.11/dist-packages (from pandas>=1.1.5->transformer_lens) (2025.2)\n",
            "Requirement already satisfied: markdown-it-py>=2.2.0 in /usr/local/lib/python3.11/dist-packages (from rich>=12.6.0->transformer_lens) (3.0.0)\n",
            "Requirement already satisfied: pygments<3.0.0,>=2.13.0 in /usr/local/lib/python3.11/dist-packages (from rich>=12.6.0->transformer_lens) (2.18.0)\n",
            "Requirement already satisfied: networkx in /usr/local/lib/python3.11/dist-packages (from torch>=2.2->transformer_lens) (3.4.2)\n",
            "Requirement already satisfied: jinja2 in /usr/local/lib/python3.11/dist-packages (from torch>=2.2->transformer_lens) (3.1.6)\n",
            "Requirement already satisfied: nvidia-cuda-nvrtc-cu12==12.4.127 in /usr/local/lib/python3.11/dist-packages (from torch>=2.2->transformer_lens) (12.4.127)\n",
            "Requirement already satisfied: nvidia-cuda-runtime-cu12==12.4.127 in /usr/local/lib/python3.11/dist-packages (from torch>=2.2->transformer_lens) (12.4.127)\n",
            "Requirement already satisfied: nvidia-cuda-cupti-cu12==12.4.127 in /usr/local/lib/python3.11/dist-packages (from torch>=2.2->transformer_lens) (12.4.127)\n",
            "Requirement already satisfied: nvidia-cudnn-cu12==9.1.0.70 in /usr/local/lib/python3.11/dist-packages (from torch>=2.2->transformer_lens) (9.1.0.70)\n",
            "Requirement already satisfied: nvidia-cublas-cu12==12.4.5.8 in /usr/local/lib/python3.11/dist-packages (from torch>=2.2->transformer_lens) (12.4.5.8)\n",
            "Requirement already satisfied: nvidia-cufft-cu12==11.2.1.3 in /usr/local/lib/python3.11/dist-packages (from torch>=2.2->transformer_lens) (11.2.1.3)\n",
            "Requirement already satisfied: nvidia-curand-cu12==10.3.5.147 in /usr/local/lib/python3.11/dist-packages (from torch>=2.2->transformer_lens) (10.3.5.147)\n",
            "Requirement already satisfied: nvidia-cusolver-cu12==11.6.1.9 in /usr/local/lib/python3.11/dist-packages (from torch>=2.2->transformer_lens) (11.6.1.9)\n",
            "Requirement already satisfied: nvidia-cusparse-cu12==12.3.1.170 in /usr/local/lib/python3.11/dist-packages (from torch>=2.2->transformer_lens) (12.3.1.170)\n",
            "Requirement already satisfied: nvidia-cusparselt-cu12==0.6.2 in /usr/local/lib/python3.11/dist-packages (from torch>=2.2->transformer_lens) (0.6.2)\n",
            "Requirement already satisfied: nvidia-nccl-cu12==2.21.5 in /usr/local/lib/python3.11/dist-packages (from torch>=2.2->transformer_lens) (2.21.5)\n",
            "Requirement already satisfied: nvidia-nvtx-cu12==12.4.127 in /usr/local/lib/python3.11/dist-packages (from torch>=2.2->transformer_lens) (12.4.127)\n",
            "Requirement already satisfied: nvidia-nvjitlink-cu12==12.4.127 in /usr/local/lib/python3.11/dist-packages (from torch>=2.2->transformer_lens) (12.4.127)\n",
            "Requirement already satisfied: triton==3.2.0 in /usr/local/lib/python3.11/dist-packages (from torch>=2.2->transformer_lens) (3.2.0)\n",
            "Requirement already satisfied: sympy==1.13.1 in /usr/local/lib/python3.11/dist-packages (from torch>=2.2->transformer_lens) (1.13.1)\n",
            "Requirement already satisfied: mpmath<1.4,>=1.1.0 in /usr/local/lib/python3.11/dist-packages (from sympy==1.13.1->torch>=2.2->transformer_lens) (1.3.0)\n",
            "Requirement already satisfied: regex!=2019.12.17 in /usr/local/lib/python3.11/dist-packages (from transformers>=4.43->transformer_lens) (2024.11.6)\n",
            "Requirement already satisfied: tokenizers<0.22,>=0.21 in /usr/local/lib/python3.11/dist-packages (from transformers>=4.43->transformer_lens) (0.21.1)\n",
            "Requirement already satisfied: click!=8.0.0,>=7.1 in /usr/local/lib/python3.11/dist-packages (from wandb>=0.13.5->transformer_lens) (8.1.8)\n",
            "Requirement already satisfied: docker-pycreds>=0.4.0 in /usr/local/lib/python3.11/dist-packages (from wandb>=0.13.5->transformer_lens) (0.4.0)\n",
            "Requirement already satisfied: gitpython!=3.1.29,>=1.0.0 in /usr/local/lib/python3.11/dist-packages (from wandb>=0.13.5->transformer_lens) (3.1.44)\n",
            "Requirement already satisfied: platformdirs in /usr/local/lib/python3.11/dist-packages (from wandb>=0.13.5->transformer_lens) (4.3.7)\n",
            "Requirement already satisfied: protobuf!=4.21.0,!=5.28.0,<6,>=3.19.0 in /usr/local/lib/python3.11/dist-packages (from wandb>=0.13.5->transformer_lens) (5.29.4)\n",
            "Requirement already satisfied: pydantic<3 in /usr/local/lib/python3.11/dist-packages (from wandb>=0.13.5->transformer_lens) (2.11.3)\n",
            "Requirement already satisfied: sentry-sdk>=2.0.0 in /usr/local/lib/python3.11/dist-packages (from wandb>=0.13.5->transformer_lens) (2.26.1)\n",
            "Requirement already satisfied: setproctitle in /usr/local/lib/python3.11/dist-packages (from wandb>=0.13.5->transformer_lens) (1.3.5)\n",
            "Requirement already satisfied: setuptools in /usr/local/lib/python3.11/dist-packages (from wandb>=0.13.5->transformer_lens) (75.2.0)\n",
            "Requirement already satisfied: six>=1.4.0 in /usr/local/lib/python3.11/dist-packages (from docker-pycreds>=0.4.0->wandb>=0.13.5->transformer_lens) (1.17.0)\n",
            "Requirement already satisfied: aiohappyeyeballs>=2.3.0 in /usr/local/lib/python3.11/dist-packages (from aiohttp->datasets>=2.7.1->transformer_lens) (2.6.1)\n",
            "Requirement already satisfied: aiosignal>=1.1.2 in /usr/local/lib/python3.11/dist-packages (from aiohttp->datasets>=2.7.1->transformer_lens) (1.3.2)\n",
            "Requirement already satisfied: attrs>=17.3.0 in /usr/local/lib/python3.11/dist-packages (from aiohttp->datasets>=2.7.1->transformer_lens) (25.3.0)\n",
            "Requirement already satisfied: frozenlist>=1.1.1 in /usr/local/lib/python3.11/dist-packages (from aiohttp->datasets>=2.7.1->transformer_lens) (1.5.0)\n",
            "Requirement already satisfied: multidict<7.0,>=4.5 in /usr/local/lib/python3.11/dist-packages (from aiohttp->datasets>=2.7.1->transformer_lens) (6.4.3)\n",
            "Requirement already satisfied: propcache>=0.2.0 in /usr/local/lib/python3.11/dist-packages (from aiohttp->datasets>=2.7.1->transformer_lens) (0.3.1)\n",
            "Requirement already satisfied: yarl<2.0,>=1.17.0 in /usr/local/lib/python3.11/dist-packages (from aiohttp->datasets>=2.7.1->transformer_lens) (1.19.0)\n",
            "Requirement already satisfied: gitdb<5,>=4.0.1 in /usr/local/lib/python3.11/dist-packages (from gitpython!=3.1.29,>=1.0.0->wandb>=0.13.5->transformer_lens) (4.0.12)\n",
            "Requirement already satisfied: mdurl~=0.1 in /usr/local/lib/python3.11/dist-packages (from markdown-it-py>=2.2.0->rich>=12.6.0->transformer_lens) (0.1.2)\n",
            "Requirement already satisfied: annotated-types>=0.6.0 in /usr/local/lib/python3.11/dist-packages (from pydantic<3->wandb>=0.13.5->transformer_lens) (0.7.0)\n",
            "Requirement already satisfied: pydantic-core==2.33.1 in /usr/local/lib/python3.11/dist-packages (from pydantic<3->wandb>=0.13.5->transformer_lens) (2.33.1)\n",
            "Requirement already satisfied: typing-inspection>=0.4.0 in /usr/local/lib/python3.11/dist-packages (from pydantic<3->wandb>=0.13.5->transformer_lens) (0.4.0)\n",
            "Requirement already satisfied: charset-normalizer<4,>=2 in /usr/local/lib/python3.11/dist-packages (from requests>=2.32.2->datasets>=2.7.1->transformer_lens) (3.4.1)\n",
            "Requirement already satisfied: idna<4,>=2.5 in /usr/local/lib/python3.11/dist-packages (from requests>=2.32.2->datasets>=2.7.1->transformer_lens) (3.10)\n",
            "Requirement already satisfied: urllib3<3,>=1.21.1 in /usr/local/lib/python3.11/dist-packages (from requests>=2.32.2->datasets>=2.7.1->transformer_lens) (2.3.0)\n",
            "Requirement already satisfied: certifi>=2017.4.17 in /usr/local/lib/python3.11/dist-packages (from requests>=2.32.2->datasets>=2.7.1->transformer_lens) (2025.1.31)\n",
            "Requirement already satisfied: MarkupSafe>=2.0 in /usr/local/lib/python3.11/dist-packages (from jinja2->torch>=2.2->transformer_lens) (3.0.2)\n",
            "Requirement already satisfied: smmap<6,>=3.0.1 in /usr/local/lib/python3.11/dist-packages (from gitdb<5,>=4.0.1->gitpython!=3.1.29,>=1.0.0->wandb>=0.13.5->transformer_lens) (5.0.2)\n",
            "Requirement already satisfied: circuitsvis in /usr/local/lib/python3.11/dist-packages (1.43.3)\n",
            "Requirement already satisfied: importlib-metadata>=5.1.0 in /usr/local/lib/python3.11/dist-packages (from circuitsvis) (8.6.1)\n",
            "Requirement already satisfied: numpy>=1.24 in /usr/local/lib/python3.11/dist-packages (from circuitsvis) (1.26.4)\n",
            "Requirement already satisfied: torch>=2.1.1 in /usr/local/lib/python3.11/dist-packages (from circuitsvis) (2.6.0+cu124)\n",
            "Requirement already satisfied: zipp>=3.20 in /usr/local/lib/python3.11/dist-packages (from importlib-metadata>=5.1.0->circuitsvis) (3.21.0)\n",
            "Requirement already satisfied: filelock in /usr/local/lib/python3.11/dist-packages (from torch>=2.1.1->circuitsvis) (3.18.0)\n",
            "Requirement already satisfied: typing-extensions>=4.10.0 in /usr/local/lib/python3.11/dist-packages (from torch>=2.1.1->circuitsvis) (4.13.2)\n",
            "Requirement already satisfied: networkx in /usr/local/lib/python3.11/dist-packages (from torch>=2.1.1->circuitsvis) (3.4.2)\n",
            "Requirement already satisfied: jinja2 in /usr/local/lib/python3.11/dist-packages (from torch>=2.1.1->circuitsvis) (3.1.6)\n",
            "Requirement already satisfied: fsspec in /usr/local/lib/python3.11/dist-packages (from torch>=2.1.1->circuitsvis) (2024.6.1)\n",
            "Requirement already satisfied: nvidia-cuda-nvrtc-cu12==12.4.127 in /usr/local/lib/python3.11/dist-packages (from torch>=2.1.1->circuitsvis) (12.4.127)\n",
            "Requirement already satisfied: nvidia-cuda-runtime-cu12==12.4.127 in /usr/local/lib/python3.11/dist-packages (from torch>=2.1.1->circuitsvis) (12.4.127)\n",
            "Requirement already satisfied: nvidia-cuda-cupti-cu12==12.4.127 in /usr/local/lib/python3.11/dist-packages (from torch>=2.1.1->circuitsvis) (12.4.127)\n",
            "Requirement already satisfied: nvidia-cudnn-cu12==9.1.0.70 in /usr/local/lib/python3.11/dist-packages (from torch>=2.1.1->circuitsvis) (9.1.0.70)\n",
            "Requirement already satisfied: nvidia-cublas-cu12==12.4.5.8 in /usr/local/lib/python3.11/dist-packages (from torch>=2.1.1->circuitsvis) (12.4.5.8)\n",
            "Requirement already satisfied: nvidia-cufft-cu12==11.2.1.3 in /usr/local/lib/python3.11/dist-packages (from torch>=2.1.1->circuitsvis) (11.2.1.3)\n",
            "Requirement already satisfied: nvidia-curand-cu12==10.3.5.147 in /usr/local/lib/python3.11/dist-packages (from torch>=2.1.1->circuitsvis) (10.3.5.147)\n",
            "Requirement already satisfied: nvidia-cusolver-cu12==11.6.1.9 in /usr/local/lib/python3.11/dist-packages (from torch>=2.1.1->circuitsvis) (11.6.1.9)\n",
            "Requirement already satisfied: nvidia-cusparse-cu12==12.3.1.170 in /usr/local/lib/python3.11/dist-packages (from torch>=2.1.1->circuitsvis) (12.3.1.170)\n",
            "Requirement already satisfied: nvidia-cusparselt-cu12==0.6.2 in /usr/local/lib/python3.11/dist-packages (from torch>=2.1.1->circuitsvis) (0.6.2)\n",
            "Requirement already satisfied: nvidia-nccl-cu12==2.21.5 in /usr/local/lib/python3.11/dist-packages (from torch>=2.1.1->circuitsvis) (2.21.5)\n",
            "Requirement already satisfied: nvidia-nvtx-cu12==12.4.127 in /usr/local/lib/python3.11/dist-packages (from torch>=2.1.1->circuitsvis) (12.4.127)\n",
            "Requirement already satisfied: nvidia-nvjitlink-cu12==12.4.127 in /usr/local/lib/python3.11/dist-packages (from torch>=2.1.1->circuitsvis) (12.4.127)\n",
            "Requirement already satisfied: triton==3.2.0 in /usr/local/lib/python3.11/dist-packages (from torch>=2.1.1->circuitsvis) (3.2.0)\n",
            "Requirement already satisfied: sympy==1.13.1 in /usr/local/lib/python3.11/dist-packages (from torch>=2.1.1->circuitsvis) (1.13.1)\n",
            "Requirement already satisfied: mpmath<1.4,>=1.1.0 in /usr/local/lib/python3.11/dist-packages (from sympy==1.13.1->torch>=2.1.1->circuitsvis) (1.3.0)\n",
            "Requirement already satisfied: MarkupSafe>=2.0 in /usr/local/lib/python3.11/dist-packages (from jinja2->torch>=2.1.1->circuitsvis) (3.0.2)\n",
            "Requirement already satisfied: sae-lens in /usr/local/lib/python3.11/dist-packages (5.9.1)\n",
            "Requirement already satisfied: automated-interpretability<1.0.0,>=0.0.5 in /usr/local/lib/python3.11/dist-packages (from sae-lens) (0.0.9)\n",
            "Requirement already satisfied: babe<0.0.8,>=0.0.7 in /usr/local/lib/python3.11/dist-packages (from sae-lens) (0.0.7)\n",
            "Requirement already satisfied: datasets<3.0.0,>=2.17.1 in /usr/local/lib/python3.11/dist-packages (from sae-lens) (2.21.0)\n",
            "Requirement already satisfied: matplotlib<4.0.0,>=3.8.3 in /usr/local/lib/python3.11/dist-packages (from sae-lens) (3.10.0)\n",
            "Requirement already satisfied: matplotlib-inline<0.2.0,>=0.1.6 in /usr/local/lib/python3.11/dist-packages (from sae-lens) (0.1.7)\n",
            "Requirement already satisfied: nltk<4.0.0,>=3.8.1 in /usr/local/lib/python3.11/dist-packages (from sae-lens) (3.9.1)\n",
            "Requirement already satisfied: plotly<6.0.0,>=5.19.0 in /usr/local/lib/python3.11/dist-packages (from sae-lens) (5.24.1)\n",
            "Requirement already satisfied: plotly-express<0.5.0,>=0.4.1 in /usr/local/lib/python3.11/dist-packages (from sae-lens) (0.4.1)\n",
            "Requirement already satisfied: pytest-profiling<2.0.0,>=1.7.0 in /usr/local/lib/python3.11/dist-packages (from sae-lens) (1.8.1)\n",
            "Requirement already satisfied: python-dotenv<2.0.0,>=1.0.1 in /usr/local/lib/python3.11/dist-packages (from sae-lens) (1.1.0)\n",
            "Requirement already satisfied: pyyaml<7.0.0,>=6.0.1 in /usr/local/lib/python3.11/dist-packages (from sae-lens) (6.0.2)\n",
            "Requirement already satisfied: pyzmq==26.0.0 in /usr/local/lib/python3.11/dist-packages (from sae-lens) (26.0.0)\n",
            "Requirement already satisfied: safetensors<0.5.0,>=0.4.2 in /usr/local/lib/python3.11/dist-packages (from sae-lens) (0.4.5)\n",
            "Requirement already satisfied: simple-parsing<0.2.0,>=0.1.6 in /usr/local/lib/python3.11/dist-packages (from sae-lens) (0.1.7)\n",
            "Requirement already satisfied: transformer-lens<3.0.0,>=2.0.0 in /usr/local/lib/python3.11/dist-packages (from sae-lens) (2.15.0)\n",
            "Requirement already satisfied: transformers<5.0.0,>=4.38.1 in /usr/local/lib/python3.11/dist-packages (from sae-lens) (4.51.3)\n",
            "Requirement already satisfied: typer<0.13.0,>=0.12.3 in /usr/local/lib/python3.11/dist-packages (from sae-lens) (0.12.5)\n",
            "Requirement already satisfied: typing-extensions<5.0.0,>=4.10.0 in /usr/local/lib/python3.11/dist-packages (from sae-lens) (4.13.2)\n",
            "Requirement already satisfied: zstandard<0.23.0,>=0.22.0 in /usr/local/lib/python3.11/dist-packages (from sae-lens) (0.22.0)\n",
            "Requirement already satisfied: blobfile<3.0.0,>=2.1.1 in /usr/local/lib/python3.11/dist-packages (from automated-interpretability<1.0.0,>=0.0.5->sae-lens) (2.1.1)\n",
            "Requirement already satisfied: boostedblob<0.16.0,>=0.15.3 in /usr/local/lib/python3.11/dist-packages (from automated-interpretability<1.0.0,>=0.0.5->sae-lens) (0.15.6)\n",
            "Requirement already satisfied: httpx<0.28.0,>=0.27.0 in /usr/local/lib/python3.11/dist-packages (from automated-interpretability<1.0.0,>=0.0.5->sae-lens) (0.27.2)\n",
            "Requirement already satisfied: numpy<2.0.0,>=1.24.0 in /usr/local/lib/python3.11/dist-packages (from automated-interpretability<1.0.0,>=0.0.5->sae-lens) (1.26.4)\n",
            "Requirement already satisfied: orjson<4.0.0,>=3.10.1 in /usr/local/lib/python3.11/dist-packages (from automated-interpretability<1.0.0,>=0.0.5->sae-lens) (3.10.16)\n",
            "Requirement already satisfied: scikit-learn<2.0.0,>=1.2.0 in /usr/local/lib/python3.11/dist-packages (from automated-interpretability<1.0.0,>=0.0.5->sae-lens) (1.6.1)\n",
            "Requirement already satisfied: tiktoken>=0.6.0 in /usr/local/lib/python3.11/dist-packages (from automated-interpretability<1.0.0,>=0.0.5->sae-lens) (0.9.0)\n",
            "Requirement already satisfied: pandas in /usr/local/lib/python3.11/dist-packages (from babe<0.0.8,>=0.0.7->sae-lens) (2.2.2)\n",
            "Requirement already satisfied: py2store in /usr/local/lib/python3.11/dist-packages (from babe<0.0.8,>=0.0.7->sae-lens) (0.1.20)\n",
            "Requirement already satisfied: graze in /usr/local/lib/python3.11/dist-packages (from babe<0.0.8,>=0.0.7->sae-lens) (0.1.29)\n",
            "Requirement already satisfied: filelock in /usr/local/lib/python3.11/dist-packages (from datasets<3.0.0,>=2.17.1->sae-lens) (3.18.0)\n",
            "Requirement already satisfied: pyarrow>=15.0.0 in /usr/local/lib/python3.11/dist-packages (from datasets<3.0.0,>=2.17.1->sae-lens) (18.1.0)\n",
            "Requirement already satisfied: dill<0.3.9,>=0.3.0 in /usr/local/lib/python3.11/dist-packages (from datasets<3.0.0,>=2.17.1->sae-lens) (0.3.8)\n",
            "Requirement already satisfied: requests>=2.32.2 in /usr/local/lib/python3.11/dist-packages (from datasets<3.0.0,>=2.17.1->sae-lens) (2.32.3)\n",
            "Requirement already satisfied: tqdm>=4.66.3 in /usr/local/lib/python3.11/dist-packages (from datasets<3.0.0,>=2.17.1->sae-lens) (4.67.1)\n",
            "Requirement already satisfied: xxhash in /usr/local/lib/python3.11/dist-packages (from datasets<3.0.0,>=2.17.1->sae-lens) (3.5.0)\n",
            "Requirement already satisfied: multiprocess in /usr/local/lib/python3.11/dist-packages (from datasets<3.0.0,>=2.17.1->sae-lens) (0.70.16)\n",
            "Requirement already satisfied: fsspec<=2024.6.1,>=2023.1.0 in /usr/local/lib/python3.11/dist-packages (from fsspec[http]<=2024.6.1,>=2023.1.0->datasets<3.0.0,>=2.17.1->sae-lens) (2024.6.1)\n",
            "Requirement already satisfied: aiohttp in /usr/local/lib/python3.11/dist-packages (from datasets<3.0.0,>=2.17.1->sae-lens) (3.11.15)\n",
            "Requirement already satisfied: huggingface-hub>=0.21.2 in /usr/local/lib/python3.11/dist-packages (from datasets<3.0.0,>=2.17.1->sae-lens) (0.30.2)\n",
            "Requirement already satisfied: packaging in /usr/local/lib/python3.11/dist-packages (from datasets<3.0.0,>=2.17.1->sae-lens) (24.2)\n",
            "Requirement already satisfied: contourpy>=1.0.1 in /usr/local/lib/python3.11/dist-packages (from matplotlib<4.0.0,>=3.8.3->sae-lens) (1.3.2)\n",
            "Requirement already satisfied: cycler>=0.10 in /usr/local/lib/python3.11/dist-packages (from matplotlib<4.0.0,>=3.8.3->sae-lens) (0.12.1)\n",
            "Requirement already satisfied: fonttools>=4.22.0 in /usr/local/lib/python3.11/dist-packages (from matplotlib<4.0.0,>=3.8.3->sae-lens) (4.57.0)\n",
            "Requirement already satisfied: kiwisolver>=1.3.1 in /usr/local/lib/python3.11/dist-packages (from matplotlib<4.0.0,>=3.8.3->sae-lens) (1.4.8)\n",
            "Requirement already satisfied: pillow>=8 in /usr/local/lib/python3.11/dist-packages (from matplotlib<4.0.0,>=3.8.3->sae-lens) (11.1.0)\n",
            "Requirement already satisfied: pyparsing>=2.3.1 in /usr/local/lib/python3.11/dist-packages (from matplotlib<4.0.0,>=3.8.3->sae-lens) (3.2.3)\n",
            "Requirement already satisfied: python-dateutil>=2.7 in /usr/local/lib/python3.11/dist-packages (from matplotlib<4.0.0,>=3.8.3->sae-lens) (2.8.2)\n",
            "Requirement already satisfied: traitlets in /usr/local/lib/python3.11/dist-packages (from matplotlib-inline<0.2.0,>=0.1.6->sae-lens) (5.7.1)\n",
            "Requirement already satisfied: click in /usr/local/lib/python3.11/dist-packages (from nltk<4.0.0,>=3.8.1->sae-lens) (8.1.8)\n",
            "Requirement already satisfied: joblib in /usr/local/lib/python3.11/dist-packages (from nltk<4.0.0,>=3.8.1->sae-lens) (1.4.2)\n",
            "Requirement already satisfied: regex>=2021.8.3 in /usr/local/lib/python3.11/dist-packages (from nltk<4.0.0,>=3.8.1->sae-lens) (2024.11.6)\n",
            "Requirement already satisfied: tenacity>=6.2.0 in /usr/local/lib/python3.11/dist-packages (from plotly<6.0.0,>=5.19.0->sae-lens) (9.1.2)\n",
            "Requirement already satisfied: statsmodels>=0.9.0 in /usr/local/lib/python3.11/dist-packages (from plotly-express<0.5.0,>=0.4.1->sae-lens) (0.14.4)\n",
            "Requirement already satisfied: scipy>=0.18 in /usr/local/lib/python3.11/dist-packages (from plotly-express<0.5.0,>=0.4.1->sae-lens) (1.14.1)\n",
            "Requirement already satisfied: patsy>=0.5 in /usr/local/lib/python3.11/dist-packages (from plotly-express<0.5.0,>=0.4.1->sae-lens) (1.0.1)\n",
            "Requirement already satisfied: six in /usr/local/lib/python3.11/dist-packages (from pytest-profiling<2.0.0,>=1.7.0->sae-lens) (1.17.0)\n",
            "Requirement already satisfied: pytest in /usr/local/lib/python3.11/dist-packages (from pytest-profiling<2.0.0,>=1.7.0->sae-lens) (8.3.5)\n",
            "Requirement already satisfied: gprof2dot in /usr/local/lib/python3.11/dist-packages (from pytest-profiling<2.0.0,>=1.7.0->sae-lens) (2025.4.14)\n",
            "Requirement already satisfied: docstring-parser<1.0,>=0.15 in /usr/local/lib/python3.11/dist-packages (from simple-parsing<0.2.0,>=0.1.6->sae-lens) (0.16)\n",
            "Requirement already satisfied: accelerate>=0.23.0 in /usr/local/lib/python3.11/dist-packages (from transformer-lens<3.0.0,>=2.0.0->sae-lens) (1.5.2)\n",
            "Requirement already satisfied: beartype<0.15.0,>=0.14.1 in /usr/local/lib/python3.11/dist-packages (from transformer-lens<3.0.0,>=2.0.0->sae-lens) (0.14.1)\n",
            "Requirement already satisfied: better-abc<0.0.4,>=0.0.3 in /usr/local/lib/python3.11/dist-packages (from transformer-lens<3.0.0,>=2.0.0->sae-lens) (0.0.3)\n",
            "Requirement already satisfied: einops>=0.6.0 in /usr/local/lib/python3.11/dist-packages (from transformer-lens<3.0.0,>=2.0.0->sae-lens) (0.8.1)\n",
            "Requirement already satisfied: fancy-einsum>=0.0.3 in /usr/local/lib/python3.11/dist-packages (from transformer-lens<3.0.0,>=2.0.0->sae-lens) (0.0.3)\n",
            "Requirement already satisfied: jaxtyping>=0.2.11 in /usr/local/lib/python3.11/dist-packages (from transformer-lens<3.0.0,>=2.0.0->sae-lens) (0.3.1)\n",
            "Requirement already satisfied: rich>=12.6.0 in /usr/local/lib/python3.11/dist-packages (from transformer-lens<3.0.0,>=2.0.0->sae-lens) (13.9.4)\n",
            "Requirement already satisfied: sentencepiece in /usr/local/lib/python3.11/dist-packages (from transformer-lens<3.0.0,>=2.0.0->sae-lens) (0.2.0)\n",
            "Requirement already satisfied: torch>=2.2 in /usr/local/lib/python3.11/dist-packages (from transformer-lens<3.0.0,>=2.0.0->sae-lens) (2.6.0+cu124)\n",
            "Requirement already satisfied: transformers-stream-generator<0.0.6,>=0.0.5 in /usr/local/lib/python3.11/dist-packages (from transformer-lens<3.0.0,>=2.0.0->sae-lens) (0.0.5)\n",
            "Requirement already satisfied: typeguard<5.0,>=4.2 in /usr/local/lib/python3.11/dist-packages (from transformer-lens<3.0.0,>=2.0.0->sae-lens) (4.4.2)\n",
            "Requirement already satisfied: wandb>=0.13.5 in /usr/local/lib/python3.11/dist-packages (from transformer-lens<3.0.0,>=2.0.0->sae-lens) (0.19.9)\n",
            "Requirement already satisfied: tokenizers<0.22,>=0.21 in /usr/local/lib/python3.11/dist-packages (from transformers<5.0.0,>=4.38.1->sae-lens) (0.21.1)\n",
            "Requirement already satisfied: shellingham>=1.3.0 in /usr/local/lib/python3.11/dist-packages (from typer<0.13.0,>=0.12.3->sae-lens) (1.5.4)\n",
            "Requirement already satisfied: psutil in /usr/local/lib/python3.11/dist-packages (from accelerate>=0.23.0->transformer-lens<3.0.0,>=2.0.0->sae-lens) (5.9.5)\n",
            "Requirement already satisfied: pycryptodomex~=3.8 in /usr/local/lib/python3.11/dist-packages (from blobfile<3.0.0,>=2.1.1->automated-interpretability<1.0.0,>=0.0.5->sae-lens) (3.22.0)\n",
            "Requirement already satisfied: urllib3<3,>=1.25.3 in /usr/local/lib/python3.11/dist-packages (from blobfile<3.0.0,>=2.1.1->automated-interpretability<1.0.0,>=0.0.5->sae-lens) (2.3.0)\n",
            "Requirement already satisfied: lxml~=4.9 in /usr/local/lib/python3.11/dist-packages (from blobfile<3.0.0,>=2.1.1->automated-interpretability<1.0.0,>=0.0.5->sae-lens) (4.9.4)\n",
            "Requirement already satisfied: uvloop>=0.16.0 in /usr/local/lib/python3.11/dist-packages (from boostedblob<0.16.0,>=0.15.3->automated-interpretability<1.0.0,>=0.0.5->sae-lens) (0.21.0)\n",
            "Requirement already satisfied: aiohappyeyeballs>=2.3.0 in /usr/local/lib/python3.11/dist-packages (from aiohttp->datasets<3.0.0,>=2.17.1->sae-lens) (2.6.1)\n",
            "Requirement already satisfied: aiosignal>=1.1.2 in /usr/local/lib/python3.11/dist-packages (from aiohttp->datasets<3.0.0,>=2.17.1->sae-lens) (1.3.2)\n",
            "Requirement already satisfied: attrs>=17.3.0 in /usr/local/lib/python3.11/dist-packages (from aiohttp->datasets<3.0.0,>=2.17.1->sae-lens) (25.3.0)\n",
            "Requirement already satisfied: frozenlist>=1.1.1 in /usr/local/lib/python3.11/dist-packages (from aiohttp->datasets<3.0.0,>=2.17.1->sae-lens) (1.5.0)\n",
            "Requirement already satisfied: multidict<7.0,>=4.5 in /usr/local/lib/python3.11/dist-packages (from aiohttp->datasets<3.0.0,>=2.17.1->sae-lens) (6.4.3)\n",
            "Requirement already satisfied: propcache>=0.2.0 in /usr/local/lib/python3.11/dist-packages (from aiohttp->datasets<3.0.0,>=2.17.1->sae-lens) (0.3.1)\n",
            "Requirement already satisfied: yarl<2.0,>=1.17.0 in /usr/local/lib/python3.11/dist-packages (from aiohttp->datasets<3.0.0,>=2.17.1->sae-lens) (1.19.0)\n",
            "Requirement already satisfied: anyio in /usr/local/lib/python3.11/dist-packages (from httpx<0.28.0,>=0.27.0->automated-interpretability<1.0.0,>=0.0.5->sae-lens) (4.9.0)\n",
            "Requirement already satisfied: certifi in /usr/local/lib/python3.11/dist-packages (from httpx<0.28.0,>=0.27.0->automated-interpretability<1.0.0,>=0.0.5->sae-lens) (2025.1.31)\n",
            "Requirement already satisfied: httpcore==1.* in /usr/local/lib/python3.11/dist-packages (from httpx<0.28.0,>=0.27.0->automated-interpretability<1.0.0,>=0.0.5->sae-lens) (1.0.8)\n",
            "Requirement already satisfied: idna in /usr/local/lib/python3.11/dist-packages (from httpx<0.28.0,>=0.27.0->automated-interpretability<1.0.0,>=0.0.5->sae-lens) (3.10)\n",
            "Requirement already satisfied: sniffio in /usr/local/lib/python3.11/dist-packages (from httpx<0.28.0,>=0.27.0->automated-interpretability<1.0.0,>=0.0.5->sae-lens) (1.3.1)\n",
            "Requirement already satisfied: h11<0.15,>=0.13 in /usr/local/lib/python3.11/dist-packages (from httpcore==1.*->httpx<0.28.0,>=0.27.0->automated-interpretability<1.0.0,>=0.0.5->sae-lens) (0.14.0)\n",
            "Requirement already satisfied: wadler-lindig>=0.1.3 in /usr/local/lib/python3.11/dist-packages (from jaxtyping>=0.2.11->transformer-lens<3.0.0,>=2.0.0->sae-lens) (0.1.5)\n",
            "Requirement already satisfied: pytz>=2020.1 in /usr/local/lib/python3.11/dist-packages (from pandas->babe<0.0.8,>=0.0.7->sae-lens) (2025.2)\n",
            "Requirement already satisfied: tzdata>=2022.7 in /usr/local/lib/python3.11/dist-packages (from pandas->babe<0.0.8,>=0.0.7->sae-lens) (2025.2)\n",
            "Requirement already satisfied: charset-normalizer<4,>=2 in /usr/local/lib/python3.11/dist-packages (from requests>=2.32.2->datasets<3.0.0,>=2.17.1->sae-lens) (3.4.1)\n",
            "Requirement already satisfied: markdown-it-py>=2.2.0 in /usr/local/lib/python3.11/dist-packages (from rich>=12.6.0->transformer-lens<3.0.0,>=2.0.0->sae-lens) (3.0.0)\n",
            "Requirement already satisfied: pygments<3.0.0,>=2.13.0 in /usr/local/lib/python3.11/dist-packages (from rich>=12.6.0->transformer-lens<3.0.0,>=2.0.0->sae-lens) (2.18.0)\n",
            "Requirement already satisfied: threadpoolctl>=3.1.0 in /usr/local/lib/python3.11/dist-packages (from scikit-learn<2.0.0,>=1.2.0->automated-interpretability<1.0.0,>=0.0.5->sae-lens) (3.6.0)\n",
            "Requirement already satisfied: networkx in /usr/local/lib/python3.11/dist-packages (from torch>=2.2->transformer-lens<3.0.0,>=2.0.0->sae-lens) (3.4.2)\n",
            "Requirement already satisfied: jinja2 in /usr/local/lib/python3.11/dist-packages (from torch>=2.2->transformer-lens<3.0.0,>=2.0.0->sae-lens) (3.1.6)\n",
            "Requirement already satisfied: nvidia-cuda-nvrtc-cu12==12.4.127 in /usr/local/lib/python3.11/dist-packages (from torch>=2.2->transformer-lens<3.0.0,>=2.0.0->sae-lens) (12.4.127)\n",
            "Requirement already satisfied: nvidia-cuda-runtime-cu12==12.4.127 in /usr/local/lib/python3.11/dist-packages (from torch>=2.2->transformer-lens<3.0.0,>=2.0.0->sae-lens) (12.4.127)\n",
            "Requirement already satisfied: nvidia-cuda-cupti-cu12==12.4.127 in /usr/local/lib/python3.11/dist-packages (from torch>=2.2->transformer-lens<3.0.0,>=2.0.0->sae-lens) (12.4.127)\n",
            "Requirement already satisfied: nvidia-cudnn-cu12==9.1.0.70 in /usr/local/lib/python3.11/dist-packages (from torch>=2.2->transformer-lens<3.0.0,>=2.0.0->sae-lens) (9.1.0.70)\n",
            "Requirement already satisfied: nvidia-cublas-cu12==12.4.5.8 in /usr/local/lib/python3.11/dist-packages (from torch>=2.2->transformer-lens<3.0.0,>=2.0.0->sae-lens) (12.4.5.8)\n",
            "Requirement already satisfied: nvidia-cufft-cu12==11.2.1.3 in /usr/local/lib/python3.11/dist-packages (from torch>=2.2->transformer-lens<3.0.0,>=2.0.0->sae-lens) (11.2.1.3)\n",
            "Requirement already satisfied: nvidia-curand-cu12==10.3.5.147 in /usr/local/lib/python3.11/dist-packages (from torch>=2.2->transformer-lens<3.0.0,>=2.0.0->sae-lens) (10.3.5.147)\n",
            "Requirement already satisfied: nvidia-cusolver-cu12==11.6.1.9 in /usr/local/lib/python3.11/dist-packages (from torch>=2.2->transformer-lens<3.0.0,>=2.0.0->sae-lens) (11.6.1.9)\n",
            "Requirement already satisfied: nvidia-cusparse-cu12==12.3.1.170 in /usr/local/lib/python3.11/dist-packages (from torch>=2.2->transformer-lens<3.0.0,>=2.0.0->sae-lens) (12.3.1.170)\n",
            "Requirement already satisfied: nvidia-cusparselt-cu12==0.6.2 in /usr/local/lib/python3.11/dist-packages (from torch>=2.2->transformer-lens<3.0.0,>=2.0.0->sae-lens) (0.6.2)\n",
            "Requirement already satisfied: nvidia-nccl-cu12==2.21.5 in /usr/local/lib/python3.11/dist-packages (from torch>=2.2->transformer-lens<3.0.0,>=2.0.0->sae-lens) (2.21.5)\n",
            "Requirement already satisfied: nvidia-nvtx-cu12==12.4.127 in /usr/local/lib/python3.11/dist-packages (from torch>=2.2->transformer-lens<3.0.0,>=2.0.0->sae-lens) (12.4.127)\n",
            "Requirement already satisfied: nvidia-nvjitlink-cu12==12.4.127 in /usr/local/lib/python3.11/dist-packages (from torch>=2.2->transformer-lens<3.0.0,>=2.0.0->sae-lens) (12.4.127)\n",
            "Requirement already satisfied: triton==3.2.0 in /usr/local/lib/python3.11/dist-packages (from torch>=2.2->transformer-lens<3.0.0,>=2.0.0->sae-lens) (3.2.0)\n",
            "Requirement already satisfied: sympy==1.13.1 in /usr/local/lib/python3.11/dist-packages (from torch>=2.2->transformer-lens<3.0.0,>=2.0.0->sae-lens) (1.13.1)\n",
            "Requirement already satisfied: mpmath<1.4,>=1.1.0 in /usr/local/lib/python3.11/dist-packages (from sympy==1.13.1->torch>=2.2->transformer-lens<3.0.0,>=2.0.0->sae-lens) (1.3.0)\n",
            "Requirement already satisfied: docker-pycreds>=0.4.0 in /usr/local/lib/python3.11/dist-packages (from wandb>=0.13.5->transformer-lens<3.0.0,>=2.0.0->sae-lens) (0.4.0)\n",
            "Requirement already satisfied: gitpython!=3.1.29,>=1.0.0 in /usr/local/lib/python3.11/dist-packages (from wandb>=0.13.5->transformer-lens<3.0.0,>=2.0.0->sae-lens) (3.1.44)\n",
            "Requirement already satisfied: platformdirs in /usr/local/lib/python3.11/dist-packages (from wandb>=0.13.5->transformer-lens<3.0.0,>=2.0.0->sae-lens) (4.3.7)\n",
            "Requirement already satisfied: protobuf!=4.21.0,!=5.28.0,<6,>=3.19.0 in /usr/local/lib/python3.11/dist-packages (from wandb>=0.13.5->transformer-lens<3.0.0,>=2.0.0->sae-lens) (5.29.4)\n",
            "Requirement already satisfied: pydantic<3 in /usr/local/lib/python3.11/dist-packages (from wandb>=0.13.5->transformer-lens<3.0.0,>=2.0.0->sae-lens) (2.11.3)\n",
            "Requirement already satisfied: sentry-sdk>=2.0.0 in /usr/local/lib/python3.11/dist-packages (from wandb>=0.13.5->transformer-lens<3.0.0,>=2.0.0->sae-lens) (2.26.1)\n",
            "Requirement already satisfied: setproctitle in /usr/local/lib/python3.11/dist-packages (from wandb>=0.13.5->transformer-lens<3.0.0,>=2.0.0->sae-lens) (1.3.5)\n",
            "Requirement already satisfied: setuptools in /usr/local/lib/python3.11/dist-packages (from wandb>=0.13.5->transformer-lens<3.0.0,>=2.0.0->sae-lens) (75.2.0)\n",
            "Requirement already satisfied: dol in /usr/local/lib/python3.11/dist-packages (from graze->babe<0.0.8,>=0.0.7->sae-lens) (0.3.16)\n",
            "Requirement already satisfied: config2py in /usr/local/lib/python3.11/dist-packages (from py2store->babe<0.0.8,>=0.0.7->sae-lens) (0.1.37)\n",
            "Requirement already satisfied: importlib-resources in /usr/local/lib/python3.11/dist-packages (from py2store->babe<0.0.8,>=0.0.7->sae-lens) (6.5.2)\n",
            "Requirement already satisfied: iniconfig in /usr/local/lib/python3.11/dist-packages (from pytest->pytest-profiling<2.0.0,>=1.7.0->sae-lens) (2.1.0)\n",
            "Requirement already satisfied: pluggy<2,>=1.5 in /usr/local/lib/python3.11/dist-packages (from pytest->pytest-profiling<2.0.0,>=1.7.0->sae-lens) (1.5.0)\n",
            "Requirement already satisfied: gitdb<5,>=4.0.1 in /usr/local/lib/python3.11/dist-packages (from gitpython!=3.1.29,>=1.0.0->wandb>=0.13.5->transformer-lens<3.0.0,>=2.0.0->sae-lens) (4.0.12)\n",
            "Requirement already satisfied: mdurl~=0.1 in /usr/local/lib/python3.11/dist-packages (from markdown-it-py>=2.2.0->rich>=12.6.0->transformer-lens<3.0.0,>=2.0.0->sae-lens) (0.1.2)\n",
            "Requirement already satisfied: annotated-types>=0.6.0 in /usr/local/lib/python3.11/dist-packages (from pydantic<3->wandb>=0.13.5->transformer-lens<3.0.0,>=2.0.0->sae-lens) (0.7.0)\n",
            "Requirement already satisfied: pydantic-core==2.33.1 in /usr/local/lib/python3.11/dist-packages (from pydantic<3->wandb>=0.13.5->transformer-lens<3.0.0,>=2.0.0->sae-lens) (2.33.1)\n",
            "Requirement already satisfied: typing-inspection>=0.4.0 in /usr/local/lib/python3.11/dist-packages (from pydantic<3->wandb>=0.13.5->transformer-lens<3.0.0,>=2.0.0->sae-lens) (0.4.0)\n",
            "Requirement already satisfied: i2 in /usr/local/lib/python3.11/dist-packages (from config2py->py2store->babe<0.0.8,>=0.0.7->sae-lens) (0.1.46)\n",
            "Requirement already satisfied: MarkupSafe>=2.0 in /usr/local/lib/python3.11/dist-packages (from jinja2->torch>=2.2->transformer-lens<3.0.0,>=2.0.0->sae-lens) (3.0.2)\n",
            "Requirement already satisfied: smmap<6,>=3.0.1 in /usr/local/lib/python3.11/dist-packages (from gitdb<5,>=4.0.1->gitpython!=3.1.29,>=1.0.0->wandb>=0.13.5->transformer-lens<3.0.0,>=2.0.0->sae-lens) (5.0.2)\n",
            "Requirement already satisfied: pandas in /usr/local/lib/python3.11/dist-packages (2.2.2)\n",
            "Requirement already satisfied: numpy>=1.23.2 in /usr/local/lib/python3.11/dist-packages (from pandas) (1.26.4)\n",
            "Requirement already satisfied: python-dateutil>=2.8.2 in /usr/local/lib/python3.11/dist-packages (from pandas) (2.8.2)\n",
            "Requirement already satisfied: pytz>=2020.1 in /usr/local/lib/python3.11/dist-packages (from pandas) (2025.2)\n",
            "Requirement already satisfied: tzdata>=2022.7 in /usr/local/lib/python3.11/dist-packages (from pandas) (2025.2)\n",
            "Requirement already satisfied: six>=1.5 in /usr/local/lib/python3.11/dist-packages (from python-dateutil>=2.8.2->pandas) (1.17.0)\n",
            "Found existing installation: numpy 1.26.4\n",
            "Uninstalling numpy-1.26.4:\n",
            "  Successfully uninstalled numpy-1.26.4\n",
            "Collecting numpy==1.26.4\n",
            "  Using cached numpy-1.26.4-cp311-cp311-manylinux_2_17_x86_64.manylinux2014_x86_64.whl.metadata (61 kB)\n",
            "Using cached numpy-1.26.4-cp311-cp311-manylinux_2_17_x86_64.manylinux2014_x86_64.whl (18.3 MB)\n",
            "Installing collected packages: numpy\n",
            "\u001b[31mERROR: pip's dependency resolver does not currently take into account all the packages that are installed. This behaviour is the source of the following dependency conflicts.\n",
            "thinc 8.3.6 requires numpy<3.0.0,>=2.0.0, but you have numpy 1.26.4 which is incompatible.\u001b[0m\u001b[31m\n",
            "\u001b[0mSuccessfully installed numpy-1.26.4\n",
            "\u001b[38;5;79m2025-04-23 00:14:24 - Installing pre-requisites\u001b[0m\n",
            "Hit:1 http://archive.ubuntu.com/ubuntu jammy InRelease\n",
            "Hit:2 http://archive.ubuntu.com/ubuntu jammy-updates InRelease\n",
            "Hit:3 http://archive.ubuntu.com/ubuntu jammy-backports InRelease\n",
            "Hit:4 https://cloud.r-project.org/bin/linux/ubuntu jammy-cran40/ InRelease\n",
            "Hit:5 https://developer.download.nvidia.com/compute/cuda/repos/ubuntu2204/x86_64  InRelease\n",
            "Hit:6 https://deb.nodesource.com/node_21.x nodistro InRelease\n",
            "Hit:7 https://ppa.launchpadcontent.net/deadsnakes/ppa/ubuntu jammy InRelease\n",
            "Hit:8 https://ppa.launchpadcontent.net/graphics-drivers/ppa/ubuntu jammy InRelease\n",
            "Hit:9 https://ppa.launchpadcontent.net/ubuntugis/ppa/ubuntu jammy InRelease\n",
            "Hit:10 http://security.ubuntu.com/ubuntu jammy-security InRelease\n",
            "Hit:11 https://r2u.stat.illinois.edu/ubuntu jammy InRelease\n",
            "Reading package lists... Done\n",
            "W: Skipping acquire of configured file 'main/source/Sources' as repository 'https://r2u.stat.illinois.edu/ubuntu jammy InRelease' does not seem to provide it (sources.list entry misspelt?)\n",
            "Reading package lists... Done\n",
            "Building dependency tree... Done\n",
            "Reading state information... Done\n",
            "ca-certificates is already the newest version (20240203~22.04.1).\n",
            "curl is already the newest version (7.81.0-1ubuntu1.20).\n",
            "gnupg is already the newest version (2.2.27-3ubuntu2.3).\n",
            "apt-transport-https is already the newest version (2.4.13).\n",
            "0 upgraded, 0 newly installed, 0 to remove and 35 not upgraded.\n",
            "Hit:1 http://archive.ubuntu.com/ubuntu jammy InRelease\n",
            "Hit:2 http://archive.ubuntu.com/ubuntu jammy-updates InRelease\n",
            "Hit:3 http://archive.ubuntu.com/ubuntu jammy-backports InRelease\n",
            "Hit:4 https://cloud.r-project.org/bin/linux/ubuntu jammy-cran40/ InRelease\n",
            "Hit:5 https://developer.download.nvidia.com/compute/cuda/repos/ubuntu2204/x86_64  InRelease\n",
            "Hit:6 https://deb.nodesource.com/node_21.x nodistro InRelease\n",
            "Hit:7 https://ppa.launchpadcontent.net/deadsnakes/ppa/ubuntu jammy InRelease\n",
            "Hit:8 https://ppa.launchpadcontent.net/graphics-drivers/ppa/ubuntu jammy InRelease\n",
            "Hit:9 http://security.ubuntu.com/ubuntu jammy-security InRelease\n",
            "Hit:10 https://ppa.launchpadcontent.net/ubuntugis/ppa/ubuntu jammy InRelease\n",
            "Hit:11 https://r2u.stat.illinois.edu/ubuntu jammy InRelease\n",
            "Reading package lists... Done\n",
            "W: Skipping acquire of configured file 'main/source/Sources' as repository 'https://r2u.stat.illinois.edu/ubuntu jammy InRelease' does not seem to provide it (sources.list entry misspelt?)\n",
            "\u001b[1;34m2025-04-23 00:14:32 - Repository configured successfully.\u001b[0m\n",
            "\u001b[38;5;79m2025-04-23 00:14:32 - To install Node.js, run: apt-get install nodejs -y\u001b[0m\n",
            "\u001b[38;5;79m2025-04-23 00:14:32 - You can use N|solid Runtime as a node.js alternative\u001b[0m\n",
            "\u001b[1;32m2025-04-23 00:14:32 - To install N|solid Runtime, run: apt-get install nsolid -y \n",
            "\u001b[0m\n",
            "Reading package lists... Done\n",
            "Building dependency tree... Done\n",
            "Reading state information... Done\n",
            "nodejs is already the newest version (21.7.3-1nodesource1).\n",
            "0 upgraded, 0 newly installed, 0 to remove and 35 not upgraded.\n"
          ]
        }
      ],
      "source": [
        "!pip install transformer_lens\n",
        "!pip install circuitsvis\n",
        "!pip install sae-lens\n",
        "!pip install pandas\n",
        "!pip uninstall -y numpy\n",
        "!pip install numpy==1.26.4 # Newer numpy versions have dependency conflicts with pandas\n",
        "# Install a faster Node version\n",
        "!curl -fsSL https://deb.nodesource.com/setup_21.x | sudo -E bash -; sudo apt-get install -y nodejs  # noqa"
      ]
    },
    {
      "cell_type": "markdown",
      "metadata": {
        "id": "XVh5K6ipJLuI"
      },
      "source": [
        "### Imports"
      ]
    },
    {
      "cell_type": "markdown",
      "metadata": {
        "id": "uGjQp1n26Oi5"
      },
      "source": [
        "**Important Note**: Sometimes numpy fails to use the specified version (v1.26.4) after being imported, which causes an error when importing the rest of the libraries due to dependency conflicts.  If the following doesn't print '1.26.4', then restart session via: 'Runtime' --> 'Restart Session' to fix the issue."
      ]
    },
    {
      "cell_type": "code",
      "execution_count": 2,
      "metadata": {
        "colab": {
          "base_uri": "https://localhost:8080/"
        },
        "id": "3HbZzxjkswfF",
        "outputId": "5ad4edb3-9713-4417-f4d8-50a9e948f301"
      },
      "outputs": [
        {
          "output_type": "stream",
          "name": "stdout",
          "text": [
            "1.26.4\n"
          ]
        }
      ],
      "source": [
        "import numpy as np\n",
        "print(np.__version__) # Should be 1.26.4\n",
        "assert np.__version__ == '1.26.4'"
      ]
    },
    {
      "cell_type": "markdown",
      "metadata": {
        "id": "tglJItx26_7k"
      },
      "source": [
        "The above block should have printed '1.26.4'.  If not, then restart session via 'Runtime' --> 'Restart Session'.  Else, continue.\n",
        "\n"
      ]
    },
    {
      "cell_type": "code",
      "execution_count": 3,
      "metadata": {
        "id": "ic3k-QimJLuI"
      },
      "outputs": [],
      "source": [
        "import torch\n",
        "import scipy\n",
        "import matplotlib.pyplot as plt\n",
        "from tqdm import tqdm\n",
        "from datasets import load_dataset\n",
        "import transformer_lens.utils as utils\n",
        "from transformer_lens import ActivationCache, HookedTransformer\n",
        "from sae_lens import SAE"
      ]
    },
    {
      "cell_type": "markdown",
      "metadata": {
        "id": "pS_uS8JrJLuJ"
      },
      "source": [
        "### PyTorch Setup"
      ]
    },
    {
      "cell_type": "markdown",
      "metadata": {
        "id": "UstZBo73JLuJ"
      },
      "source": [
        "We turn automatic differentiation off, to save GPU memory, as this notebook focuses on model inference not model training."
      ]
    },
    {
      "cell_type": "code",
      "execution_count": 4,
      "metadata": {
        "colab": {
          "base_uri": "https://localhost:8080/"
        },
        "id": "DXzFr90wJLuJ",
        "outputId": "2935aadb-630f-4fe2-a918-364a92c0be0d"
      },
      "outputs": [
        {
          "output_type": "stream",
          "name": "stdout",
          "text": [
            "Disabled automatic differentiation\n"
          ]
        }
      ],
      "source": [
        "torch.set_grad_enabled(False)\n",
        "print(\"Disabled automatic differentiation\")"
      ]
    },
    {
      "cell_type": "markdown",
      "metadata": {
        "id": "y_Y8oxc4JLuK"
      },
      "source": [
        "### Model and Dataset Import"
      ]
    },
    {
      "cell_type": "code",
      "execution_count": 5,
      "metadata": {
        "colab": {
          "base_uri": "https://localhost:8080/",
          "height": 1000,
          "referenced_widgets": [
            "615d593f87fc463b89cafbd8b8ed5a3e",
            "71db0cabd6084d3e827b58fe64e3d030",
            "1f22a2e43dbf4cb7933781fe47602e4b",
            "08b9200369a740cda1a78f55b4494b53",
            "717a6d8422a54309bf02c8fd95efca0d",
            "1a923d2dc9f54d0eafdaf28cf68f6922",
            "83fd3c975cad4b32ac6fe8a7a93753d6",
            "86ce6f99353f4ffd97bfdf836997d239",
            "73cb6b690999460aaf7cecc413345062",
            "ca7c945414494e3c8123ccf2d60d0431",
            "1d74eef30ae7476b9f783df219539a43",
            "6f9152551aef41529f884748953b487e",
            "3b69c240c490410bbc999dce88c1e680",
            "9fa1e8f671e54e9281eb8cb9ab772475",
            "74b5a27b66714233be116c206e9eb1cc",
            "4f5bb591ab554394acd6a3e4aca2c30c",
            "aaf3be5673db428489a06b94d1d2ff01",
            "2e3803b18cb641889d5ad9d0e82ee716",
            "c2c25b09991b4ca4809ea1ca615063b5",
            "6156fb984fb94282bfe5786e9ebdbd9b",
            "7f54a85db97f418e9619055f5393368c",
            "0ac42216af7744808386e5170a385e54",
            "d702f668118d40b596a0444eaa880219",
            "54ff24da69994399b39e3600e197311c",
            "b765a08072754cee9ae4b864bcc60517",
            "8a0da3176ae6485199135308e3c4df4c",
            "02886e1bf87e4fa286c90b37cf7a4fd2",
            "b446310907044951ac1a893839553faf",
            "7c70169bc32b478d88f685964bc5d748",
            "c08c6f6a7e804729840a09c5b605acdd",
            "6e6154db8b894df19e71f2cded487331",
            "e99611e7cdea4beb8217667a0af7c5e9",
            "f5fd676d0d5140c186cb29735936b895",
            "e8745f856d78497fb25b867f0f44370a",
            "4b7bd3e82b1744e4a63f439dbd525568",
            "1de50c4991fc479cada592c4237508b9",
            "a5c501732996439fa70e4c4d4471282e",
            "6808f3b0367d46a78ecc43fdde38f5d4",
            "bc94ccdfb9a747f9832c8561fb0a7bde",
            "bdad46a994a14c839b73cddc07ef0c01",
            "64f800121fe54aacace155d1272d25f1",
            "dbef0f4853384e1ea5ae75dfda0627c5",
            "2cf6671c34a1411fbcc8ed245a2bca27",
            "1233df654ac94c19b60c29105269dd7e",
            "bebce027eaee49f8b498356095e62f67",
            "098d10cd9b1e4194b31656cd7a428913",
            "a1940f8359a04459aab2baa0cc93cdf6",
            "f2e8ac75ef9e4820b01c607876fd6356",
            "0577445909ad4df0b1fc5796e0b22a3c",
            "0c281f370abe46648bab01654521b437",
            "7ee7b544365042aea9bfa35a3813c29e",
            "e16aa578b39843f092312d3967cfff55",
            "390a81e834c94a538f7403f44958e3e6",
            "825b22d9a8504fed91ce6b32f067ac1a",
            "cc6ca19bff2144bdb850ed2762cb351b",
            "3e24a891896e496c90e383bf94d5a711",
            "e8a318b5d6d7481e88217b46a892c9b2",
            "b7dd50e6e9b842bc9f85b1390725a967",
            "670babef898b47d8867d1c9b73563c24",
            "0afc92134bfb445ebd86790ed334d38b",
            "8851f9df1c064b898d8ecd0784968d37",
            "e2501e9af0274db8bca7cb614ba6fa6b",
            "68c5d67178b6473890a6f32524b86fa8",
            "56e27157ec004f4c85722a8db647be09",
            "6ee5c6be80c043b6973930ac08ba5728",
            "336f7203e0f649128f2f5d1652787c30",
            "62e62b7f957141d490172b4c99abb3c4",
            "53983e57002a457a9a5b80ee8b6e772d",
            "90df65f7eae04cf0a5be400f7f744385",
            "12cb8d72aa9b4e8288d343a97bcd5b94",
            "d26c2830acdd42e2a7ab38669bea096b",
            "cc3f25aa773e4b10b2eefea3c59eaf6b",
            "31685e4cfe85438da8b9e1fa0e97e4c1",
            "1d89226040e748ecbf31f0b8d1788f8b",
            "cc3a22ac2c284c6987160546fb07607f",
            "e74fcf787fb645148c63aaf24740b47c",
            "1bd246562c2946cbbc2dd30529dc1c0e"
          ]
        },
        "id": "mfKIlrttJLuK",
        "outputId": "9b31b2e6-02c9-408e-cb99-7ffd056cfa18",
        "collapsed": true
      },
      "outputs": [
        {
          "output_type": "stream",
          "name": "stderr",
          "text": [
            "/usr/local/lib/python3.11/dist-packages/huggingface_hub/utils/_auth.py:94: UserWarning: \n",
            "The secret `HF_TOKEN` does not exist in your Colab secrets.\n",
            "To authenticate with the Hugging Face Hub, create a token in your settings tab (https://huggingface.co/settings/tokens), set it as secret in your Google Colab and restart your session.\n",
            "You will be able to reuse this secret in all of your notebooks.\n",
            "Please note that authentication is recommended but still optional to access public models or datasets.\n",
            "  warnings.warn(\n"
          ]
        },
        {
          "output_type": "display_data",
          "data": {
            "text/plain": [
              "config.json:   0%|          | 0.00/665 [00:00<?, ?B/s]"
            ],
            "application/vnd.jupyter.widget-view+json": {
              "version_major": 2,
              "version_minor": 0,
              "model_id": "615d593f87fc463b89cafbd8b8ed5a3e"
            }
          },
          "metadata": {}
        },
        {
          "output_type": "stream",
          "name": "stderr",
          "text": [
            "Xet Storage is enabled for this repo, but the 'hf_xet' package is not installed. Falling back to regular HTTP download. For better performance, install the package with: `pip install huggingface_hub[hf_xet]` or `pip install hf_xet`\n",
            "WARNING:huggingface_hub.file_download:Xet Storage is enabled for this repo, but the 'hf_xet' package is not installed. Falling back to regular HTTP download. For better performance, install the package with: `pip install huggingface_hub[hf_xet]` or `pip install hf_xet`\n"
          ]
        },
        {
          "output_type": "display_data",
          "data": {
            "text/plain": [
              "model.safetensors:   0%|          | 0.00/548M [00:00<?, ?B/s]"
            ],
            "application/vnd.jupyter.widget-view+json": {
              "version_major": 2,
              "version_minor": 0,
              "model_id": "6f9152551aef41529f884748953b487e"
            }
          },
          "metadata": {}
        },
        {
          "output_type": "display_data",
          "data": {
            "text/plain": [
              "generation_config.json:   0%|          | 0.00/124 [00:00<?, ?B/s]"
            ],
            "application/vnd.jupyter.widget-view+json": {
              "version_major": 2,
              "version_minor": 0,
              "model_id": "d702f668118d40b596a0444eaa880219"
            }
          },
          "metadata": {}
        },
        {
          "output_type": "display_data",
          "data": {
            "text/plain": [
              "tokenizer_config.json:   0%|          | 0.00/26.0 [00:00<?, ?B/s]"
            ],
            "application/vnd.jupyter.widget-view+json": {
              "version_major": 2,
              "version_minor": 0,
              "model_id": "e8745f856d78497fb25b867f0f44370a"
            }
          },
          "metadata": {}
        },
        {
          "output_type": "display_data",
          "data": {
            "text/plain": [
              "vocab.json:   0%|          | 0.00/1.04M [00:00<?, ?B/s]"
            ],
            "application/vnd.jupyter.widget-view+json": {
              "version_major": 2,
              "version_minor": 0,
              "model_id": "bebce027eaee49f8b498356095e62f67"
            }
          },
          "metadata": {}
        },
        {
          "output_type": "display_data",
          "data": {
            "text/plain": [
              "merges.txt:   0%|          | 0.00/456k [00:00<?, ?B/s]"
            ],
            "application/vnd.jupyter.widget-view+json": {
              "version_major": 2,
              "version_minor": 0,
              "model_id": "3e24a891896e496c90e383bf94d5a711"
            }
          },
          "metadata": {}
        },
        {
          "output_type": "display_data",
          "data": {
            "text/plain": [
              "tokenizer.json:   0%|          | 0.00/1.36M [00:00<?, ?B/s]"
            ],
            "application/vnd.jupyter.widget-view+json": {
              "version_major": 2,
              "version_minor": 0,
              "model_id": "62e62b7f957141d490172b4c99abb3c4"
            }
          },
          "metadata": {}
        },
        {
          "output_type": "stream",
          "name": "stdout",
          "text": [
            "Loaded pretrained model gpt2-small into HookedTransformer\n",
            "Moving model to device:  cuda\n"
          ]
        },
        {
          "output_type": "execute_result",
          "data": {
            "text/plain": [
              "HookedTransformer(\n",
              "  (embed): Embed()\n",
              "  (hook_embed): HookPoint()\n",
              "  (pos_embed): PosEmbed()\n",
              "  (hook_pos_embed): HookPoint()\n",
              "  (blocks): ModuleList(\n",
              "    (0-11): 12 x TransformerBlock(\n",
              "      (ln1): LayerNormPre(\n",
              "        (hook_scale): HookPoint()\n",
              "        (hook_normalized): HookPoint()\n",
              "      )\n",
              "      (ln2): LayerNormPre(\n",
              "        (hook_scale): HookPoint()\n",
              "        (hook_normalized): HookPoint()\n",
              "      )\n",
              "      (attn): Attention(\n",
              "        (hook_k): HookPoint()\n",
              "        (hook_q): HookPoint()\n",
              "        (hook_v): HookPoint()\n",
              "        (hook_z): HookPoint()\n",
              "        (hook_attn_scores): HookPoint()\n",
              "        (hook_pattern): HookPoint()\n",
              "        (hook_result): HookPoint()\n",
              "      )\n",
              "      (mlp): MLP(\n",
              "        (hook_pre): HookPoint()\n",
              "        (hook_post): HookPoint()\n",
              "      )\n",
              "      (hook_attn_in): HookPoint()\n",
              "      (hook_q_input): HookPoint()\n",
              "      (hook_k_input): HookPoint()\n",
              "      (hook_v_input): HookPoint()\n",
              "      (hook_mlp_in): HookPoint()\n",
              "      (hook_attn_out): HookPoint()\n",
              "      (hook_mlp_out): HookPoint()\n",
              "      (hook_resid_pre): HookPoint()\n",
              "      (hook_resid_mid): HookPoint()\n",
              "      (hook_resid_post): HookPoint()\n",
              "    )\n",
              "  )\n",
              "  (ln_final): LayerNormPre(\n",
              "    (hook_scale): HookPoint()\n",
              "    (hook_normalized): HookPoint()\n",
              "  )\n",
              "  (unembed): Unembed()\n",
              ")"
            ]
          },
          "metadata": {},
          "execution_count": 5
        }
      ],
      "source": [
        "# NBVAL_IGNORE_OUTPUT\n",
        "model = HookedTransformer.from_pretrained(\"gpt2-small\")\n",
        "model.eval()\n",
        "\n",
        "# Get the default device used\n",
        "device: torch.device = utils.get_device()\n",
        "model.to(device)"
      ]
    },
    {
      "cell_type": "code",
      "execution_count": 6,
      "metadata": {
        "colab": {
          "base_uri": "https://localhost:8080/",
          "height": 347,
          "referenced_widgets": [
            "6e63142ea5e84318abae964fb8ebc78b",
            "6486e1b9a58840ff817e11903c08464d",
            "989adf8f0fb94f8db6314f322e47c0e6",
            "c15c3e8600794df0b182f75a3bca887e",
            "41de867926f647759f5fd4af7a6c8542",
            "a09d500f178a478aaa3728cc59e03da7",
            "9026096cf44d4864a7f91c3dd32a9894",
            "798af7de2f114dad8e56886e5e75c2c8",
            "351cceec8fd64e43ad158b392195ba29",
            "dfb4e764b2174d978f68839c0c313df2",
            "70c05f35424b4b0594786c755787eb21",
            "0c148bd7963c4d72b7065b6792c46d7a",
            "b03f0f46b19840f48c7e9e19489ad403",
            "4401e91b5b8d454db0b21a6ec240aa42",
            "9edfa9093e864c12bd79326ae7469d61",
            "199b2d4645744bf2aa12e989e6e4b8ed",
            "7160dcc6e9224e65b8525d79d0325c94",
            "9928e380e09641b592ceb3a679376aed",
            "a0ce6e4e20f145bf9b78b28349d947a5",
            "d29a18e4c24846c3a30bf82b01c9dcb9",
            "e93faeb105c24506a7ba60a9036ddd58",
            "3622b150e1a8437ea475f87ad3510514",
            "dbc10b19a46049a1810ec30d7f73c06f",
            "54f3301c81ff4dbdabec030894c43747",
            "ae6f78c712114cfa9acb760277706444",
            "0e7fc8bce28b41e9ac9d3d4b8ee30185",
            "aa2ca917a23e4c6285770f5555e035e6",
            "ee5dd514ce794735a4b4c2fa240dddab",
            "ffcd373fb50a4fcb8aabeccaaa5a8b68",
            "5d0b2c168da2450a890f04c91cfcd50d",
            "6a07464dafdc4e43ab4364a147468094",
            "46da6ced364849ff9e1e2c2bd763efcb",
            "45a3a2992ba64f02a9d1cc3726f74125",
            "13b01974f5f84d04855a9b69bcae7e8c",
            "55a8b65e1f4e400bb1077de56901dcca",
            "e2f8f4226a834d8fa4130c775800c71e",
            "a0501d8ca5954bd69466741359e791ba",
            "245bbd96260741f28c94e4a17b61197c",
            "c05145d7a95f4899a270d98986f33af7",
            "db981a73b2984649bcb62b05262c526f",
            "c3436660686d435b9e15c06779a3174b",
            "664868e7050c469983c6473c030d4f53",
            "849ac131f64f479e95c2f2ec77954b3e",
            "b95d38f084ba46cc95d8989d7a183361",
            "42efa5924a914a99a34501f59a6bb9ea",
            "73bbd41e43884954b236fc2cb7ff8306",
            "02cb9ffef1aa470399927e157b7c9132",
            "79c5f28fc1b34561a8d5e19a961515b8",
            "abb4ed074f6e40d4988b37faf8dde5ec",
            "0586c7b857ae4e2c8971d5ade535b4aa",
            "8da73ef4a3c34d14aca564a9555dfc87",
            "8ce95deeca4045c9839fafd7c7d90a29",
            "6122fd1e303a4ac7816a090247951134",
            "6e4b21beb2ff45cdaa5286b030dd46ec",
            "e39a747cb19b4895b90aa69b089b742a",
            "17319aeff199496681f9fbd3c8f847d0",
            "7a4e53e41331404a90274ad0bcb90087",
            "e938fbe0fee14eedbd6133c2d8710b6a",
            "ce2bf4b42045441a883b2762def671d4",
            "de9f2400a3434adcb71cee493f77c145",
            "bb7ea832e7ba4e259bc6cce1cc0b4759",
            "cafa63f0c150426fbd53d93c6114f5da",
            "6bfd9bee37034c838141fc902cd9f1df",
            "cfbccf8a498e4a03829fa1157647d85d",
            "c0c907300fe340478e65327da0179b69",
            "a3e2a3fcc2b548bf8d7ded4805857895",
            "a618a5efa3df47d6ad499aca5ee13bac",
            "9e95ba04dfe349ccb97d1c8c7cbb7265",
            "c72e2a28a1d341a28fe664c1fff67354",
            "291659518c364bc5a94d52c5d736575a",
            "5be5e3c6a7374c1ea5dda5f3a39b3fad",
            "e04af5ae037749cc9042922f2391b774",
            "ac7c00be0905483e99f22681f15a8f6d",
            "96a09bd4ceb147e4b1c6b3ca472ecb93",
            "4fd9d804ce4e456e92eeabc7899b5535",
            "fdad2ce455704e1c8ff2597eae088787",
            "83ccafe1a6bf42f78ecb03fe69820f3d",
            "d601d751e7ba458ebe442081524fa04c",
            "eae540a63ad54c45825f52b558c1d376",
            "f0131fd24ece4b1f901faa81576c66dc",
            "8d9a4a7b85f04b91ab4b82a47282c5d5",
            "f9a05adc42584d93904a86b50a3043fa",
            "8e161c6a66f944d88e5d12e3b9fb1ad8",
            "017e8750ada242e78a55d146b52e4207",
            "19bb82151fa94ea6b1788c6a1747b581",
            "95e1c240dca74afa86d14e25ef61e53e",
            "aee94d6fb0494bfc80468169e3297af4",
            "33ea9a6fdf174a3c8688397c4d3f8fdc"
          ]
        },
        "id": "OTtLwjqQ7PTc",
        "outputId": "78d278e5-15a7-482c-bef5-62e297fe022b",
        "collapsed": true
      },
      "outputs": [
        {
          "output_type": "display_data",
          "data": {
            "text/plain": [
              "Downloading readme:   0%|          | 0.00/7.32k [00:00<?, ?B/s]"
            ],
            "application/vnd.jupyter.widget-view+json": {
              "version_major": 2,
              "version_minor": 0,
              "model_id": "6e63142ea5e84318abae964fb8ebc78b"
            }
          },
          "metadata": {}
        },
        {
          "output_type": "display_data",
          "data": {
            "text/plain": [
              "Downloading data:   0%|          | 0.00/269M [00:00<?, ?B/s]"
            ],
            "application/vnd.jupyter.widget-view+json": {
              "version_major": 2,
              "version_minor": 0,
              "model_id": "0c148bd7963c4d72b7065b6792c46d7a"
            }
          },
          "metadata": {}
        },
        {
          "output_type": "display_data",
          "data": {
            "text/plain": [
              "Downloading data:   0%|          | 0.00/281M [00:00<?, ?B/s]"
            ],
            "application/vnd.jupyter.widget-view+json": {
              "version_major": 2,
              "version_minor": 0,
              "model_id": "dbc10b19a46049a1810ec30d7f73c06f"
            }
          },
          "metadata": {}
        },
        {
          "output_type": "display_data",
          "data": {
            "text/plain": [
              "Downloading data:   0%|          | 0.00/1.14M [00:00<?, ?B/s]"
            ],
            "application/vnd.jupyter.widget-view+json": {
              "version_major": 2,
              "version_minor": 0,
              "model_id": "13b01974f5f84d04855a9b69bcae7e8c"
            }
          },
          "metadata": {}
        },
        {
          "output_type": "display_data",
          "data": {
            "text/plain": [
              "Downloading data:   0%|          | 0.00/1.08M [00:00<?, ?B/s]"
            ],
            "application/vnd.jupyter.widget-view+json": {
              "version_major": 2,
              "version_minor": 0,
              "model_id": "42efa5924a914a99a34501f59a6bb9ea"
            }
          },
          "metadata": {}
        },
        {
          "output_type": "display_data",
          "data": {
            "text/plain": [
              "Generating train split:   0%|          | 0/2662 [00:00<?, ? examples/s]"
            ],
            "application/vnd.jupyter.widget-view+json": {
              "version_major": 2,
              "version_minor": 0,
              "model_id": "17319aeff199496681f9fbd3c8f847d0"
            }
          },
          "metadata": {}
        },
        {
          "output_type": "display_data",
          "data": {
            "text/plain": [
              "Generating test split:   0%|          | 0/5153 [00:00<?, ? examples/s]"
            ],
            "application/vnd.jupyter.widget-view+json": {
              "version_major": 2,
              "version_minor": 0,
              "model_id": "a618a5efa3df47d6ad499aca5ee13bac"
            }
          },
          "metadata": {}
        },
        {
          "output_type": "display_data",
          "data": {
            "text/plain": [
              "Generating validation split:   0%|          | 0/4869 [00:00<?, ? examples/s]"
            ],
            "application/vnd.jupyter.widget-view+json": {
              "version_major": 2,
              "version_minor": 0,
              "model_id": "d601d751e7ba458ebe442081524fa04c"
            }
          },
          "metadata": {}
        },
        {
          "output_type": "stream",
          "name": "stdout",
          "text": [
            "Question: in my palm is a clear stone , and inside it is a small ivory statuette . a guardian angel . `` figured if you 're going to be out at night getting hit by cars , you might as well have some backup . '' i look at him , feeling stunned . like this is some sort of sign . but as i stare at harlin , his mouth curved in a confident grin , i do n't care about\n",
            "\n",
            "Answer: signs\n"
          ]
        }
      ],
      "source": [
        "lambada = load_dataset(\"lambada\", split=\"test\")\n",
        "\n",
        "# Inspect a sample problem\n",
        "example_prompt, example_answer = lambada[0]['text'].rsplit(' ', 1)\n",
        "print('Question: ' + example_prompt + '\\n')\n",
        "print('Answer: ' + example_answer)"
      ]
    },
    {
      "cell_type": "markdown",
      "metadata": {
        "id": "q0svhaFdJLuL"
      },
      "source": [
        "We verify that our model can 'do' a task from this (LAMBADA) dataset (note that not all tasks may pass; we just want to verify that the model can do at least one of the tasks):"
      ]
    },
    {
      "cell_type": "code",
      "execution_count": 7,
      "metadata": {
        "colab": {
          "base_uri": "https://localhost:8080/",
          "height": 724
        },
        "id": "xnqBA-BIJLuL",
        "outputId": "5bf40de9-4367-447f-a042-370d1b53606e",
        "collapsed": true
      },
      "outputs": [
        {
          "output_type": "stream",
          "name": "stdout",
          "text": [
            "Tokenized prompt: ['<|endoftext|>', '``', ' why', ' ?', \" ''\", ' ``', ' i', ' would', ' have', ' thought', ' you', \" '\", 'd', ' find', ' him', ' rather', ' dry', ' ,', \" ''\", ' she', ' said', ' .', ' ``', ' i', ' do', ' n', \"'t\", ' know', ' about', ' that', ' ,', \" ''\", ' said', ' g', 'ab', 'riel', ' .', ' ``', ' he', ' was', ' a', ' great', ' crafts', 'man', ' ,', \" ''\", ' said', ' he', 'ather', ' .', ' ``', ' that', ' he', ' was', ' ,', \" ''\", ' said', ' fl', 'an', 'nery', ' .', ' ``', ' and', ' polish', ' ,', ' to', ' boot', ' ,', \" ''\", ' said']\n",
            "Tokenized answer: [' g', 'ab', 'riel']\n"
          ]
        },
        {
          "output_type": "display_data",
          "data": {
            "text/plain": [
              "Performance on answer token:\n",
              "\u001b[1mRank: \u001b[0m\u001b[1;36m0\u001b[0m\u001b[1m        Logit: \u001b[0m\u001b[1;36m12.41\u001b[0m\u001b[1m Prob:  \u001b[0m\u001b[1;36m6.08\u001b[0m\u001b[1m% Token: | g|\u001b[0m\n"
            ],
            "text/html": [
              "<pre style=\"white-space:pre;overflow-x:auto;line-height:normal;font-family:Menlo,'DejaVu Sans Mono',consolas,'Courier New',monospace\">Performance on answer token:\n",
              "<span style=\"font-weight: bold\">Rank: </span><span style=\"color: #008080; text-decoration-color: #008080; font-weight: bold\">0</span><span style=\"font-weight: bold\">        Logit: </span><span style=\"color: #008080; text-decoration-color: #008080; font-weight: bold\">12.41</span><span style=\"font-weight: bold\"> Prob:  </span><span style=\"color: #008080; text-decoration-color: #008080; font-weight: bold\">6.08</span><span style=\"font-weight: bold\">% Token: | g|</span>\n",
              "</pre>\n"
            ]
          },
          "metadata": {}
        },
        {
          "output_type": "stream",
          "name": "stdout",
          "text": [
            "Top 0th token. Logit: 12.41 Prob:  6.08% Token: | g|\n",
            "Top 1th token. Logit: 12.26 Prob:  5.24% Token: | he|\n",
            "Top 2th token. Logit: 11.55 Prob:  2.57% Token: | j|\n",
            "Top 3th token. Logit: 11.44 Prob:  2.31% Token: | m|\n",
            "Top 4th token. Logit: 11.37 Prob:  2.16% Token: | l|\n",
            "Top 5th token. Logit: 11.22 Prob:  1.86% Token: | the|\n",
            "Top 6th token. Logit: 11.17 Prob:  1.77% Token: | she|\n",
            "Top 7th token. Logit: 11.07 Prob:  1.60% Token: | b|\n",
            "Top 8th token. Logit: 11.04 Prob:  1.55% Token: | d|\n",
            "Top 9th token. Logit: 11.00 Prob:  1.50% Token: | t|\n"
          ]
        },
        {
          "output_type": "display_data",
          "data": {
            "text/plain": [
              "Performance on answer token:\n",
              "\u001b[1mRank: \u001b[0m\u001b[1;36m0\u001b[0m\u001b[1m        Logit: \u001b[0m\u001b[1;36m20.36\u001b[0m\u001b[1m Prob: \u001b[0m\u001b[1;36m89.14\u001b[0m\u001b[1m% Token: |ab|\u001b[0m\n"
            ],
            "text/html": [
              "<pre style=\"white-space:pre;overflow-x:auto;line-height:normal;font-family:Menlo,'DejaVu Sans Mono',consolas,'Courier New',monospace\">Performance on answer token:\n",
              "<span style=\"font-weight: bold\">Rank: </span><span style=\"color: #008080; text-decoration-color: #008080; font-weight: bold\">0</span><span style=\"font-weight: bold\">        Logit: </span><span style=\"color: #008080; text-decoration-color: #008080; font-weight: bold\">20.36</span><span style=\"font-weight: bold\"> Prob: </span><span style=\"color: #008080; text-decoration-color: #008080; font-weight: bold\">89.14</span><span style=\"font-weight: bold\">% Token: |ab|</span>\n",
              "</pre>\n"
            ]
          },
          "metadata": {}
        },
        {
          "output_type": "stream",
          "name": "stdout",
          "text": [
            "Top 0th token. Logit: 20.36 Prob: 89.14% Token: |ab|\n",
            "Top 1th token. Logit: 15.36 Prob:  0.60% Token: |abby|\n",
            "Top 2th token. Logit: 14.62 Prob:  0.29% Token: |az|\n",
            "Top 3th token. Logit: 14.30 Prob:  0.21% Token: |ordon|\n",
            "Top 4th token. Logit: 14.19 Prob:  0.19% Token: |ib|\n",
            "Top 5th token. Logit: 14.15 Prob:  0.18% Token: |im|\n",
            "Top 6th token. Logit: 14.10 Prob:  0.17% Token: |har|\n",
            "Top 7th token. Logit: 14.00 Prob:  0.15% Token: |abe|\n",
            "Top 8th token. Logit: 13.89 Prob:  0.14% Token: |abb|\n",
            "Top 9th token. Logit: 13.86 Prob:  0.13% Token: |ag|\n"
          ]
        },
        {
          "output_type": "display_data",
          "data": {
            "text/plain": [
              "Performance on answer token:\n",
              "\u001b[1mRank: \u001b[0m\u001b[1;36m0\u001b[0m\u001b[1m        Logit: \u001b[0m\u001b[1;36m21.65\u001b[0m\u001b[1m Prob: \u001b[0m\u001b[1;36m99.19\u001b[0m\u001b[1m% Token: |riel|\u001b[0m\n"
            ],
            "text/html": [
              "<pre style=\"white-space:pre;overflow-x:auto;line-height:normal;font-family:Menlo,'DejaVu Sans Mono',consolas,'Courier New',monospace\">Performance on answer token:\n",
              "<span style=\"font-weight: bold\">Rank: </span><span style=\"color: #008080; text-decoration-color: #008080; font-weight: bold\">0</span><span style=\"font-weight: bold\">        Logit: </span><span style=\"color: #008080; text-decoration-color: #008080; font-weight: bold\">21.65</span><span style=\"font-weight: bold\"> Prob: </span><span style=\"color: #008080; text-decoration-color: #008080; font-weight: bold\">99.19</span><span style=\"font-weight: bold\">% Token: |riel|</span>\n",
              "</pre>\n"
            ]
          },
          "metadata": {}
        },
        {
          "output_type": "stream",
          "name": "stdout",
          "text": [
            "Top 0th token. Logit: 21.65 Prob: 99.19% Token: |riel|\n",
            "Top 1th token. Logit: 14.42 Prob:  0.07% Token: |ri|\n",
            "Top 2th token. Logit: 14.08 Prob:  0.05% Token: |ry|\n",
            "Top 3th token. Logit: 13.78 Prob:  0.04% Token: |rie|\n",
            "Top 4th token. Logit: 13.73 Prob:  0.04% Token: |rin|\n",
            "Top 5th token. Logit: 13.61 Prob:  0.03% Token: |rier|\n",
            "Top 6th token. Logit: 13.60 Prob:  0.03% Token: |rian|\n",
            "Top 7th token. Logit: 13.31 Prob:  0.02% Token: |ric|\n",
            "Top 8th token. Logit: 13.03 Prob:  0.02% Token: |rius|\n",
            "Top 9th token. Logit: 12.98 Prob:  0.02% Token: |ril|\n"
          ]
        },
        {
          "output_type": "display_data",
          "data": {
            "text/plain": [
              "\u001b[1mRanks of the answer tokens:\u001b[0m \u001b[1m[\u001b[0m\u001b[1m(\u001b[0m\u001b[32m' g'\u001b[0m, \u001b[1;36m0\u001b[0m\u001b[1m)\u001b[0m, \u001b[1m(\u001b[0m\u001b[32m'ab'\u001b[0m, \u001b[1;36m0\u001b[0m\u001b[1m)\u001b[0m, \u001b[1m(\u001b[0m\u001b[32m'riel'\u001b[0m, \u001b[1;36m0\u001b[0m\u001b[1m)\u001b[0m\u001b[1m]\u001b[0m\n"
            ],
            "text/html": [
              "<pre style=\"white-space:pre;overflow-x:auto;line-height:normal;font-family:Menlo,'DejaVu Sans Mono',consolas,'Courier New',monospace\"><span style=\"font-weight: bold\">Ranks of the answer tokens:</span> <span style=\"font-weight: bold\">[(</span><span style=\"color: #008000; text-decoration-color: #008000\">' g'</span>, <span style=\"color: #008080; text-decoration-color: #008080; font-weight: bold\">0</span><span style=\"font-weight: bold\">)</span>, <span style=\"font-weight: bold\">(</span><span style=\"color: #008000; text-decoration-color: #008000\">'ab'</span>, <span style=\"color: #008080; text-decoration-color: #008080; font-weight: bold\">0</span><span style=\"font-weight: bold\">)</span>, <span style=\"font-weight: bold\">(</span><span style=\"color: #008000; text-decoration-color: #008000\">'riel'</span>, <span style=\"color: #008080; text-decoration-color: #008080; font-weight: bold\">0</span><span style=\"font-weight: bold\">)]</span>\n",
              "</pre>\n"
            ]
          },
          "metadata": {}
        }
      ],
      "source": [
        "example_prompt, example_answer = lambada[8]['text'].rsplit(' ', 1)\n",
        "utils.test_prompt(example_prompt, example_answer, model, print_details=True, prepend_bos=True)"
      ]
    },
    {
      "cell_type": "markdown",
      "metadata": {
        "id": "DDNt1JRIFxkU"
      },
      "source": [
        "## Model Accuracy Calculation"
      ]
    },
    {
      "cell_type": "markdown",
      "metadata": {
        "id": "Q5ooOES_GIvX"
      },
      "source": [
        "Here, we take in the model's output token rankings and consider an answer correct iff token_rank=0 for all output/answer tokens.  As the LAMBADA dataset has one-word (though potentially multi-token) answers, we don't consider partial credit."
      ]
    },
    {
      "cell_type": "code",
      "execution_count": 8,
      "metadata": {
        "id": "QmlrW9kbF2uA"
      },
      "outputs": [],
      "source": [
        "# Note: Code from function test_prompt() in the\n",
        "# [TransformerLens Library](https://github.com/TransformerLensOrg/TransformerLens/blob/main/transformer_lens/utils.py)\n",
        "def get_out_tokens(prompt, answer, model):\n",
        "\n",
        "  answers = [answer] if isinstance(answer, str) else answer\n",
        "  n_answers = len(answers)\n",
        "  using_multiple_answers = n_answers > 1\n",
        "\n",
        "  answers = [answer if answer.startswith(\" \") else \" \" + answer for answer in answers]\n",
        "\n",
        "  # GPT-2 often treats the first token weirdly, so lets give it a resting position\n",
        "  prompt_tokens = model.to_tokens(prompt, prepend_bos=True)\n",
        "  answer_tokens = model.to_tokens(answers, prepend_bos=False)\n",
        "\n",
        "  # If we have multiple answers, we're only allowed a single token generation\n",
        "  if using_multiple_answers:\n",
        "    answer_tokens = answer_tokens[:, :1]\n",
        "\n",
        "  # Deal with case where answers is a list of strings\n",
        "  prompt_tokens = prompt_tokens.repeat(answer_tokens.shape[0], 1)\n",
        "  tokens = torch.cat((prompt_tokens, answer_tokens), dim=1)\n",
        "\n",
        "  prompt_str_tokens = model.to_str_tokens(prompt, prepend_bos=True)\n",
        "  answer_str_tokens_list = [model.to_str_tokens(answer, prepend_bos=False) for answer in answers]\n",
        "\n",
        "  prompt_length = len(prompt_str_tokens)\n",
        "  answer_length = 1 if using_multiple_answers else len(answer_str_tokens_list[0])\n",
        "\n",
        "  logits = model(tokens)\n",
        "  probs = logits.softmax(dim=-1)\n",
        "  answer_ranks = []\n",
        "\n",
        "  for index in range(prompt_length, prompt_length + answer_length):\n",
        "    # Get answer tokens for this sequence position\n",
        "    answer_tokens = tokens[:, index]\n",
        "    answer_str_tokens = [a[index - prompt_length] for a in answer_str_tokens_list]\n",
        "\n",
        "    # Offset by 1 because models predict the NEXT token\n",
        "    token_probs = probs[:, index - 1]\n",
        "    sorted_token_probs, sorted_token_positions = token_probs.sort(descending=True)\n",
        "    answer_token_ranks = sorted_token_positions.argsort(-1)[\n",
        "      range(n_answers), answer_tokens.cpu()\n",
        "    ].tolist()\n",
        "    answer_ranks.append(\n",
        "      [\n",
        "        (answer_str_token, answer_token_rank)\n",
        "          for answer_str_token, answer_token_rank in zip(\n",
        "            answer_str_tokens, answer_token_ranks\n",
        "          )\n",
        "      ]\n",
        "    )\n",
        "\n",
        "  # If n_answers = 1 then unwrap answer ranks, so printed output matches original version of function\n",
        "  if not using_multiple_answers:\n",
        "    single_answer_ranks = [r[0] for r in answer_ranks]\n",
        "    return single_answer_ranks\n",
        "  else:\n",
        "    return answer_ranks\n",
        "\n",
        "\n",
        "def is_correct(out_tokens):\n",
        "  for pair in out_tokens:\n",
        "    if pair[1] != 0:\n",
        "      return False\n",
        "  return True\n",
        "\n",
        "\n",
        "def is_prediction_correct(prompt, answer, model):\n",
        "  out_tokens = get_out_tokens(prompt, answer, model)\n",
        "  return is_correct(out_tokens)\n",
        "\n",
        "\n",
        "def calc_accuracy(data, model):\n",
        "  correct = 0\n",
        "  hallucinating_prompts = []\n",
        "  for entry in tqdm(data, 'Calculating Accuracy'):\n",
        "    prompt, answer = entry['text'].rsplit(' ', 1)\n",
        "    if is_prediction_correct(prompt, answer, model):\n",
        "      correct += 1\n",
        "    else:\n",
        "      hallucinating_prompts.append(prompt)\n",
        "  return correct / len(data), hallucinating_prompts"
      ]
    },
    {
      "cell_type": "code",
      "execution_count": 9,
      "metadata": {
        "colab": {
          "base_uri": "https://localhost:8080/"
        },
        "id": "crNy-WPEJzXL",
        "outputId": "11081c70-07af-4b80-ac80-6c3c56cf593a"
      },
      "outputs": [
        {
          "output_type": "stream",
          "name": "stderr",
          "text": [
            "Calculating Accuracy: 100%|██████████| 5153/5153 [03:01<00:00, 28.31it/s]"
          ]
        },
        {
          "output_type": "stream",
          "name": "stdout",
          "text": [
            "\n",
            "Accuracy: 0.2699398408693965\n"
          ]
        },
        {
          "output_type": "stream",
          "name": "stderr",
          "text": [
            "\n"
          ]
        }
      ],
      "source": [
        "gpt2_accuracy, hallucinating_prompts = calc_accuracy(lambada, model)\n",
        "print('\\n' + 'Accuracy: ' + str(gpt2_accuracy))"
      ]
    },
    {
      "cell_type": "markdown",
      "metadata": {
        "id": "PxilaD0f91S0"
      },
      "source": [
        "We now have GPT-2's accuracy on the LAMBADA dataset as well as the prompts on which it hallucinated!"
      ]
    },
    {
      "cell_type": "markdown",
      "metadata": {
        "id": "Uy8riEEf1SKs"
      },
      "source": [
        "## Interpreting with SAEs"
      ]
    },
    {
      "cell_type": "code",
      "execution_count": 10,
      "metadata": {
        "colab": {
          "base_uri": "https://localhost:8080/",
          "height": 327,
          "referenced_widgets": [
            "a50c44636ca042d5bb1a9fea179bea73",
            "42e54aa2785643b3a2dd15d800211908",
            "fc804cee5a9f4e8d935b44bd2541f7c9",
            "06172192f6c74d49b5cc450a800d01ec",
            "75d51c6da13a4ad1bd805f45009394b9",
            "6f9710cd4b914fdfa647fd8f9005b0a9",
            "43f8e10f68f944ec963ad1b9757d0b0b",
            "9463567a7cfc40b9b91401be8bf7837f",
            "00b999f5c33b452ba4bb13c74b88bcd9",
            "463c8cccf7754a0f8afec0905eefbfbf",
            "e5324813fd2f4e0b92d6fa7cd5350920",
            "a98344240e5e4fa09bc15825a3a4a004",
            "5ce4f662eb97490eb8d761ca68bc7bfd",
            "bbb7e059b569434bbc414f147ad5aac3",
            "84b0880eb0aa4ba685dd360185d9604f",
            "32bad2930e52439e9a99e4af96f15e51",
            "892059f839b94bc1bd00dbf1deba19b0",
            "85284cc77f2a4b4b9152fb7b7d036b49",
            "ba1950afdd7947f8a289493a64eb665d",
            "4a9b1f95dcdc42839185fc4babac5442",
            "fb87f363254c43e881b2e7b17a4ea360",
            "bd578ba560964a0e88a99803a9b47b50",
            "2301e071ef36420d888fa3e9ce6266b1",
            "4b3b4786ea794ba48087ef38210366f4",
            "2ccbc33d3f664c718ed77b1d9bad63d6",
            "8ced41d24a2442aaa1c6998cdc8e53bb",
            "6561d03653c845faab63077c6d364a62",
            "dfe56b0d14b046088f9d61cc332a85dd",
            "7288addfd2ab49d5bafc2f705fd2c9fb",
            "4183adfe5f9d4bc0b75e70d51438bcd9",
            "04b4726b30684f23bda9605e714c0e2e",
            "452f642b79fa47c6aaa5b3d1a7d5a4d5",
            "e936cf7282094eb5949fb01fdc1365e3"
          ]
        },
        "id": "WXv12zNzCiXe",
        "outputId": "6e4f7a20-0c7f-44a2-a485-3eb5897fdfc8"
      },
      "outputs": [
        {
          "output_type": "stream",
          "name": "stdout",
          "text": [
            "Device: cuda\n"
          ]
        },
        {
          "output_type": "display_data",
          "data": {
            "text/plain": [
              "cfg.json:   0%|          | 0.00/533 [00:00<?, ?B/s]"
            ],
            "application/vnd.jupyter.widget-view+json": {
              "version_major": 2,
              "version_minor": 0,
              "model_id": "a50c44636ca042d5bb1a9fea179bea73"
            }
          },
          "metadata": {}
        },
        {
          "output_type": "display_data",
          "data": {
            "text/plain": [
              "sae_weights.safetensors:   0%|          | 0.00/201M [00:00<?, ?B/s]"
            ],
            "application/vnd.jupyter.widget-view+json": {
              "version_major": 2,
              "version_minor": 0,
              "model_id": "a98344240e5e4fa09bc15825a3a4a004"
            }
          },
          "metadata": {}
        },
        {
          "output_type": "display_data",
          "data": {
            "text/plain": [
              "sparsity.safetensors:   0%|          | 0.00/131k [00:00<?, ?B/s]"
            ],
            "application/vnd.jupyter.widget-view+json": {
              "version_major": 2,
              "version_minor": 0,
              "model_id": "2301e071ef36420d888fa3e9ce6266b1"
            }
          },
          "metadata": {}
        },
        {
          "output_type": "execute_result",
          "data": {
            "text/plain": [
              "SAE(\n",
              "  (activation_fn): TopK(\n",
              "    (postact_fn): ReLU()\n",
              "  )\n",
              "  (hook_sae_input): HookPoint()\n",
              "  (hook_sae_acts_pre): HookPoint()\n",
              "  (hook_sae_acts_post): HookPoint()\n",
              "  (hook_sae_output): HookPoint()\n",
              "  (hook_sae_recons): HookPoint()\n",
              "  (hook_sae_error): HookPoint()\n",
              ")"
            ]
          },
          "metadata": {},
          "execution_count": 10
        }
      ],
      "source": [
        "if torch.backends.mps.is_available():\n",
        "    device = \"mps\"\n",
        "else:\n",
        "    device = \"cuda\" if torch.cuda.is_available() else \"cpu\"\n",
        "\n",
        "print(f\"Device: {device}\")\n",
        "\n",
        "# hook_point = \"blocks.8.hook_resid_post\"\n",
        "hook_point = \"blocks.8.hook_attn_out\"\n",
        "\n",
        "# Load SAE and model\n",
        "sae, cfg_dict, sparsity = SAE.from_pretrained(\n",
        "  # release=\"gpt2-small-resid-post-v5-32k\",\n",
        "  release=\"gpt2-small-attn-out-v5-32k\",\n",
        "  sae_id=hook_point,\n",
        "  device=device\n",
        ")\n",
        "sae.hook_point = hook_point\n",
        "\n",
        "sae.to(device)"
      ]
    },
    {
      "cell_type": "markdown",
      "metadata": {
        "id": "K0ET1sPx7dU1"
      },
      "source": [
        "We now hook the SAE into the model and run on the prompts that caused the original GPT-2 model to fail/hallucinate/predict incorrectly. This will yield the top features that correspond to hallucinations in this (LAMBADA) dataset, i.e. for cloze-style/fill-in-the-blank-style prompts."
      ]
    },
    {
      "cell_type": "code",
      "execution_count": 11,
      "metadata": {
        "colab": {
          "base_uri": "https://localhost:8080/"
        },
        "id": "nfYXkX791V6T",
        "outputId": "d590bb2a-a8dd-4917-b40d-21abb4cdc151"
      },
      "outputs": [
        {
          "output_type": "stream",
          "name": "stdout",
          "text": [
            "Analysing 260 prompts...\n"
          ]
        },
        {
          "output_type": "stream",
          "name": "stderr",
          "text": [
            "Retrieving Activations: 100%|██████████| 65/65 [00:30<00:00,  2.13it/s]\n"
          ]
        }
      ],
      "source": [
        "import gc\n",
        "import random\n",
        "\n",
        "# For reproducability, set a seed\n",
        "random.seed(100)\n",
        "\n",
        "# Hook SAE into model\n",
        "def sae_hook(activations, hook):\n",
        "  sae_features = sae.encode(activations)\n",
        "  return sae.decode(sae_features)\n",
        "\n",
        "model.add_hook(hook_point, sae_hook)\n",
        "\n",
        "batch_size = 4\n",
        "all_sae_features = []\n",
        "\n",
        "# Use a random subset of ~07% of the prompts to save memory (acceptable by LLN)\n",
        "num_prompts_to_analyse = int(0.07 * len(hallucinating_prompts)) // batch_size * batch_size\n",
        "print(f\"Analysing {num_prompts_to_analyse} prompts...\")\n",
        "\n",
        "hallucinating_prompts_rand = subset_prompts = random.sample(hallucinating_prompts, num_prompts_to_analyse)\n",
        "\n",
        "# Run model and get activations\n",
        "with torch.no_grad():\n",
        "  max_seq_len = 0\n",
        "  for i in tqdm(range(0, num_prompts_to_analyse, batch_size), 'Retrieving Activations'):\n",
        "    batch_prompts = hallucinating_prompts_rand[i : i + batch_size]\n",
        "\n",
        "    _, cache = model.run_with_cache(batch_prompts)\n",
        "    x_mid = cache[hook_point]  # [batch, seq, d_model]\n",
        "\n",
        "    sae_features = sae.encode(x_mid)  # [batch, seq, d_sae]\n",
        "    max_seq_len = max(max_seq_len, sae_features.shape[1])\n",
        "\n",
        "    all_sae_features.append(sae_features)\n",
        "\n",
        "    # Prevent OutOfMemoryError\n",
        "    del cache\n",
        "    del x_mid\n",
        "    del sae_features\n",
        "    torch.cuda.empty_cache()\n",
        "    gc.collect()"
      ]
    },
    {
      "cell_type": "code",
      "execution_count": 12,
      "metadata": {
        "colab": {
          "base_uri": "https://localhost:8080/"
        },
        "id": "xwHbGRtQsIeB",
        "outputId": "c13c7902-bfe2-4217-a5ce-79cf1be01d68"
      },
      "outputs": [
        {
          "output_type": "stream",
          "name": "stderr",
          "text": [
            "Padding Tensors: 100%|██████████| 65/65 [00:25<00:00,  2.56it/s]\n"
          ]
        },
        {
          "output_type": "execute_result",
          "data": {
            "text/plain": [
              "0"
            ]
          },
          "metadata": {},
          "execution_count": 12
        }
      ],
      "source": [
        "# Pad tensors to the maximum sequence length before concatenation\n",
        "sae_features_list = []\n",
        "for sae_feature_batch in tqdm(all_sae_features, 'Padding Tensors'):\n",
        "  padding_shape = (0, 0, 0, max_seq_len - sae_feature_batch.shape[1])\n",
        "  padded_batch = torch.nn.functional.pad(sae_feature_batch, padding_shape)\n",
        "  sae_features_list.append(padded_batch)\n",
        "\n",
        "  del sae_feature_batch\n",
        "  del padding_shape\n",
        "  del padded_batch\n",
        "  torch.cuda.empty_cache()\n",
        "  gc.collect()\n",
        "\n",
        "sae_features = torch.cat(sae_features_list, dim=0)\n",
        "\n",
        "del sae_features_list\n",
        "del all_sae_features\n",
        "torch.cuda.empty_cache()\n",
        "gc.collect()"
      ]
    },
    {
      "cell_type": "code",
      "execution_count": 13,
      "metadata": {
        "id": "5ZBlKdgZ5sK7"
      },
      "outputs": [],
      "source": [
        "def rank_features(activations, top_k=10):\n",
        "  \"\"\"\n",
        "  Correctly ranks SAE features across batches and sequence positions\n",
        "  \"\"\"\n",
        "  # Compute metrics across batch and sequence dimensions\n",
        "  chunk_size = 100\n",
        "  num_features = activations.shape[-1]\n",
        "  mean_acts = torch.zeros(num_features, device=activations.device)\n",
        "  firing_rates = torch.zeros(num_features, device=activations.device)\n",
        "\n",
        "  for i in range(0, activations.shape[0], chunk_size):\n",
        "    chunk = activations[i:i + chunk_size]\n",
        "    mean_acts += chunk.mean(dim=(0, 1)) * chunk.shape[0]  # Weighted average\n",
        "    firing_rates += (chunk > 0).float().mean(dim=(0, 1)) * chunk.shape[0]  # Weighted average\n",
        "\n",
        "  mean_acts /= activations.shape[0]  # Normalize\n",
        "  firing_rates /= activations.shape[0]  # Normalize\n",
        "\n",
        "  # Combined score\n",
        "  scores = 0.7*mean_acts + 0.3*firing_rates # [num_features]\n",
        "\n",
        "  # Get top indices\n",
        "  return torch.topk(scores, k=top_k).indices.cpu().numpy()  # [top_k]"
      ]
    },
    {
      "cell_type": "code",
      "execution_count": 14,
      "metadata": {
        "colab": {
          "base_uri": "https://localhost:8080/"
        },
        "id": "LLwbu7SXCZuf",
        "outputId": "0e862fbb-8ffc-478d-aba1-2f32f1b55f7c"
      },
      "outputs": [
        {
          "output_type": "stream",
          "name": "stdout",
          "text": [
            "Top Features: [15071  8217 13271 14659 11694  5990  5182  1254  6884  8324 22491 14472\n",
            " 17384 32098 14947 31223 12296 23097 26865 30395]\n"
          ]
        }
      ],
      "source": [
        "top_k = 20\n",
        "top_feature_indices = rank_features(sae_features, top_k)\n",
        "print('Top Features:', top_feature_indices)"
      ]
    },
    {
      "cell_type": "code",
      "execution_count": 15,
      "metadata": {
        "colab": {
          "base_uri": "https://localhost:8080/"
        },
        "id": "j_7hGJjU6V_f",
        "outputId": "711adb58-2b87-46ad-cb28-62cab21b04e6"
      },
      "outputs": [
        {
          "output_type": "stream",
          "name": "stdout",
          "text": [
            "\n",
            "Example 1: \n",
            "Feature 15071 (max act: 18.64):\n",
            "  - Prompt: 'in my palm is a clear stone , and inside it is a small ivory statuette . a guardian angel . `` figured if you 're going to be out at night getting hit by cars , you might as well have some backup . '' i look at him , feeling stunned . like this is some sort of sign . but as i stare at harlin , his mouth curved in a confident grin , i do n't care about'\n",
            "  - Answer: 'signs'\n",
            "\u001b[38;2;0;0;0m[in]\u001b[0m \u001b[38;2;0;0;0m[ my]\u001b[0m \u001b[38;2;0;0;0m[ palm]\u001b[0m \u001b[38;2;0;0;0m[ is]\u001b[0m \u001b[38;2;0;0;0m[ a]\u001b[0m \u001b[38;2;0;0;0m[ clear]\u001b[0m \u001b[38;2;0;0;0m[ stone]\u001b[0m \u001b[38;2;148;0;0m[ ,]\u001b[0m \u001b[38;2;117;0;0m[ and]\u001b[0m \u001b[38;2;85;0;0m[ inside]\u001b[0m \u001b[38;2;68;0;0m[ it]\u001b[0m \u001b[38;2;17;0;0m[ is]\u001b[0m \u001b[38;2;0;0;0m[ a]\u001b[0m \u001b[38;2;19;0;0m[ small]\u001b[0m \u001b[38;2;40;0;0m[ ivory]\u001b[0m \u001b[38;2;0;0;0m[ stat]\u001b[0m \u001b[38;2;68;0;0m[u]\u001b[0m \u001b[38;2;65;0;0m[ette]\u001b[0m \u001b[38;2;143;0;0m[ .]\u001b[0m \u001b[38;2;86;0;0m[ a]\u001b[0m \u001b[38;2;97;0;0m[ guardian]\u001b[0m \u001b[38;2;113;0;0m[ angel]\u001b[0m \u001b[38;2;86;0;0m[ .]\u001b[0m \u001b[38;2;186;0;0m[ ``]\u001b[0m \u001b[38;2;51;0;0m[ figured]\u001b[0m \u001b[38;2;90;0;0m[ if]\u001b[0m \u001b[38;2;36;0;0m[ you]\u001b[0m \u001b[38;2;140;0;0m[ ']\u001b[0m \u001b[38;2;21;0;0m[re]\u001b[0m \u001b[38;2;0;0;0m[ going]\u001b[0m \u001b[38;2;36;0;0m[ to]\u001b[0m \u001b[38;2;61;0;0m[ be]\u001b[0m \u001b[38;2;50;0;0m[ out]\u001b[0m \u001b[38;2;94;0;0m[ at]\u001b[0m \u001b[38;2;96;0;0m[ night]\u001b[0m \u001b[38;2;40;0;0m[ getting]\u001b[0m \u001b[38;2;99;0;0m[ hit]\u001b[0m \u001b[38;2;35;0;0m[ by]\u001b[0m \u001b[38;2;88;0;0m[ cars]\u001b[0m \u001b[38;2;71;0;0m[ ,]\u001b[0m \u001b[38;2;39;0;0m[ you]\u001b[0m \u001b[38;2;59;0;0m[ might]\u001b[0m \u001b[38;2;99;0;0m[ as]\u001b[0m \u001b[38;2;43;0;0m[ well]\u001b[0m \u001b[38;2;31;0;0m[ have]\u001b[0m \u001b[38;2;32;0;0m[ some]\u001b[0m \u001b[38;2;107;0;0m[ backup]\u001b[0m \u001b[38;2;87;0;0m[ .]\u001b[0m \u001b[38;2;105;0;0m[ '']\u001b[0m \u001b[38;2;137;0;0m[ i]\u001b[0m \u001b[38;2;75;0;0m[ look]\u001b[0m \u001b[38;2;56;0;0m[ at]\u001b[0m \u001b[38;2;154;0;0m[ him]\u001b[0m \u001b[38;2;128;0;0m[ ,]\u001b[0m \u001b[38;2;110;0;0m[ feeling]\u001b[0m \u001b[38;2;161;0;0m[ stunned]\u001b[0m \u001b[38;2;120;0;0m[ .]\u001b[0m \u001b[38;2;157;0;0m[ like]\u001b[0m \u001b[38;2;142;0;0m[ this]\u001b[0m \u001b[38;2;53;0;0m[ is]\u001b[0m \u001b[38;2;35;0;0m[ some]\u001b[0m \u001b[38;2;93;0;0m[ sort]\u001b[0m \u001b[38;2;30;0;0m[ of]\u001b[0m \u001b[38;2;137;0;0m[ sign]\u001b[0m \u001b[38;2;112;0;0m[ .]\u001b[0m \u001b[38;2;132;0;0m[ but]\u001b[0m \u001b[38;2;115;0;0m[ as]\u001b[0m \u001b[38;2;111;0;0m[ i]\u001b[0m \u001b[38;2;97;0;0m[ stare]\u001b[0m \u001b[38;2;37;0;0m[ at]\u001b[0m \u001b[38;2;95;0;0m[ har]\u001b[0m \u001b[38;2;120;0;0m[lin]\u001b[0m \u001b[38;2;69;0;0m[ ,]\u001b[0m \u001b[38;2;50;0;0m[ his]\u001b[0m \u001b[38;2;110;0;0m[ mouth]\u001b[0m \u001b[38;2;140;0;0m[ curved]\u001b[0m \u001b[38;2;73;0;0m[ in]\u001b[0m \u001b[38;2;72;0;0m[ a]\u001b[0m \u001b[38;2;108;0;0m[ confident]\u001b[0m \u001b[38;2;172;0;0m[ grin]\u001b[0m \u001b[38;2;125;0;0m[ ,]\u001b[0m \u001b[38;2;83;0;0m[ i]\u001b[0m \u001b[38;2;95;0;0m[ do]\u001b[0m \u001b[38;2;94;0;0m[ n]\u001b[0m \u001b[38;2;63;0;0m['t]\u001b[0m \u001b[38;2;135;0;0m[ care]\u001b[0m \u001b[38;2;45;0;0m[ about]\u001b[0m\n",
            "\n",
            "\n",
            "Example 2: \n",
            "Feature 15071 (max act: 14.98):\n",
            "  - Prompt: 'give me a minute to change and i 'll meet you at the docks . '' she 'd forced those words through her teeth . `` no need to change . we wo n't be that long . '' shane gripped her arm and started leading her to the dock . `` i can make it there on my own ,'\n",
            "  - Answer: 'shane'\n",
            "\u001b[38;2;0;0;0m[give]\u001b[0m \u001b[38;2;0;0;0m[ me]\u001b[0m \u001b[38;2;0;0;0m[ a]\u001b[0m \u001b[38;2;0;0;0m[ minute]\u001b[0m \u001b[38;2;0;0;0m[ to]\u001b[0m \u001b[38;2;0;0;0m[ change]\u001b[0m \u001b[38;2;0;0;0m[ and]\u001b[0m \u001b[38;2;0;0;0m[ i]\u001b[0m \u001b[38;2;0;0;0m[ ']\u001b[0m \u001b[38;2;0;0;0m[ll]\u001b[0m \u001b[38;2;0;0;0m[ meet]\u001b[0m \u001b[38;2;0;0;0m[ you]\u001b[0m \u001b[38;2;0;0;0m[ at]\u001b[0m \u001b[38;2;0;0;0m[ the]\u001b[0m \u001b[38;2;0;0;0m[ docks]\u001b[0m \u001b[38;2;81;0;0m[ .]\u001b[0m \u001b[38;2;76;0;0m[ '']\u001b[0m \u001b[38;2;33;0;0m[ she]\u001b[0m \u001b[38;2;36;0;0m[ ']\u001b[0m \u001b[38;2;21;0;0m[d]\u001b[0m \u001b[38;2;41;0;0m[ forced]\u001b[0m \u001b[38;2;50;0;0m[ those]\u001b[0m \u001b[38;2;28;0;0m[ words]\u001b[0m \u001b[38;2;33;0;0m[ through]\u001b[0m \u001b[38;2;0;0;0m[ her]\u001b[0m \u001b[38;2;57;0;0m[ teeth]\u001b[0m \u001b[38;2;76;0;0m[ .]\u001b[0m \u001b[38;2;118;0;0m[ ``]\u001b[0m \u001b[38;2;76;0;0m[ no]\u001b[0m \u001b[38;2;112;0;0m[ need]\u001b[0m \u001b[38;2;44;0;0m[ to]\u001b[0m \u001b[38;2;44;0;0m[ change]\u001b[0m \u001b[38;2;25;0;0m[ .]\u001b[0m \u001b[38;2;33;0;0m[ we]\u001b[0m \u001b[38;2;91;0;0m[ wo]\u001b[0m \u001b[38;2;45;0;0m[ n]\u001b[0m \u001b[38;2;29;0;0m['t]\u001b[0m \u001b[38;2;55;0;0m[ be]\u001b[0m \u001b[38;2;73;0;0m[ that]\u001b[0m \u001b[38;2;73;0;0m[ long]\u001b[0m \u001b[38;2;30;0;0m[ .]\u001b[0m \u001b[38;2;72;0;0m[ '']\u001b[0m \u001b[38;2;70;0;0m[ sh]\u001b[0m \u001b[38;2;46;0;0m[ane]\u001b[0m \u001b[38;2;23;0;0m[ gripped]\u001b[0m \u001b[38;2;34;0;0m[ her]\u001b[0m \u001b[38;2;94;0;0m[ arm]\u001b[0m \u001b[38;2;44;0;0m[ and]\u001b[0m \u001b[38;2;55;0;0m[ started]\u001b[0m \u001b[38;2;0;0;0m[ leading]\u001b[0m \u001b[38;2;23;0;0m[ her]\u001b[0m \u001b[38;2;33;0;0m[ to]\u001b[0m \u001b[38;2;28;0;0m[ the]\u001b[0m \u001b[38;2;54;0;0m[ dock]\u001b[0m \u001b[38;2;52;0;0m[ .]\u001b[0m \u001b[38;2;149;0;0m[ ``]\u001b[0m \u001b[38;2;68;0;0m[ i]\u001b[0m \u001b[38;2;64;0;0m[ can]\u001b[0m \u001b[38;2;48;0;0m[ make]\u001b[0m \u001b[38;2;28;0;0m[ it]\u001b[0m \u001b[38;2;82;0;0m[ there]\u001b[0m \u001b[38;2;61;0;0m[ on]\u001b[0m \u001b[38;2;48;0;0m[ my]\u001b[0m \u001b[38;2;90;0;0m[ own]\u001b[0m \u001b[38;2;63;0;0m[ ,]\u001b[0m\n",
            "\n",
            "\n",
            "Example 3: \n",
            "Feature 15071 (max act: 19.27):\n",
            "  - Prompt: '`` only one source i know of that would be likely to cough up enough money to finance a phony sleep research facility and pay people big bucks to solve crimes in their dreams , '' farrell concluded dryly . `` what can i say ? '' ellis unfolded his arms and widened his hands . `` your tax dollars at work . '' before farrell could respond , leila 's voice rose from inside the house . `` no insurance ? '' she wailed . `` what do you mean you do n't have any'\n",
            "  - Answer: 'insurance'\n",
            "\u001b[38;2;0;0;0m[``]\u001b[0m \u001b[38;2;0;0;0m[ only]\u001b[0m \u001b[38;2;0;0;0m[ one]\u001b[0m \u001b[38;2;0;0;0m[ source]\u001b[0m \u001b[38;2;0;0;0m[ i]\u001b[0m \u001b[38;2;0;0;0m[ know]\u001b[0m \u001b[38;2;0;0;0m[ of]\u001b[0m \u001b[38;2;0;0;0m[ that]\u001b[0m \u001b[38;2;0;0;0m[ would]\u001b[0m \u001b[38;2;0;0;0m[ be]\u001b[0m \u001b[38;2;0;0;0m[ likely]\u001b[0m \u001b[38;2;0;0;0m[ to]\u001b[0m \u001b[38;2;0;0;0m[ cough]\u001b[0m \u001b[38;2;0;0;0m[ up]\u001b[0m \u001b[38;2;0;0;0m[ enough]\u001b[0m \u001b[38;2;0;0;0m[ money]\u001b[0m \u001b[38;2;0;0;0m[ to]\u001b[0m \u001b[38;2;0;0;0m[ finance]\u001b[0m \u001b[38;2;0;0;0m[ a]\u001b[0m \u001b[38;2;0;0;0m[ phony]\u001b[0m \u001b[38;2;0;0;0m[ sleep]\u001b[0m \u001b[38;2;0;0;0m[ research]\u001b[0m \u001b[38;2;0;0;0m[ facility]\u001b[0m \u001b[38;2;0;0;0m[ and]\u001b[0m \u001b[38;2;0;0;0m[ pay]\u001b[0m \u001b[38;2;0;0;0m[ people]\u001b[0m \u001b[38;2;0;0;0m[ big]\u001b[0m \u001b[38;2;0;0;0m[ bucks]\u001b[0m \u001b[38;2;0;0;0m[ to]\u001b[0m \u001b[38;2;0;0;0m[ solve]\u001b[0m \u001b[38;2;0;0;0m[ crimes]\u001b[0m \u001b[38;2;0;0;0m[ in]\u001b[0m \u001b[38;2;0;0;0m[ their]\u001b[0m \u001b[38;2;0;0;0m[ dreams]\u001b[0m \u001b[38;2;58;0;0m[ ,]\u001b[0m \u001b[38;2;93;0;0m[ '']\u001b[0m \u001b[38;2;22;0;0m[ far]\u001b[0m \u001b[38;2;54;0;0m[rell]\u001b[0m \u001b[38;2;47;0;0m[ concluded]\u001b[0m \u001b[38;2;20;0;0m[ dry]\u001b[0m \u001b[38;2;82;0;0m[ly]\u001b[0m \u001b[38;2;92;0;0m[ .]\u001b[0m \u001b[38;2;150;0;0m[ ``]\u001b[0m \u001b[38;2;62;0;0m[ what]\u001b[0m \u001b[38;2;70;0;0m[ can]\u001b[0m \u001b[38;2;66;0;0m[ i]\u001b[0m \u001b[38;2;128;0;0m[ say]\u001b[0m \u001b[38;2;83;0;0m[ ?]\u001b[0m \u001b[38;2;128;0;0m[ '']\u001b[0m \u001b[38;2;46;0;0m[ ell]\u001b[0m \u001b[38;2;62;0;0m[is]\u001b[0m \u001b[38;2;91;0;0m[ unfolded]\u001b[0m \u001b[38;2;35;0;0m[ his]\u001b[0m \u001b[38;2;81;0;0m[ arms]\u001b[0m \u001b[38;2;48;0;0m[ and]\u001b[0m \u001b[38;2;54;0;0m[ widened]\u001b[0m \u001b[38;2;0;0;0m[ his]\u001b[0m \u001b[38;2;81;0;0m[ hands]\u001b[0m \u001b[38;2;68;0;0m[ .]\u001b[0m \u001b[38;2;141;0;0m[ ``]\u001b[0m \u001b[38;2;76;0;0m[ your]\u001b[0m \u001b[38;2;73;0;0m[ tax]\u001b[0m \u001b[38;2;87;0;0m[ dollars]\u001b[0m \u001b[38;2;90;0;0m[ at]\u001b[0m \u001b[38;2;70;0;0m[ work]\u001b[0m \u001b[38;2;36;0;0m[ .]\u001b[0m \u001b[38;2;81;0;0m[ '']\u001b[0m \u001b[38;2;79;0;0m[ before]\u001b[0m \u001b[38;2;0;0;0m[ far]\u001b[0m \u001b[38;2;56;0;0m[rell]\u001b[0m \u001b[38;2;58;0;0m[ could]\u001b[0m \u001b[38;2;156;0;0m[ respond]\u001b[0m \u001b[38;2;102;0;0m[ ,]\u001b[0m \u001b[38;2;34;0;0m[ le]\u001b[0m \u001b[38;2;58;0;0m[ila]\u001b[0m \u001b[38;2;192;0;0m[ ']\u001b[0m \u001b[38;2;0;0;0m[s]\u001b[0m \u001b[38;2;58;0;0m[ voice]\u001b[0m \u001b[38;2;63;0;0m[ rose]\u001b[0m \u001b[38;2;57;0;0m[ from]\u001b[0m \u001b[38;2;60;0;0m[ inside]\u001b[0m \u001b[38;2;26;0;0m[ the]\u001b[0m \u001b[38;2;112;0;0m[ house]\u001b[0m \u001b[38;2;97;0;0m[ .]\u001b[0m \u001b[38;2;148;0;0m[ ``]\u001b[0m \u001b[38;2;113;0;0m[ no]\u001b[0m \u001b[38;2;88;0;0m[ insurance]\u001b[0m \u001b[38;2;60;0;0m[ ?]\u001b[0m \u001b[38;2;55;0;0m[ '']\u001b[0m \u001b[38;2;34;0;0m[ she]\u001b[0m \u001b[38;2;84;0;0m[ w]\u001b[0m \u001b[38;2;155;0;0m[ailed]\u001b[0m \u001b[38;2;79;0;0m[ .]\u001b[0m \u001b[38;2;119;0;0m[ ``]\u001b[0m \u001b[38;2;108;0;0m[ what]\u001b[0m \u001b[38;2;68;0;0m[ do]\u001b[0m \u001b[38;2;92;0;0m[ you]\u001b[0m \u001b[38;2;148;0;0m[ mean]\u001b[0m \u001b[38;2;69;0;0m[ you]\u001b[0m \u001b[38;2;72;0;0m[ do]\u001b[0m \u001b[38;2;107;0;0m[ n]\u001b[0m \u001b[38;2;20;0;0m['t]\u001b[0m \u001b[38;2;40;0;0m[ have]\u001b[0m \u001b[38;2;46;0;0m[ any]\u001b[0m\n",
            "\n",
            "\n",
            "Example 4: \n",
            "Feature 15071 (max act: 18.84):\n",
            "  - Prompt: 'helen 's heart broke a little in the face of miss mabel 's selfless courage . she thought that because she was old , her life was of less value than the others ' . for all helen knew , miss mabel had a lot more years to live than she did . `` not going to happen , '' replied'\n",
            "  - Answer: 'helen'\n",
            "\u001b[38;2;0;0;0m[hel]\u001b[0m \u001b[38;2;0;0;0m[en]\u001b[0m \u001b[38;2;0;0;0m[ ']\u001b[0m \u001b[38;2;18;0;0m[s]\u001b[0m \u001b[38;2;28;0;0m[ heart]\u001b[0m \u001b[38;2;38;0;0m[ broke]\u001b[0m \u001b[38;2;0;0;0m[ a]\u001b[0m \u001b[38;2;0;0;0m[ little]\u001b[0m \u001b[38;2;43;0;0m[ in]\u001b[0m \u001b[38;2;0;0;0m[ the]\u001b[0m \u001b[38;2;0;0;0m[ face]\u001b[0m \u001b[38;2;0;0;0m[ of]\u001b[0m \u001b[38;2;36;0;0m[ miss]\u001b[0m \u001b[38;2;40;0;0m[ m]\u001b[0m \u001b[38;2;48;0;0m[abel]\u001b[0m \u001b[38;2;38;0;0m[ ']\u001b[0m \u001b[38;2;0;0;0m[s]\u001b[0m \u001b[38;2;54;0;0m[ self]\u001b[0m \u001b[38;2;35;0;0m[less]\u001b[0m \u001b[38;2;70;0;0m[ courage]\u001b[0m \u001b[38;2;125;0;0m[ .]\u001b[0m \u001b[38;2;80;0;0m[ she]\u001b[0m \u001b[38;2;103;0;0m[ thought]\u001b[0m \u001b[38;2;68;0;0m[ that]\u001b[0m \u001b[38;2;52;0;0m[ because]\u001b[0m \u001b[38;2;50;0;0m[ she]\u001b[0m \u001b[38;2;48;0;0m[ was]\u001b[0m \u001b[38;2;73;0;0m[ old]\u001b[0m \u001b[38;2;108;0;0m[ ,]\u001b[0m \u001b[38;2;40;0;0m[ her]\u001b[0m \u001b[38;2;57;0;0m[ life]\u001b[0m \u001b[38;2;62;0;0m[ was]\u001b[0m \u001b[38;2;68;0;0m[ of]\u001b[0m \u001b[38;2;66;0;0m[ less]\u001b[0m \u001b[38;2;136;0;0m[ value]\u001b[0m \u001b[38;2;0;0;0m[ than]\u001b[0m \u001b[38;2;24;0;0m[ the]\u001b[0m \u001b[38;2;96;0;0m[ others]\u001b[0m \u001b[38;2;182;0;0m[ ']\u001b[0m \u001b[38;2;104;0;0m[ .]\u001b[0m \u001b[38;2;116;0;0m[ for]\u001b[0m \u001b[38;2;74;0;0m[ all]\u001b[0m \u001b[38;2;78;0;0m[ hel]\u001b[0m \u001b[38;2;65;0;0m[en]\u001b[0m \u001b[38;2;121;0;0m[ knew]\u001b[0m \u001b[38;2;84;0;0m[ ,]\u001b[0m \u001b[38;2;49;0;0m[ miss]\u001b[0m \u001b[38;2;36;0;0m[ m]\u001b[0m \u001b[38;2;81;0;0m[abel]\u001b[0m \u001b[38;2;63;0;0m[ had]\u001b[0m \u001b[38;2;65;0;0m[ a]\u001b[0m \u001b[38;2;92;0;0m[ lot]\u001b[0m \u001b[38;2;73;0;0m[ more]\u001b[0m \u001b[38;2;105;0;0m[ years]\u001b[0m \u001b[38;2;49;0;0m[ to]\u001b[0m \u001b[38;2;97;0;0m[ live]\u001b[0m \u001b[38;2;27;0;0m[ than]\u001b[0m \u001b[38;2;44;0;0m[ she]\u001b[0m \u001b[38;2;70;0;0m[ did]\u001b[0m \u001b[38;2;91;0;0m[ .]\u001b[0m \u001b[38;2;188;0;0m[ ``]\u001b[0m \u001b[38;2;95;0;0m[ not]\u001b[0m \u001b[38;2;87;0;0m[ going]\u001b[0m \u001b[38;2;87;0;0m[ to]\u001b[0m \u001b[38;2;153;0;0m[ happen]\u001b[0m \u001b[38;2;77;0;0m[ ,]\u001b[0m \u001b[38;2;56;0;0m[ '']\u001b[0m \u001b[38;2;57;0;0m[ replied]\u001b[0m\n",
            "\n",
            "\n",
            "Example 5: \n",
            "Feature 15071 (max act: 17.34):\n",
            "  - Prompt: 'preston had been the last person to wear those chains , and i knew what i 'd see and feel if they were slipped onto my skin-the reaper 's unending hatred of me . i 'd felt enough of that emotion already in the amphitheater . i did n't want to feel anymore . `` do n't put those on me , '' i whispered . `` please . '' sergei looked at me , surprised by my low , raspy please , but he put down the'\n",
            "  - Answer: 'chains'\n",
            "\u001b[38;2;0;0;0m[p]\u001b[0m \u001b[38;2;0;0;0m[rest]\u001b[0m \u001b[38;2;0;0;0m[on]\u001b[0m \u001b[38;2;0;0;0m[ had]\u001b[0m \u001b[38;2;0;0;0m[ been]\u001b[0m \u001b[38;2;0;0;0m[ the]\u001b[0m \u001b[38;2;0;0;0m[ last]\u001b[0m \u001b[38;2;0;0;0m[ person]\u001b[0m \u001b[38;2;0;0;0m[ to]\u001b[0m \u001b[38;2;0;0;0m[ wear]\u001b[0m \u001b[38;2;0;0;0m[ those]\u001b[0m \u001b[38;2;0;0;0m[ chains]\u001b[0m \u001b[38;2;154;0;0m[ ,]\u001b[0m \u001b[38;2;112;0;0m[ and]\u001b[0m \u001b[38;2;64;0;0m[ i]\u001b[0m \u001b[38;2;67;0;0m[ knew]\u001b[0m \u001b[38;2;52;0;0m[ what]\u001b[0m \u001b[38;2;17;0;0m[ i]\u001b[0m \u001b[38;2;91;0;0m[ ']\u001b[0m \u001b[38;2;15;0;0m[d]\u001b[0m \u001b[38;2;70;0;0m[ see]\u001b[0m \u001b[38;2;26;0;0m[ and]\u001b[0m \u001b[38;2;54;0;0m[ feel]\u001b[0m \u001b[38;2;58;0;0m[ if]\u001b[0m \u001b[38;2;30;0;0m[ they]\u001b[0m \u001b[38;2;51;0;0m[ were]\u001b[0m \u001b[38;2;65;0;0m[ slipped]\u001b[0m \u001b[38;2;58;0;0m[ onto]\u001b[0m \u001b[38;2;43;0;0m[ my]\u001b[0m \u001b[38;2;117;0;0m[ skin]\u001b[0m \u001b[38;2;38;0;0m[-]\u001b[0m \u001b[38;2;49;0;0m[the]\u001b[0m \u001b[38;2;51;0;0m[ re]\u001b[0m \u001b[38;2;46;0;0m[aper]\u001b[0m \u001b[38;2;81;0;0m[ ']\u001b[0m \u001b[38;2;26;0;0m[s]\u001b[0m \u001b[38;2;65;0;0m[ un]\u001b[0m \u001b[38;2;28;0;0m[ending]\u001b[0m \u001b[38;2;62;0;0m[ hatred]\u001b[0m \u001b[38;2;36;0;0m[ of]\u001b[0m \u001b[38;2;53;0;0m[ me]\u001b[0m \u001b[38;2;108;0;0m[ .]\u001b[0m \u001b[38;2;68;0;0m[ i]\u001b[0m \u001b[38;2;51;0;0m[ ']\u001b[0m \u001b[38;2;42;0;0m[d]\u001b[0m \u001b[38;2;79;0;0m[ felt]\u001b[0m \u001b[38;2;65;0;0m[ enough]\u001b[0m \u001b[38;2;50;0;0m[ of]\u001b[0m \u001b[38;2;69;0;0m[ that]\u001b[0m \u001b[38;2;61;0;0m[ emotion]\u001b[0m \u001b[38;2;47;0;0m[ already]\u001b[0m \u001b[38;2;55;0;0m[ in]\u001b[0m \u001b[38;2;54;0;0m[ the]\u001b[0m \u001b[38;2;56;0;0m[ amph]\u001b[0m \u001b[38;2;43;0;0m[ithe]\u001b[0m \u001b[38;2;71;0;0m[ater]\u001b[0m \u001b[38;2;87;0;0m[ .]\u001b[0m \u001b[38;2;66;0;0m[ i]\u001b[0m \u001b[38;2;95;0;0m[ did]\u001b[0m \u001b[38;2;85;0;0m[ n]\u001b[0m \u001b[38;2;42;0;0m['t]\u001b[0m \u001b[38;2;80;0;0m[ want]\u001b[0m \u001b[38;2;43;0;0m[ to]\u001b[0m \u001b[38;2;62;0;0m[ feel]\u001b[0m \u001b[38;2;72;0;0m[ anymore]\u001b[0m \u001b[38;2;98;0;0m[ .]\u001b[0m \u001b[38;2;168;0;0m[ ``]\u001b[0m \u001b[38;2;77;0;0m[ do]\u001b[0m \u001b[38;2;66;0;0m[ n]\u001b[0m \u001b[38;2;58;0;0m['t]\u001b[0m \u001b[38;2;95;0;0m[ put]\u001b[0m \u001b[38;2;67;0;0m[ those]\u001b[0m \u001b[38;2;112;0;0m[ on]\u001b[0m \u001b[38;2;125;0;0m[ me]\u001b[0m \u001b[38;2;82;0;0m[ ,]\u001b[0m \u001b[38;2;68;0;0m[ '']\u001b[0m \u001b[38;2;38;0;0m[ i]\u001b[0m \u001b[38;2;149;0;0m[ whispered]\u001b[0m \u001b[38;2;76;0;0m[ .]\u001b[0m \u001b[38;2;173;0;0m[ ``]\u001b[0m \u001b[38;2;164;0;0m[ please]\u001b[0m \u001b[38;2;42;0;0m[ .]\u001b[0m \u001b[38;2;104;0;0m[ '']\u001b[0m \u001b[38;2;104;0;0m[ ser]\u001b[0m \u001b[38;2;134;0;0m[ge]\u001b[0m \u001b[38;2;111;0;0m[i]\u001b[0m \u001b[38;2;77;0;0m[ looked]\u001b[0m \u001b[38;2;70;0;0m[ at]\u001b[0m \u001b[38;2;120;0;0m[ me]\u001b[0m \u001b[38;2;117;0;0m[ ,]\u001b[0m \u001b[38;2;163;0;0m[ surprised]\u001b[0m \u001b[38;2;47;0;0m[ by]\u001b[0m \u001b[38;2;36;0;0m[ my]\u001b[0m \u001b[38;2;70;0;0m[ low]\u001b[0m \u001b[38;2;120;0;0m[ ,]\u001b[0m \u001b[38;2;54;0;0m[ r]\u001b[0m \u001b[38;2;109;0;0m[asp]\u001b[0m \u001b[38;2;52;0;0m[y]\u001b[0m \u001b[38;2;113;0;0m[ please]\u001b[0m \u001b[38;2;76;0;0m[ ,]\u001b[0m \u001b[38;2;66;0;0m[ but]\u001b[0m \u001b[38;2;107;0;0m[ he]\u001b[0m \u001b[38;2;55;0;0m[ put]\u001b[0m \u001b[38;2;84;0;0m[ down]\u001b[0m \u001b[38;2;44;0;0m[ the]\u001b[0m\n",
            "\n",
            "\n",
            "Example 6: \n",
            "Feature 15071 (max act: 18.75):\n",
            "  - Prompt: 'she knew that basha was a decent young man , that he was pretty sweet and friendly with her . jawen knew they had a bit of a history , but she thought that this time she would get along better with him , that she could overlook those problems . they kissed , and she knew that she liked basha , but then hastin interfered . she was so angry that she immediately said , once they were out of earshot of basha , `` you do n't mean anything to me anymore ,'\n",
            "  - Answer: 'hastin'\n",
            "\u001b[38;2;0;0;0m[she]\u001b[0m \u001b[38;2;0;0;0m[ knew]\u001b[0m \u001b[38;2;0;0;0m[ that]\u001b[0m \u001b[38;2;0;0;0m[ b]\u001b[0m \u001b[38;2;0;0;0m[asha]\u001b[0m \u001b[38;2;0;0;0m[ was]\u001b[0m \u001b[38;2;0;0;0m[ a]\u001b[0m \u001b[38;2;0;0;0m[ decent]\u001b[0m \u001b[38;2;0;0;0m[ young]\u001b[0m \u001b[38;2;30;0;0m[ man]\u001b[0m \u001b[38;2;132;0;0m[ ,]\u001b[0m \u001b[38;2;56;0;0m[ that]\u001b[0m \u001b[38;2;44;0;0m[ he]\u001b[0m \u001b[38;2;50;0;0m[ was]\u001b[0m \u001b[38;2;90;0;0m[ pretty]\u001b[0m \u001b[38;2;152;0;0m[ sweet]\u001b[0m \u001b[38;2;22;0;0m[ and]\u001b[0m \u001b[38;2;153;0;0m[ friendly]\u001b[0m \u001b[38;2;49;0;0m[ with]\u001b[0m \u001b[38;2;99;0;0m[ her]\u001b[0m \u001b[38;2;120;0;0m[ .]\u001b[0m \u001b[38;2;51;0;0m[ jaw]\u001b[0m \u001b[38;2;48;0;0m[en]\u001b[0m \u001b[38;2;65;0;0m[ knew]\u001b[0m \u001b[38;2;46;0;0m[ they]\u001b[0m \u001b[38;2;46;0;0m[ had]\u001b[0m \u001b[38;2;48;0;0m[ a]\u001b[0m \u001b[38;2;78;0;0m[ bit]\u001b[0m \u001b[38;2;47;0;0m[ of]\u001b[0m \u001b[38;2;46;0;0m[ a]\u001b[0m \u001b[38;2;144;0;0m[ history]\u001b[0m \u001b[38;2;76;0;0m[ ,]\u001b[0m \u001b[38;2;55;0;0m[ but]\u001b[0m \u001b[38;2;43;0;0m[ she]\u001b[0m \u001b[38;2;54;0;0m[ thought]\u001b[0m \u001b[38;2;30;0;0m[ that]\u001b[0m \u001b[38;2;31;0;0m[ this]\u001b[0m \u001b[38;2;47;0;0m[ time]\u001b[0m \u001b[38;2;26;0;0m[ she]\u001b[0m \u001b[38;2;34;0;0m[ would]\u001b[0m \u001b[38;2;0;0;0m[ get]\u001b[0m \u001b[38;2;53;0;0m[ along]\u001b[0m \u001b[38;2;80;0;0m[ better]\u001b[0m \u001b[38;2;0;0;0m[ with]\u001b[0m \u001b[38;2;110;0;0m[ him]\u001b[0m \u001b[38;2;66;0;0m[ ,]\u001b[0m \u001b[38;2;0;0;0m[ that]\u001b[0m \u001b[38;2;0;0;0m[ she]\u001b[0m \u001b[38;2;0;0;0m[ could]\u001b[0m \u001b[38;2;18;0;0m[ overlook]\u001b[0m \u001b[38;2;28;0;0m[ those]\u001b[0m \u001b[38;2;109;0;0m[ problems]\u001b[0m \u001b[38;2;80;0;0m[ .]\u001b[0m \u001b[38;2;33;0;0m[ they]\u001b[0m \u001b[38;2;87;0;0m[ kissed]\u001b[0m \u001b[38;2;61;0;0m[ ,]\u001b[0m \u001b[38;2;59;0;0m[ and]\u001b[0m \u001b[38;2;37;0;0m[ she]\u001b[0m \u001b[38;2;78;0;0m[ knew]\u001b[0m \u001b[38;2;44;0;0m[ that]\u001b[0m \u001b[38;2;24;0;0m[ she]\u001b[0m \u001b[38;2;0;0;0m[ liked]\u001b[0m \u001b[38;2;57;0;0m[ b]\u001b[0m \u001b[38;2;111;0;0m[asha]\u001b[0m \u001b[38;2;69;0;0m[ ,]\u001b[0m \u001b[38;2;18;0;0m[ but]\u001b[0m \u001b[38;2;78;0;0m[ then]\u001b[0m \u001b[38;2;51;0;0m[ hast]\u001b[0m \u001b[38;2;76;0;0m[in]\u001b[0m \u001b[38;2;114;0;0m[ interfered]\u001b[0m \u001b[38;2;52;0;0m[ .]\u001b[0m \u001b[38;2;31;0;0m[ she]\u001b[0m \u001b[38;2;48;0;0m[ was]\u001b[0m \u001b[38;2;99;0;0m[ so]\u001b[0m \u001b[38;2;134;0;0m[ angry]\u001b[0m \u001b[38;2;58;0;0m[ that]\u001b[0m \u001b[38;2;36;0;0m[ she]\u001b[0m \u001b[38;2;70;0;0m[ immediately]\u001b[0m \u001b[38;2;84;0;0m[ said]\u001b[0m \u001b[38;2;153;0;0m[ ,]\u001b[0m \u001b[38;2;113;0;0m[ once]\u001b[0m \u001b[38;2;0;0;0m[ they]\u001b[0m \u001b[38;2;0;0;0m[ were]\u001b[0m \u001b[38;2;95;0;0m[ out]\u001b[0m \u001b[38;2;26;0;0m[ of]\u001b[0m \u001b[38;2;78;0;0m[ e]\u001b[0m \u001b[38;2;27;0;0m[arsh]\u001b[0m \u001b[38;2;73;0;0m[ot]\u001b[0m \u001b[38;2;0;0;0m[ of]\u001b[0m \u001b[38;2;52;0;0m[ b]\u001b[0m \u001b[38;2;132;0;0m[asha]\u001b[0m \u001b[38;2;21;0;0m[ ,]\u001b[0m \u001b[38;2;187;0;0m[ ``]\u001b[0m \u001b[38;2;22;0;0m[ you]\u001b[0m \u001b[38;2;44;0;0m[ do]\u001b[0m \u001b[38;2;50;0;0m[ n]\u001b[0m \u001b[38;2;40;0;0m['t]\u001b[0m \u001b[38;2;102;0;0m[ mean]\u001b[0m \u001b[38;2;83;0;0m[ anything]\u001b[0m \u001b[38;2;49;0;0m[ to]\u001b[0m \u001b[38;2;45;0;0m[ me]\u001b[0m \u001b[38;2;53;0;0m[ anymore]\u001b[0m \u001b[38;2;58;0;0m[ ,]\u001b[0m\n",
            "\n",
            "\n",
            "Example 7: \n",
            "Feature 15071 (max act: 17.16):\n",
            "  - Prompt: 'he heard rhinna speak `` the queen wants you in her carriage . '' tom spoke `` no , i 'm not going in some asylum . '' ran was seen standing next to him spoke `` it 's just for a private talk with you that 's all . '' tom groaned and went inside the carriage to sit down next to the'\n",
            "  - Answer: 'queen'\n",
            "\u001b[38;2;0;0;0m[he]\u001b[0m \u001b[38;2;0;0;0m[ heard]\u001b[0m \u001b[38;2;0;0;0m[ rh]\u001b[0m \u001b[38;2;0;0;0m[in]\u001b[0m \u001b[38;2;0;0;0m[na]\u001b[0m \u001b[38;2;0;0;0m[ speak]\u001b[0m \u001b[38;2;0;0;0m[ ``]\u001b[0m \u001b[38;2;0;0;0m[ the]\u001b[0m \u001b[38;2;18;0;0m[ queen]\u001b[0m \u001b[38;2;30;0;0m[ wants]\u001b[0m \u001b[38;2;28;0;0m[ you]\u001b[0m \u001b[38;2;31;0;0m[ in]\u001b[0m \u001b[38;2;31;0;0m[ her]\u001b[0m \u001b[38;2;38;0;0m[ carriage]\u001b[0m \u001b[38;2;55;0;0m[ .]\u001b[0m \u001b[38;2;53;0;0m[ '']\u001b[0m \u001b[38;2;13;0;0m[ tom]\u001b[0m \u001b[38;2;30;0;0m[ spoke]\u001b[0m \u001b[38;2;100;0;0m[ ``]\u001b[0m \u001b[38;2;56;0;0m[ no]\u001b[0m \u001b[38;2;67;0;0m[ ,]\u001b[0m \u001b[38;2;94;0;0m[ i]\u001b[0m \u001b[38;2;139;0;0m[ ']\u001b[0m \u001b[38;2;64;0;0m[m]\u001b[0m \u001b[38;2;66;0;0m[ not]\u001b[0m \u001b[38;2;59;0;0m[ going]\u001b[0m \u001b[38;2;72;0;0m[ in]\u001b[0m \u001b[38;2;41;0;0m[ some]\u001b[0m \u001b[38;2;93;0;0m[ asylum]\u001b[0m \u001b[38;2;43;0;0m[ .]\u001b[0m \u001b[38;2;20;0;0m[ '']\u001b[0m \u001b[38;2;18;0;0m[ ran]\u001b[0m \u001b[38;2;27;0;0m[ was]\u001b[0m \u001b[38;2;14;0;0m[ seen]\u001b[0m \u001b[38;2;25;0;0m[ standing]\u001b[0m \u001b[38;2;17;0;0m[ next]\u001b[0m \u001b[38;2;0;0;0m[ to]\u001b[0m \u001b[38;2;32;0;0m[ him]\u001b[0m \u001b[38;2;37;0;0m[ spoke]\u001b[0m \u001b[38;2;126;0;0m[ ``]\u001b[0m \u001b[38;2;46;0;0m[ it]\u001b[0m \u001b[38;2;171;0;0m[ ']\u001b[0m \u001b[38;2;42;0;0m[s]\u001b[0m \u001b[38;2;84;0;0m[ just]\u001b[0m \u001b[38;2;90;0;0m[ for]\u001b[0m \u001b[38;2;63;0;0m[ a]\u001b[0m \u001b[38;2;81;0;0m[ private]\u001b[0m \u001b[38;2;91;0;0m[ talk]\u001b[0m \u001b[38;2;39;0;0m[ with]\u001b[0m \u001b[38;2;74;0;0m[ you]\u001b[0m \u001b[38;2;61;0;0m[ that]\u001b[0m \u001b[38;2;162;0;0m[ ']\u001b[0m \u001b[38;2;25;0;0m[s]\u001b[0m \u001b[38;2;41;0;0m[ all]\u001b[0m \u001b[38;2;49;0;0m[ .]\u001b[0m \u001b[38;2;24;0;0m[ '']\u001b[0m \u001b[38;2;32;0;0m[ tom]\u001b[0m \u001b[38;2;35;0;0m[ gro]\u001b[0m \u001b[38;2;31;0;0m[aned]\u001b[0m \u001b[38;2;28;0;0m[ and]\u001b[0m \u001b[38;2;27;0;0m[ went]\u001b[0m \u001b[38;2;0;0;0m[ inside]\u001b[0m \u001b[38;2;0;0;0m[ the]\u001b[0m \u001b[38;2;24;0;0m[ carriage]\u001b[0m \u001b[38;2;0;0;0m[ to]\u001b[0m \u001b[38;2;0;0;0m[ sit]\u001b[0m \u001b[38;2;20;0;0m[ down]\u001b[0m \u001b[38;2;0;0;0m[ next]\u001b[0m \u001b[38;2;0;0;0m[ to]\u001b[0m \u001b[38;2;0;0;0m[ the]\u001b[0m\n",
            "\n",
            "\n",
            "Example 8: \n",
            "Feature 15071 (max act: 18.84):\n",
            "  - Prompt: 'there was no way he would come here on his own . he ordered a cup of coffee , and then we just sat in silence . `` so , '' aidan finally said , `` how 's it going ? '' i laughed . `` not much has changed since the last time i saw you . '' `` ya know , you eat here a lot , '' said'\n",
            "  - Answer: 'aidan'\n",
            "\u001b[38;2;0;0;0m[there]\u001b[0m \u001b[38;2;0;0;0m[ was]\u001b[0m \u001b[38;2;0;0;0m[ no]\u001b[0m \u001b[38;2;0;0;0m[ way]\u001b[0m \u001b[38;2;0;0;0m[ he]\u001b[0m \u001b[38;2;0;0;0m[ would]\u001b[0m \u001b[38;2;0;0;0m[ come]\u001b[0m \u001b[38;2;0;0;0m[ here]\u001b[0m \u001b[38;2;0;0;0m[ on]\u001b[0m \u001b[38;2;0;0;0m[ his]\u001b[0m \u001b[38;2;0;0;0m[ own]\u001b[0m \u001b[38;2;86;0;0m[ .]\u001b[0m \u001b[38;2;0;0;0m[ he]\u001b[0m \u001b[38;2;0;0;0m[ ordered]\u001b[0m \u001b[38;2;0;0;0m[ a]\u001b[0m \u001b[38;2;17;0;0m[ cup]\u001b[0m \u001b[38;2;0;0;0m[ of]\u001b[0m \u001b[38;2;77;0;0m[ coffee]\u001b[0m \u001b[38;2;106;0;0m[ ,]\u001b[0m \u001b[38;2;84;0;0m[ and]\u001b[0m \u001b[38;2;102;0;0m[ then]\u001b[0m \u001b[38;2;42;0;0m[ we]\u001b[0m \u001b[38;2;39;0;0m[ just]\u001b[0m \u001b[38;2;53;0;0m[ sat]\u001b[0m \u001b[38;2;26;0;0m[ in]\u001b[0m \u001b[38;2;117;0;0m[ silence]\u001b[0m \u001b[38;2;127;0;0m[ .]\u001b[0m \u001b[38;2;188;0;0m[ ``]\u001b[0m \u001b[38;2;78;0;0m[ so]\u001b[0m \u001b[38;2;86;0;0m[ ,]\u001b[0m \u001b[38;2;84;0;0m[ '']\u001b[0m \u001b[38;2;75;0;0m[ aid]\u001b[0m \u001b[38;2;85;0;0m[an]\u001b[0m \u001b[38;2;74;0;0m[ finally]\u001b[0m \u001b[38;2;117;0;0m[ said]\u001b[0m \u001b[38;2;79;0;0m[ ,]\u001b[0m \u001b[38;2;153;0;0m[ ``]\u001b[0m \u001b[38;2;81;0;0m[ how]\u001b[0m \u001b[38;2;174;0;0m[ ']\u001b[0m \u001b[38;2;61;0;0m[s]\u001b[0m \u001b[38;2;81;0;0m[ it]\u001b[0m \u001b[38;2;88;0;0m[ going]\u001b[0m \u001b[38;2;70;0;0m[ ?]\u001b[0m \u001b[38;2;90;0;0m[ '']\u001b[0m \u001b[38;2;109;0;0m[ i]\u001b[0m \u001b[38;2;167;0;0m[ laughed]\u001b[0m \u001b[38;2;87;0;0m[ .]\u001b[0m \u001b[38;2;170;0;0m[ ``]\u001b[0m \u001b[38;2;108;0;0m[ not]\u001b[0m \u001b[38;2;140;0;0m[ much]\u001b[0m \u001b[38;2;91;0;0m[ has]\u001b[0m \u001b[38;2;151;0;0m[ changed]\u001b[0m \u001b[38;2;111;0;0m[ since]\u001b[0m \u001b[38;2;92;0;0m[ the]\u001b[0m \u001b[38;2;75;0;0m[ last]\u001b[0m \u001b[38;2;104;0;0m[ time]\u001b[0m \u001b[38;2;42;0;0m[ i]\u001b[0m \u001b[38;2;76;0;0m[ saw]\u001b[0m \u001b[38;2;86;0;0m[ you]\u001b[0m \u001b[38;2;78;0;0m[ .]\u001b[0m \u001b[38;2;92;0;0m[ '']\u001b[0m \u001b[38;2;121;0;0m[ ``]\u001b[0m \u001b[38;2;99;0;0m[ ya]\u001b[0m \u001b[38;2;155;0;0m[ know]\u001b[0m \u001b[38;2;57;0;0m[ ,]\u001b[0m \u001b[38;2;70;0;0m[ you]\u001b[0m \u001b[38;2;115;0;0m[ eat]\u001b[0m \u001b[38;2;151;0;0m[ here]\u001b[0m \u001b[38;2;87;0;0m[ a]\u001b[0m \u001b[38;2;149;0;0m[ lot]\u001b[0m \u001b[38;2;81;0;0m[ ,]\u001b[0m \u001b[38;2;57;0;0m[ '']\u001b[0m \u001b[38;2;79;0;0m[ said]\u001b[0m\n",
            "\n",
            "\n",
            "Example 9: \n",
            "Feature 15071 (max act: 15.15):\n",
            "  - Prompt: '`` why ? '' `` i would have thought you 'd find him rather dry , '' she said . `` i do n't know about that , '' said gabriel . `` he was a great craftsman , '' said heather . `` that he was , '' said flannery . `` and polish , to boot , '' said'\n",
            "  - Answer: 'gabriel'\n",
            "\u001b[38;2;0;0;0m[``]\u001b[0m \u001b[38;2;41;0;0m[ why]\u001b[0m \u001b[38;2;68;0;0m[ ?]\u001b[0m \u001b[38;2;78;0;0m[ '']\u001b[0m \u001b[38;2;31;0;0m[ ``]\u001b[0m \u001b[38;2;41;0;0m[ i]\u001b[0m \u001b[38;2;87;0;0m[ would]\u001b[0m \u001b[38;2;65;0;0m[ have]\u001b[0m \u001b[38;2;75;0;0m[ thought]\u001b[0m \u001b[38;2;35;0;0m[ you]\u001b[0m \u001b[38;2;80;0;0m[ ']\u001b[0m \u001b[38;2;53;0;0m[d]\u001b[0m \u001b[38;2;67;0;0m[ find]\u001b[0m \u001b[38;2;55;0;0m[ him]\u001b[0m \u001b[38;2;38;0;0m[ rather]\u001b[0m \u001b[38;2;72;0;0m[ dry]\u001b[0m \u001b[38;2;86;0;0m[ ,]\u001b[0m \u001b[38;2;62;0;0m[ '']\u001b[0m \u001b[38;2;49;0;0m[ she]\u001b[0m \u001b[38;2;81;0;0m[ said]\u001b[0m \u001b[38;2;108;0;0m[ .]\u001b[0m \u001b[38;2;151;0;0m[ ``]\u001b[0m \u001b[38;2;139;0;0m[ i]\u001b[0m \u001b[38;2;103;0;0m[ do]\u001b[0m \u001b[38;2;136;0;0m[ n]\u001b[0m \u001b[38;2;91;0;0m['t]\u001b[0m \u001b[38;2;101;0;0m[ know]\u001b[0m \u001b[38;2;74;0;0m[ about]\u001b[0m \u001b[38;2;113;0;0m[ that]\u001b[0m \u001b[38;2;75;0;0m[ ,]\u001b[0m \u001b[38;2;64;0;0m[ '']\u001b[0m \u001b[38;2;99;0;0m[ said]\u001b[0m \u001b[38;2;143;0;0m[ g]\u001b[0m \u001b[38;2;109;0;0m[ab]\u001b[0m \u001b[38;2;116;0;0m[riel]\u001b[0m \u001b[38;2;77;0;0m[ .]\u001b[0m \u001b[38;2;120;0;0m[ ``]\u001b[0m \u001b[38;2;100;0;0m[ he]\u001b[0m \u001b[38;2;70;0;0m[ was]\u001b[0m \u001b[38;2;73;0;0m[ a]\u001b[0m \u001b[38;2;112;0;0m[ great]\u001b[0m \u001b[38;2;134;0;0m[ crafts]\u001b[0m \u001b[38;2;135;0;0m[man]\u001b[0m \u001b[38;2;68;0;0m[ ,]\u001b[0m \u001b[38;2;55;0;0m[ '']\u001b[0m \u001b[38;2;41;0;0m[ said]\u001b[0m \u001b[38;2;79;0;0m[ he]\u001b[0m \u001b[38;2;92;0;0m[ather]\u001b[0m \u001b[38;2;67;0;0m[ .]\u001b[0m \u001b[38;2;114;0;0m[ ``]\u001b[0m \u001b[38;2;76;0;0m[ that]\u001b[0m \u001b[38;2;53;0;0m[ he]\u001b[0m \u001b[38;2;64;0;0m[ was]\u001b[0m \u001b[38;2;79;0;0m[ ,]\u001b[0m \u001b[38;2;38;0;0m[ '']\u001b[0m \u001b[38;2;21;0;0m[ said]\u001b[0m \u001b[38;2;22;0;0m[ fl]\u001b[0m \u001b[38;2;65;0;0m[an]\u001b[0m \u001b[38;2;75;0;0m[nery]\u001b[0m \u001b[38;2;57;0;0m[ .]\u001b[0m \u001b[38;2;81;0;0m[ ``]\u001b[0m \u001b[38;2;59;0;0m[ and]\u001b[0m \u001b[38;2;95;0;0m[ polish]\u001b[0m \u001b[38;2;43;0;0m[ ,]\u001b[0m \u001b[38;2;91;0;0m[ to]\u001b[0m \u001b[38;2;127;0;0m[ boot]\u001b[0m \u001b[38;2;50;0;0m[ ,]\u001b[0m \u001b[38;2;37;0;0m[ '']\u001b[0m \u001b[38;2;0;0;0m[ said]\u001b[0m\n",
            "\n",
            "\n",
            "Example 10: \n",
            "Feature 15071 (max act: 11.84):\n",
            "  - Prompt: 'both its sun-speckled shade and the cool grass beneath were a welcome respite after the stifling kitchen , and i was glad to relax against the tree 's rough , brittle bark and begin my breakfast of buttery , toasted bread and fresh fruit . even the water was tasty , it was so clean and cold . it almost made up for the lack of'\n",
            "  - Answer: 'coffee'\n",
            "\u001b[38;2;0;0;0m[both]\u001b[0m \u001b[38;2;0;0;0m[ its]\u001b[0m \u001b[38;2;0;0;0m[ sun]\u001b[0m \u001b[38;2;0;0;0m[-]\u001b[0m \u001b[38;2;0;0;0m[spe]\u001b[0m \u001b[38;2;0;0;0m[ck]\u001b[0m \u001b[38;2;0;0;0m[led]\u001b[0m \u001b[38;2;0;0;0m[ shade]\u001b[0m \u001b[38;2;0;0;0m[ and]\u001b[0m \u001b[38;2;0;0;0m[ the]\u001b[0m \u001b[38;2;0;0;0m[ cool]\u001b[0m \u001b[38;2;0;0;0m[ grass]\u001b[0m \u001b[38;2;0;0;0m[ beneath]\u001b[0m \u001b[38;2;0;0;0m[ were]\u001b[0m \u001b[38;2;0;0;0m[ a]\u001b[0m \u001b[38;2;0;0;0m[ welcome]\u001b[0m \u001b[38;2;0;0;0m[ resp]\u001b[0m \u001b[38;2;0;0;0m[ite]\u001b[0m \u001b[38;2;0;0;0m[ after]\u001b[0m \u001b[38;2;0;0;0m[ the]\u001b[0m \u001b[38;2;0;0;0m[ st]\u001b[0m \u001b[38;2;0;0;0m[ifling]\u001b[0m \u001b[38;2;0;0;0m[ kitchen]\u001b[0m \u001b[38;2;42;0;0m[ ,]\u001b[0m \u001b[38;2;37;0;0m[ and]\u001b[0m \u001b[38;2;63;0;0m[ i]\u001b[0m \u001b[38;2;42;0;0m[ was]\u001b[0m \u001b[38;2;63;0;0m[ glad]\u001b[0m \u001b[38;2;35;0;0m[ to]\u001b[0m \u001b[38;2;48;0;0m[ relax]\u001b[0m \u001b[38;2;28;0;0m[ against]\u001b[0m \u001b[38;2;0;0;0m[ the]\u001b[0m \u001b[38;2;31;0;0m[ tree]\u001b[0m \u001b[38;2;108;0;0m[ ']\u001b[0m \u001b[38;2;0;0;0m[s]\u001b[0m \u001b[38;2;0;0;0m[ rough]\u001b[0m \u001b[38;2;61;0;0m[ ,]\u001b[0m \u001b[38;2;53;0;0m[ brittle]\u001b[0m \u001b[38;2;118;0;0m[ bark]\u001b[0m \u001b[38;2;35;0;0m[ and]\u001b[0m \u001b[38;2;61;0;0m[ begin]\u001b[0m \u001b[38;2;31;0;0m[ my]\u001b[0m \u001b[38;2;75;0;0m[ breakfast]\u001b[0m \u001b[38;2;41;0;0m[ of]\u001b[0m \u001b[38;2;84;0;0m[ butter]\u001b[0m \u001b[38;2;45;0;0m[y]\u001b[0m \u001b[38;2;38;0;0m[ ,]\u001b[0m \u001b[38;2;55;0;0m[ to]\u001b[0m \u001b[38;2;53;0;0m[asted]\u001b[0m \u001b[38;2;116;0;0m[ bread]\u001b[0m \u001b[38;2;22;0;0m[ and]\u001b[0m \u001b[38;2;42;0;0m[ fresh]\u001b[0m \u001b[38;2;101;0;0m[ fruit]\u001b[0m \u001b[38;2;110;0;0m[ .]\u001b[0m \u001b[38;2;88;0;0m[ even]\u001b[0m \u001b[38;2;55;0;0m[ the]\u001b[0m \u001b[38;2;68;0;0m[ water]\u001b[0m \u001b[38;2;65;0;0m[ was]\u001b[0m \u001b[38;2;113;0;0m[ tasty]\u001b[0m \u001b[38;2;82;0;0m[ ,]\u001b[0m \u001b[38;2;84;0;0m[ it]\u001b[0m \u001b[38;2;77;0;0m[ was]\u001b[0m \u001b[38;2;108;0;0m[ so]\u001b[0m \u001b[38;2;112;0;0m[ clean]\u001b[0m \u001b[38;2;47;0;0m[ and]\u001b[0m \u001b[38;2;111;0;0m[ cold]\u001b[0m \u001b[38;2;103;0;0m[ .]\u001b[0m \u001b[38;2;100;0;0m[ it]\u001b[0m \u001b[38;2;77;0;0m[ almost]\u001b[0m \u001b[38;2;78;0;0m[ made]\u001b[0m \u001b[38;2;82;0;0m[ up]\u001b[0m \u001b[38;2;59;0;0m[ for]\u001b[0m \u001b[38;2;26;0;0m[ the]\u001b[0m \u001b[38;2;96;0;0m[ lack]\u001b[0m \u001b[38;2;35;0;0m[ of]\u001b[0m\n",
            "\n",
            "\n",
            "Example 11: \n",
            "Feature 15071 (max act: 19.72):\n",
            "  - Prompt: 'escorting drunk humans out of the bar is different from going up against a tiger-wildcat who eats raw steak for breakfast and is dying for a fight . '' `` i bet he could win with just his breath , '' ronan said . sean chuckled . `` take it seriously , ronan . these guys are seasoned . if marquez has a champion , it means he 's won a good share of the'\n",
            "  - Answer: 'fights'\n",
            "\u001b[38;2;0;0;0m[esc]\u001b[0m \u001b[38;2;0;0;0m[orting]\u001b[0m \u001b[38;2;0;0;0m[ drunk]\u001b[0m \u001b[38;2;0;0;0m[ humans]\u001b[0m \u001b[38;2;0;0;0m[ out]\u001b[0m \u001b[38;2;0;0;0m[ of]\u001b[0m \u001b[38;2;0;0;0m[ the]\u001b[0m \u001b[38;2;0;0;0m[ bar]\u001b[0m \u001b[38;2;0;0;0m[ is]\u001b[0m \u001b[38;2;0;0;0m[ different]\u001b[0m \u001b[38;2;0;0;0m[ from]\u001b[0m \u001b[38;2;0;0;0m[ going]\u001b[0m \u001b[38;2;0;0;0m[ up]\u001b[0m \u001b[38;2;0;0;0m[ against]\u001b[0m \u001b[38;2;0;0;0m[ a]\u001b[0m \u001b[38;2;0;0;0m[ tiger]\u001b[0m \u001b[38;2;0;0;0m[-]\u001b[0m \u001b[38;2;0;0;0m[wild]\u001b[0m \u001b[38;2;0;0;0m[cat]\u001b[0m \u001b[38;2;0;0;0m[ who]\u001b[0m \u001b[38;2;0;0;0m[ eats]\u001b[0m \u001b[38;2;0;0;0m[ raw]\u001b[0m \u001b[38;2;0;0;0m[ steak]\u001b[0m \u001b[38;2;0;0;0m[ for]\u001b[0m \u001b[38;2;0;0;0m[ breakfast]\u001b[0m \u001b[38;2;0;0;0m[ and]\u001b[0m \u001b[38;2;0;0;0m[ is]\u001b[0m \u001b[38;2;0;0;0m[ dying]\u001b[0m \u001b[38;2;0;0;0m[ for]\u001b[0m \u001b[38;2;0;0;0m[ a]\u001b[0m \u001b[38;2;0;0;0m[ fight]\u001b[0m \u001b[38;2;124;0;0m[ .]\u001b[0m \u001b[38;2;133;0;0m[ '']\u001b[0m \u001b[38;2;137;0;0m[ ``]\u001b[0m \u001b[38;2;69;0;0m[ i]\u001b[0m \u001b[38;2;70;0;0m[ bet]\u001b[0m \u001b[38;2;25;0;0m[ he]\u001b[0m \u001b[38;2;45;0;0m[ could]\u001b[0m \u001b[38;2;50;0;0m[ win]\u001b[0m \u001b[38;2;30;0;0m[ with]\u001b[0m \u001b[38;2;35;0;0m[ just]\u001b[0m \u001b[38;2;28;0;0m[ his]\u001b[0m \u001b[38;2;30;0;0m[ breath]\u001b[0m \u001b[38;2;85;0;0m[ ,]\u001b[0m \u001b[38;2;68;0;0m[ '']\u001b[0m \u001b[38;2;74;0;0m[ r]\u001b[0m \u001b[38;2;71;0;0m[on]\u001b[0m \u001b[38;2;93;0;0m[an]\u001b[0m \u001b[38;2;96;0;0m[ said]\u001b[0m \u001b[38;2;101;0;0m[ .]\u001b[0m \u001b[38;2;58;0;0m[ se]\u001b[0m \u001b[38;2;79;0;0m[an]\u001b[0m \u001b[38;2;129;0;0m[ chuckled]\u001b[0m \u001b[38;2;84;0;0m[ .]\u001b[0m \u001b[38;2;160;0;0m[ ``]\u001b[0m \u001b[38;2;127;0;0m[ take]\u001b[0m \u001b[38;2;75;0;0m[ it]\u001b[0m \u001b[38;2;133;0;0m[ seriously]\u001b[0m \u001b[38;2;53;0;0m[ ,]\u001b[0m \u001b[38;2;56;0;0m[ r]\u001b[0m \u001b[38;2;46;0;0m[on]\u001b[0m \u001b[38;2;78;0;0m[an]\u001b[0m \u001b[38;2;70;0;0m[ .]\u001b[0m \u001b[38;2;132;0;0m[ these]\u001b[0m \u001b[38;2;159;0;0m[ guys]\u001b[0m \u001b[38;2;104;0;0m[ are]\u001b[0m \u001b[38;2;152;0;0m[ seasoned]\u001b[0m \u001b[38;2;101;0;0m[ .]\u001b[0m \u001b[38;2;157;0;0m[ if]\u001b[0m \u001b[38;2;73;0;0m[ mar]\u001b[0m \u001b[38;2;102;0;0m[quez]\u001b[0m \u001b[38;2;73;0;0m[ has]\u001b[0m \u001b[38;2;41;0;0m[ a]\u001b[0m \u001b[38;2;134;0;0m[ champion]\u001b[0m \u001b[38;2;70;0;0m[ ,]\u001b[0m \u001b[38;2;52;0;0m[ it]\u001b[0m \u001b[38;2;126;0;0m[ means]\u001b[0m \u001b[38;2;65;0;0m[ he]\u001b[0m \u001b[38;2;197;0;0m[ ']\u001b[0m \u001b[38;2;0;0;0m[s]\u001b[0m \u001b[38;2;108;0;0m[ won]\u001b[0m \u001b[38;2;33;0;0m[ a]\u001b[0m \u001b[38;2;39;0;0m[ good]\u001b[0m \u001b[38;2;130;0;0m[ share]\u001b[0m \u001b[38;2;23;0;0m[ of]\u001b[0m \u001b[38;2;29;0;0m[ the]\u001b[0m\n",
            "\n",
            "\n",
            "Example 12: \n",
            "Feature 15071 (max act: 15.71):\n",
            "  - Prompt: 'instead , i stare straight ahead like i 'm deeply interested in what 's going on at the front of the room . eventually , we make it through to the part where everyone stands up and says their little piece . some have a longer , more in depth story to tell , which terrifies me . i do n't want anyone to ask me for my'\n",
            "  - Answer: 'story'\n",
            "\u001b[38;2;0;0;0m[instead]\u001b[0m \u001b[38;2;16;0;0m[ ,]\u001b[0m \u001b[38;2;77;0;0m[ i]\u001b[0m \u001b[38;2;42;0;0m[ stare]\u001b[0m \u001b[38;2;23;0;0m[ straight]\u001b[0m \u001b[38;2;101;0;0m[ ahead]\u001b[0m \u001b[38;2;63;0;0m[ like]\u001b[0m \u001b[38;2;0;0;0m[ i]\u001b[0m \u001b[38;2;0;0;0m[ ']\u001b[0m \u001b[38;2;0;0;0m[m]\u001b[0m \u001b[38;2;29;0;0m[ deeply]\u001b[0m \u001b[38;2;85;0;0m[ interested]\u001b[0m \u001b[38;2;40;0;0m[ in]\u001b[0m \u001b[38;2;34;0;0m[ what]\u001b[0m \u001b[38;2;30;0;0m[ ']\u001b[0m \u001b[38;2;34;0;0m[s]\u001b[0m \u001b[38;2;21;0;0m[ going]\u001b[0m \u001b[38;2;69;0;0m[ on]\u001b[0m \u001b[38;2;68;0;0m[ at]\u001b[0m \u001b[38;2;49;0;0m[ the]\u001b[0m \u001b[38;2;47;0;0m[ front]\u001b[0m \u001b[38;2;32;0;0m[ of]\u001b[0m \u001b[38;2;29;0;0m[ the]\u001b[0m \u001b[38;2;67;0;0m[ room]\u001b[0m \u001b[38;2;114;0;0m[ .]\u001b[0m \u001b[38;2;95;0;0m[ eventually]\u001b[0m \u001b[38;2;110;0;0m[ ,]\u001b[0m \u001b[38;2;34;0;0m[ we]\u001b[0m \u001b[38;2;47;0;0m[ make]\u001b[0m \u001b[38;2;23;0;0m[ it]\u001b[0m \u001b[38;2;59;0;0m[ through]\u001b[0m \u001b[38;2;41;0;0m[ to]\u001b[0m \u001b[38;2;25;0;0m[ the]\u001b[0m \u001b[38;2;69;0;0m[ part]\u001b[0m \u001b[38;2;76;0;0m[ where]\u001b[0m \u001b[38;2;58;0;0m[ everyone]\u001b[0m \u001b[38;2;0;0;0m[ stands]\u001b[0m \u001b[38;2;108;0;0m[ up]\u001b[0m \u001b[38;2;45;0;0m[ and]\u001b[0m \u001b[38;2;130;0;0m[ says]\u001b[0m \u001b[38;2;49;0;0m[ their]\u001b[0m \u001b[38;2;48;0;0m[ little]\u001b[0m \u001b[38;2;106;0;0m[ piece]\u001b[0m \u001b[38;2;98;0;0m[ .]\u001b[0m \u001b[38;2;74;0;0m[ some]\u001b[0m \u001b[38;2;66;0;0m[ have]\u001b[0m \u001b[38;2;61;0;0m[ a]\u001b[0m \u001b[38;2;58;0;0m[ longer]\u001b[0m \u001b[38;2;85;0;0m[ ,]\u001b[0m \u001b[38;2;34;0;0m[ more]\u001b[0m \u001b[38;2;118;0;0m[ in]\u001b[0m \u001b[38;2;108;0;0m[ depth]\u001b[0m \u001b[38;2;155;0;0m[ story]\u001b[0m \u001b[38;2;41;0;0m[ to]\u001b[0m \u001b[38;2;94;0;0m[ tell]\u001b[0m \u001b[38;2;95;0;0m[ ,]\u001b[0m \u001b[38;2;107;0;0m[ which]\u001b[0m \u001b[38;2;135;0;0m[ terr]\u001b[0m \u001b[38;2;79;0;0m[ifies]\u001b[0m \u001b[38;2;157;0;0m[ me]\u001b[0m \u001b[38;2;139;0;0m[ .]\u001b[0m \u001b[38;2;103;0;0m[ i]\u001b[0m \u001b[38;2;110;0;0m[ do]\u001b[0m \u001b[38;2;93;0;0m[ n]\u001b[0m \u001b[38;2;64;0;0m['t]\u001b[0m \u001b[38;2;112;0;0m[ want]\u001b[0m \u001b[38;2;67;0;0m[ anyone]\u001b[0m \u001b[38;2;44;0;0m[ to]\u001b[0m \u001b[38;2;62;0;0m[ ask]\u001b[0m \u001b[38;2;85;0;0m[ me]\u001b[0m \u001b[38;2;63;0;0m[ for]\u001b[0m \u001b[38;2;56;0;0m[ my]\u001b[0m\n",
            "\n",
            "\n",
            "Example 13: \n",
            "Feature 15071 (max act: 18.01):\n",
            "  - Prompt: 'recall our encounter with the warbirds at the federation border . confirm my memory with yours . '' she turned seren to face her . they placed their foreheads together as when they meditated together . they held hands beneath the surface of the water . they closed their eyes . `` there were five warbirds at the'\n",
            "  - Answer: 'border'\n",
            "\u001b[38;2;0;0;0m[rec]\u001b[0m \u001b[38;2;0;0;0m[all]\u001b[0m \u001b[38;2;0;0;0m[ our]\u001b[0m \u001b[38;2;0;0;0m[ encounter]\u001b[0m \u001b[38;2;0;0;0m[ with]\u001b[0m \u001b[38;2;0;0;0m[ the]\u001b[0m \u001b[38;2;0;0;0m[ war]\u001b[0m \u001b[38;2;0;0;0m[birds]\u001b[0m \u001b[38;2;0;0;0m[ at]\u001b[0m \u001b[38;2;0;0;0m[ the]\u001b[0m \u001b[38;2;0;0;0m[ federation]\u001b[0m \u001b[38;2;0;0;0m[ border]\u001b[0m \u001b[38;2;105;0;0m[ .]\u001b[0m \u001b[38;2;106;0;0m[ confirm]\u001b[0m \u001b[38;2;19;0;0m[ my]\u001b[0m \u001b[38;2;54;0;0m[ memory]\u001b[0m \u001b[38;2;0;0;0m[ with]\u001b[0m \u001b[38;2;24;0;0m[ yours]\u001b[0m \u001b[38;2;28;0;0m[ .]\u001b[0m \u001b[38;2;123;0;0m[ '']\u001b[0m \u001b[38;2;31;0;0m[ she]\u001b[0m \u001b[38;2;34;0;0m[ turned]\u001b[0m \u001b[38;2;37;0;0m[ se]\u001b[0m \u001b[38;2;36;0;0m[ren]\u001b[0m \u001b[38;2;33;0;0m[ to]\u001b[0m \u001b[38;2;30;0;0m[ face]\u001b[0m \u001b[38;2;0;0;0m[ her]\u001b[0m \u001b[38;2;62;0;0m[ .]\u001b[0m \u001b[38;2;37;0;0m[ they]\u001b[0m \u001b[38;2;38;0;0m[ placed]\u001b[0m \u001b[38;2;19;0;0m[ their]\u001b[0m \u001b[38;2;82;0;0m[ fore]\u001b[0m \u001b[38;2;47;0;0m[heads]\u001b[0m \u001b[38;2;105;0;0m[ together]\u001b[0m \u001b[38;2;37;0;0m[ as]\u001b[0m \u001b[38;2;34;0;0m[ when]\u001b[0m \u001b[38;2;28;0;0m[ they]\u001b[0m \u001b[38;2;65;0;0m[ med]\u001b[0m \u001b[38;2;70;0;0m[itated]\u001b[0m \u001b[38;2;77;0;0m[ together]\u001b[0m \u001b[38;2;48;0;0m[ .]\u001b[0m \u001b[38;2;33;0;0m[ they]\u001b[0m \u001b[38;2;20;0;0m[ held]\u001b[0m \u001b[38;2;61;0;0m[ hands]\u001b[0m \u001b[38;2;19;0;0m[ beneath]\u001b[0m \u001b[38;2;19;0;0m[ the]\u001b[0m \u001b[38;2;50;0;0m[ surface]\u001b[0m \u001b[38;2;15;0;0m[ of]\u001b[0m \u001b[38;2;18;0;0m[ the]\u001b[0m \u001b[38;2;79;0;0m[ water]\u001b[0m \u001b[38;2;39;0;0m[ .]\u001b[0m \u001b[38;2;33;0;0m[ they]\u001b[0m \u001b[38;2;37;0;0m[ closed]\u001b[0m \u001b[38;2;25;0;0m[ their]\u001b[0m \u001b[38;2;129;0;0m[ eyes]\u001b[0m \u001b[38;2;32;0;0m[ .]\u001b[0m \u001b[38;2;180;0;0m[ ``]\u001b[0m \u001b[38;2;58;0;0m[ there]\u001b[0m \u001b[38;2;32;0;0m[ were]\u001b[0m \u001b[38;2;39;0;0m[ five]\u001b[0m \u001b[38;2;26;0;0m[ war]\u001b[0m \u001b[38;2;99;0;0m[birds]\u001b[0m \u001b[38;2;71;0;0m[ at]\u001b[0m \u001b[38;2;56;0;0m[ the]\u001b[0m\n",
            "\n",
            "\n",
            "Example 14: \n",
            "Feature 15071 (max act: 16.10):\n",
            "  - Prompt: 'i was so happy to see him that i almost sobbed his name . eli stiffened and let out a hiss . `` mohiri ! '' fear crept into his voice , and my dazed mind wondered what on earth scared a vampire . nikolas chuckled , and i felt a tremor run through my captor . `` i see there is no need for'\n",
            "  - Answer: 'introductions'\n",
            "\u001b[38;2;0;0;0m[i]\u001b[0m \u001b[38;2;0;0;0m[ was]\u001b[0m \u001b[38;2;0;0;0m[ so]\u001b[0m \u001b[38;2;0;0;0m[ happy]\u001b[0m \u001b[38;2;0;0;0m[ to]\u001b[0m \u001b[38;2;0;0;0m[ see]\u001b[0m \u001b[38;2;0;0;0m[ him]\u001b[0m \u001b[38;2;0;0;0m[ that]\u001b[0m \u001b[38;2;0;0;0m[ i]\u001b[0m \u001b[38;2;0;0;0m[ almost]\u001b[0m \u001b[38;2;0;0;0m[ sob]\u001b[0m \u001b[38;2;0;0;0m[bed]\u001b[0m \u001b[38;2;0;0;0m[ his]\u001b[0m \u001b[38;2;0;0;0m[ name]\u001b[0m \u001b[38;2;108;0;0m[ .]\u001b[0m \u001b[38;2;73;0;0m[ el]\u001b[0m \u001b[38;2;68;0;0m[i]\u001b[0m \u001b[38;2;32;0;0m[ stiff]\u001b[0m \u001b[38;2;55;0;0m[ened]\u001b[0m \u001b[38;2;28;0;0m[ and]\u001b[0m \u001b[38;2;31;0;0m[ let]\u001b[0m \u001b[38;2;44;0;0m[ out]\u001b[0m \u001b[38;2;23;0;0m[ a]\u001b[0m \u001b[38;2;44;0;0m[ his]\u001b[0m \u001b[38;2;54;0;0m[s]\u001b[0m \u001b[38;2;84;0;0m[ .]\u001b[0m \u001b[38;2;140;0;0m[ ``]\u001b[0m \u001b[38;2;39;0;0m[ m]\u001b[0m \u001b[38;2;30;0;0m[oh]\u001b[0m \u001b[38;2;51;0;0m[iri]\u001b[0m \u001b[38;2;32;0;0m[ !]\u001b[0m \u001b[38;2;71;0;0m[ '']\u001b[0m \u001b[38;2;73;0;0m[ fear]\u001b[0m \u001b[38;2;58;0;0m[ crept]\u001b[0m \u001b[38;2;31;0;0m[ into]\u001b[0m \u001b[38;2;27;0;0m[ his]\u001b[0m \u001b[38;2;117;0;0m[ voice]\u001b[0m \u001b[38;2;104;0;0m[ ,]\u001b[0m \u001b[38;2;80;0;0m[ and]\u001b[0m \u001b[38;2;85;0;0m[ my]\u001b[0m \u001b[38;2;92;0;0m[ d]\u001b[0m \u001b[38;2;98;0;0m[azed]\u001b[0m \u001b[38;2;50;0;0m[ mind]\u001b[0m \u001b[38;2;90;0;0m[ wondered]\u001b[0m \u001b[38;2;33;0;0m[ what]\u001b[0m \u001b[38;2;112;0;0m[ on]\u001b[0m \u001b[38;2;85;0;0m[ earth]\u001b[0m \u001b[38;2;63;0;0m[ scared]\u001b[0m \u001b[38;2;39;0;0m[ a]\u001b[0m \u001b[38;2;67;0;0m[ vampire]\u001b[0m \u001b[38;2;85;0;0m[ .]\u001b[0m \u001b[38;2;72;0;0m[ n]\u001b[0m \u001b[38;2;32;0;0m[ik]\u001b[0m \u001b[38;2;107;0;0m[olas]\u001b[0m \u001b[38;2;160;0;0m[ chuckled]\u001b[0m \u001b[38;2;105;0;0m[ ,]\u001b[0m \u001b[38;2;80;0;0m[ and]\u001b[0m \u001b[38;2;70;0;0m[ i]\u001b[0m \u001b[38;2;93;0;0m[ felt]\u001b[0m \u001b[38;2;49;0;0m[ a]\u001b[0m \u001b[38;2;52;0;0m[ tre]\u001b[0m \u001b[38;2;116;0;0m[mor]\u001b[0m \u001b[38;2;46;0;0m[ run]\u001b[0m \u001b[38;2;69;0;0m[ through]\u001b[0m \u001b[38;2;50;0;0m[ my]\u001b[0m \u001b[38;2;50;0;0m[ capt]\u001b[0m \u001b[38;2;99;0;0m[or]\u001b[0m \u001b[38;2;59;0;0m[ .]\u001b[0m \u001b[38;2;144;0;0m[ ``]\u001b[0m \u001b[38;2;102;0;0m[ i]\u001b[0m \u001b[38;2;97;0;0m[ see]\u001b[0m \u001b[38;2;76;0;0m[ there]\u001b[0m \u001b[38;2;70;0;0m[ is]\u001b[0m \u001b[38;2;27;0;0m[ no]\u001b[0m \u001b[38;2;95;0;0m[ need]\u001b[0m \u001b[38;2;27;0;0m[ for]\u001b[0m\n",
            "\n",
            "\n",
            "Example 15: \n",
            "Feature 15071 (max act: 18.84):\n",
            "  - Prompt: '`` come on , baby girl , '' mary jo said , scooping up the toy , then bending to retrieve her daughter . `` let me change your diaper and put you down for a couple of hours . '' `` she sleeps that long ? '' `` almost every afternoon . she still takes a morning nap , too , but she 'll outgrow those pretty soon . '' lori knew she had a lot to learn about'\n",
            "  - Answer: 'babies'\n",
            "\u001b[38;2;0;0;0m[``]\u001b[0m \u001b[38;2;11;0;0m[ come]\u001b[0m \u001b[38;2;0;0;0m[ on]\u001b[0m \u001b[38;2;73;0;0m[ ,]\u001b[0m \u001b[38;2;124;0;0m[ baby]\u001b[0m \u001b[38;2;114;0;0m[ girl]\u001b[0m \u001b[38;2;59;0;0m[ ,]\u001b[0m \u001b[38;2;67;0;0m[ '']\u001b[0m \u001b[38;2;45;0;0m[ m]\u001b[0m \u001b[38;2;28;0;0m[ary]\u001b[0m \u001b[38;2;27;0;0m[ jo]\u001b[0m \u001b[38;2;93;0;0m[ said]\u001b[0m \u001b[38;2;91;0;0m[ ,]\u001b[0m \u001b[38;2;64;0;0m[ scoop]\u001b[0m \u001b[38;2;78;0;0m[ing]\u001b[0m \u001b[38;2;92;0;0m[ up]\u001b[0m \u001b[38;2;53;0;0m[ the]\u001b[0m \u001b[38;2;96;0;0m[ toy]\u001b[0m \u001b[38;2;89;0;0m[ ,]\u001b[0m \u001b[38;2;92;0;0m[ then]\u001b[0m \u001b[38;2;123;0;0m[ bending]\u001b[0m \u001b[38;2;111;0;0m[ to]\u001b[0m \u001b[38;2;107;0;0m[ retrieve]\u001b[0m \u001b[38;2;77;0;0m[ her]\u001b[0m \u001b[38;2;119;0;0m[ daughter]\u001b[0m \u001b[38;2;148;0;0m[ .]\u001b[0m \u001b[38;2;177;0;0m[ ``]\u001b[0m \u001b[38;2;81;0;0m[ let]\u001b[0m \u001b[38;2;87;0;0m[ me]\u001b[0m \u001b[38;2;96;0;0m[ change]\u001b[0m \u001b[38;2;55;0;0m[ your]\u001b[0m \u001b[38;2;125;0;0m[ diaper]\u001b[0m \u001b[38;2;32;0;0m[ and]\u001b[0m \u001b[38;2;24;0;0m[ put]\u001b[0m \u001b[38;2;14;0;0m[ you]\u001b[0m \u001b[38;2;110;0;0m[ down]\u001b[0m \u001b[38;2;36;0;0m[ for]\u001b[0m \u001b[38;2;55;0;0m[ a]\u001b[0m \u001b[38;2;61;0;0m[ couple]\u001b[0m \u001b[38;2;36;0;0m[ of]\u001b[0m \u001b[38;2;105;0;0m[ hours]\u001b[0m \u001b[38;2;19;0;0m[ .]\u001b[0m \u001b[38;2;115;0;0m[ '']\u001b[0m \u001b[38;2;104;0;0m[ ``]\u001b[0m \u001b[38;2;70;0;0m[ she]\u001b[0m \u001b[38;2;97;0;0m[ sleeps]\u001b[0m \u001b[38;2;41;0;0m[ that]\u001b[0m \u001b[38;2;128;0;0m[ long]\u001b[0m \u001b[38;2;66;0;0m[ ?]\u001b[0m \u001b[38;2;88;0;0m[ '']\u001b[0m \u001b[38;2;110;0;0m[ ``]\u001b[0m \u001b[38;2;89;0;0m[ almost]\u001b[0m \u001b[38;2;80;0;0m[ every]\u001b[0m \u001b[38;2;108;0;0m[ afternoon]\u001b[0m \u001b[38;2;54;0;0m[ .]\u001b[0m \u001b[38;2;46;0;0m[ she]\u001b[0m \u001b[38;2;45;0;0m[ still]\u001b[0m \u001b[38;2;34;0;0m[ takes]\u001b[0m \u001b[38;2;41;0;0m[ a]\u001b[0m \u001b[38;2;48;0;0m[ morning]\u001b[0m \u001b[38;2;129;0;0m[ nap]\u001b[0m \u001b[38;2;96;0;0m[ ,]\u001b[0m \u001b[38;2;121;0;0m[ too]\u001b[0m \u001b[38;2;75;0;0m[ ,]\u001b[0m \u001b[38;2;67;0;0m[ but]\u001b[0m \u001b[38;2;61;0;0m[ she]\u001b[0m \u001b[38;2;188;0;0m[ ']\u001b[0m \u001b[38;2;34;0;0m[ll]\u001b[0m \u001b[38;2;115;0;0m[ out]\u001b[0m \u001b[38;2;63;0;0m[grow]\u001b[0m \u001b[38;2;49;0;0m[ those]\u001b[0m \u001b[38;2;54;0;0m[ pretty]\u001b[0m \u001b[38;2;167;0;0m[ soon]\u001b[0m \u001b[38;2;49;0;0m[ .]\u001b[0m \u001b[38;2;97;0;0m[ '']\u001b[0m \u001b[38;2;116;0;0m[ l]\u001b[0m \u001b[38;2;92;0;0m[ori]\u001b[0m \u001b[38;2;119;0;0m[ knew]\u001b[0m \u001b[38;2;76;0;0m[ she]\u001b[0m \u001b[38;2;65;0;0m[ had]\u001b[0m \u001b[38;2;67;0;0m[ a]\u001b[0m \u001b[38;2;110;0;0m[ lot]\u001b[0m \u001b[38;2;77;0;0m[ to]\u001b[0m \u001b[38;2;138;0;0m[ learn]\u001b[0m \u001b[38;2;72;0;0m[ about]\u001b[0m\n",
            "\n",
            "\n",
            "Example 16: \n",
            "Feature 15071 (max act: 14.78):\n",
            "  - Prompt: 'i would really like to have some time with my mom . '' lucien groaned inwardly . how could he say no to that ? julia was grieving for her mate and at a loss on how to deal with her daughter . now jaeden actually wanted to speak to her mom ... he would be an ogre if he said no . he gave a quick nod and ignored the grateful smile she threw him before her and her mother ambled out of the room'\n",
            "  - Answer: 'together'\n",
            "\u001b[38;2;0;0;0m[i]\u001b[0m \u001b[38;2;0;0;0m[ would]\u001b[0m \u001b[38;2;0;0;0m[ really]\u001b[0m \u001b[38;2;0;0;0m[ like]\u001b[0m \u001b[38;2;0;0;0m[ to]\u001b[0m \u001b[38;2;0;0;0m[ have]\u001b[0m \u001b[38;2;0;0;0m[ some]\u001b[0m \u001b[38;2;0;0;0m[ time]\u001b[0m \u001b[38;2;0;0;0m[ with]\u001b[0m \u001b[38;2;0;0;0m[ my]\u001b[0m \u001b[38;2;0;0;0m[ mom]\u001b[0m \u001b[38;2;122;0;0m[ .]\u001b[0m \u001b[38;2;138;0;0m[ '']\u001b[0m \u001b[38;2;74;0;0m[ l]\u001b[0m \u001b[38;2;59;0;0m[uci]\u001b[0m \u001b[38;2;55;0;0m[en]\u001b[0m \u001b[38;2;46;0;0m[ gro]\u001b[0m \u001b[38;2;74;0;0m[aned]\u001b[0m \u001b[38;2;55;0;0m[ inward]\u001b[0m \u001b[38;2;50;0;0m[ly]\u001b[0m \u001b[38;2;78;0;0m[ .]\u001b[0m \u001b[38;2;44;0;0m[ how]\u001b[0m \u001b[38;2;82;0;0m[ could]\u001b[0m \u001b[38;2;28;0;0m[ he]\u001b[0m \u001b[38;2;90;0;0m[ say]\u001b[0m \u001b[38;2;74;0;0m[ no]\u001b[0m \u001b[38;2;0;0;0m[ to]\u001b[0m \u001b[38;2;40;0;0m[ that]\u001b[0m \u001b[38;2;69;0;0m[ ?]\u001b[0m \u001b[38;2;40;0;0m[ j]\u001b[0m \u001b[38;2;85;0;0m[ulia]\u001b[0m \u001b[38;2;85;0;0m[ was]\u001b[0m \u001b[38;2;101;0;0m[ grieving]\u001b[0m \u001b[38;2;48;0;0m[ for]\u001b[0m \u001b[38;2;40;0;0m[ her]\u001b[0m \u001b[38;2;87;0;0m[ mate]\u001b[0m \u001b[38;2;30;0;0m[ and]\u001b[0m \u001b[38;2;88;0;0m[ at]\u001b[0m \u001b[38;2;81;0;0m[ a]\u001b[0m \u001b[38;2;143;0;0m[ loss]\u001b[0m \u001b[38;2;44;0;0m[ on]\u001b[0m \u001b[38;2;51;0;0m[ how]\u001b[0m \u001b[38;2;43;0;0m[ to]\u001b[0m \u001b[38;2;77;0;0m[ deal]\u001b[0m \u001b[38;2;46;0;0m[ with]\u001b[0m \u001b[38;2;38;0;0m[ her]\u001b[0m \u001b[38;2;67;0;0m[ daughter]\u001b[0m \u001b[38;2;76;0;0m[ .]\u001b[0m \u001b[38;2;109;0;0m[ now]\u001b[0m \u001b[38;2;36;0;0m[ j]\u001b[0m \u001b[38;2;38;0;0m[aed]\u001b[0m \u001b[38;2;38;0;0m[en]\u001b[0m \u001b[38;2;60;0;0m[ actually]\u001b[0m \u001b[38;2;33;0;0m[ wanted]\u001b[0m \u001b[38;2;38;0;0m[ to]\u001b[0m \u001b[38;2;63;0;0m[ speak]\u001b[0m \u001b[38;2;17;0;0m[ to]\u001b[0m \u001b[38;2;45;0;0m[ her]\u001b[0m \u001b[38;2;105;0;0m[ mom]\u001b[0m \u001b[38;2;97;0;0m[ ...]\u001b[0m \u001b[38;2;77;0;0m[ he]\u001b[0m \u001b[38;2;58;0;0m[ would]\u001b[0m \u001b[38;2;54;0;0m[ be]\u001b[0m \u001b[38;2;78;0;0m[ an]\u001b[0m \u001b[38;2;91;0;0m[ ogre]\u001b[0m \u001b[38;2;25;0;0m[ if]\u001b[0m \u001b[38;2;36;0;0m[ he]\u001b[0m \u001b[38;2;85;0;0m[ said]\u001b[0m \u001b[38;2;133;0;0m[ no]\u001b[0m \u001b[38;2;63;0;0m[ .]\u001b[0m \u001b[38;2;67;0;0m[ he]\u001b[0m \u001b[38;2;23;0;0m[ gave]\u001b[0m \u001b[38;2;99;0;0m[ a]\u001b[0m \u001b[38;2;112;0;0m[ quick]\u001b[0m \u001b[38;2;147;0;0m[ nod]\u001b[0m \u001b[38;2;62;0;0m[ and]\u001b[0m \u001b[38;2;74;0;0m[ ignored]\u001b[0m \u001b[38;2;26;0;0m[ the]\u001b[0m \u001b[38;2;40;0;0m[ grateful]\u001b[0m \u001b[38;2;49;0;0m[ smile]\u001b[0m \u001b[38;2;33;0;0m[ she]\u001b[0m \u001b[38;2;52;0;0m[ threw]\u001b[0m \u001b[38;2;31;0;0m[ him]\u001b[0m \u001b[38;2;79;0;0m[ before]\u001b[0m \u001b[38;2;31;0;0m[ her]\u001b[0m \u001b[38;2;40;0;0m[ and]\u001b[0m \u001b[38;2;30;0;0m[ her]\u001b[0m \u001b[38;2;110;0;0m[ mother]\u001b[0m \u001b[38;2;49;0;0m[ amb]\u001b[0m \u001b[38;2;49;0;0m[led]\u001b[0m \u001b[38;2;94;0;0m[ out]\u001b[0m \u001b[38;2;30;0;0m[ of]\u001b[0m \u001b[38;2;30;0;0m[ the]\u001b[0m \u001b[38;2;114;0;0m[ room]\u001b[0m\n",
            "\n",
            "\n",
            "Example 17: \n",
            "Feature 15071 (max act: 17.23):\n",
            "  - Prompt: 'if demerzel has the ability to change minds , he has to do so without bringing about side effects he does not wish-and since he is the emperor 's first minister , the side effects he must worry about are numerous , indeed . '' `` and the application to the present case ? '' `` think about it ! you ca n't tell anyone-except me , of course-that demerzel is a robot , because he has adjusted you so that you ca n't . but how much adjustment did that take ? do you want to tell people that he is a'\n",
            "  - Answer: 'robot'\n",
            "\u001b[38;2;0;0;0m[if]\u001b[0m \u001b[38;2;0;0;0m[ dem]\u001b[0m \u001b[38;2;0;0;0m[er]\u001b[0m \u001b[38;2;0;0;0m[zel]\u001b[0m \u001b[38;2;0;0;0m[ has]\u001b[0m \u001b[38;2;0;0;0m[ the]\u001b[0m \u001b[38;2;0;0;0m[ ability]\u001b[0m \u001b[38;2;0;0;0m[ to]\u001b[0m \u001b[38;2;0;0;0m[ change]\u001b[0m \u001b[38;2;0;0;0m[ minds]\u001b[0m \u001b[38;2;61;0;0m[ ,]\u001b[0m \u001b[38;2;16;0;0m[ he]\u001b[0m \u001b[38;2;25;0;0m[ has]\u001b[0m \u001b[38;2;0;0;0m[ to]\u001b[0m \u001b[38;2;22;0;0m[ do]\u001b[0m \u001b[38;2;53;0;0m[ so]\u001b[0m \u001b[38;2;0;0;0m[ without]\u001b[0m \u001b[38;2;0;0;0m[ bringing]\u001b[0m \u001b[38;2;0;0;0m[ about]\u001b[0m \u001b[38;2;0;0;0m[ side]\u001b[0m \u001b[38;2;65;0;0m[ effects]\u001b[0m \u001b[38;2;0;0;0m[ he]\u001b[0m \u001b[38;2;0;0;0m[ does]\u001b[0m \u001b[38;2;0;0;0m[ not]\u001b[0m \u001b[38;2;22;0;0m[ wish]\u001b[0m \u001b[38;2;58;0;0m[-]\u001b[0m \u001b[38;2;25;0;0m[and]\u001b[0m \u001b[38;2;28;0;0m[ since]\u001b[0m \u001b[38;2;0;0;0m[ he]\u001b[0m \u001b[38;2;0;0;0m[ is]\u001b[0m \u001b[38;2;24;0;0m[ the]\u001b[0m \u001b[38;2;52;0;0m[ emperor]\u001b[0m \u001b[38;2;137;0;0m[ ']\u001b[0m \u001b[38;2;0;0;0m[s]\u001b[0m \u001b[38;2;22;0;0m[ first]\u001b[0m \u001b[38;2;68;0;0m[ minister]\u001b[0m \u001b[38;2;68;0;0m[ ,]\u001b[0m \u001b[38;2;35;0;0m[ the]\u001b[0m \u001b[38;2;15;0;0m[ side]\u001b[0m \u001b[38;2;23;0;0m[ effects]\u001b[0m \u001b[38;2;0;0;0m[ he]\u001b[0m \u001b[38;2;0;0;0m[ must]\u001b[0m \u001b[38;2;31;0;0m[ worry]\u001b[0m \u001b[38;2;31;0;0m[ about]\u001b[0m \u001b[38;2;25;0;0m[ are]\u001b[0m \u001b[38;2;105;0;0m[ numerous]\u001b[0m \u001b[38;2;39;0;0m[ ,]\u001b[0m \u001b[38;2;83;0;0m[ indeed]\u001b[0m \u001b[38;2;124;0;0m[ .]\u001b[0m \u001b[38;2;172;0;0m[ '']\u001b[0m \u001b[38;2;170;0;0m[ ``]\u001b[0m \u001b[38;2;60;0;0m[ and]\u001b[0m \u001b[38;2;54;0;0m[ the]\u001b[0m \u001b[38;2;49;0;0m[ application]\u001b[0m \u001b[38;2;41;0;0m[ to]\u001b[0m \u001b[38;2;45;0;0m[ the]\u001b[0m \u001b[38;2;63;0;0m[ present]\u001b[0m \u001b[38;2;69;0;0m[ case]\u001b[0m \u001b[38;2;80;0;0m[ ?]\u001b[0m \u001b[38;2;94;0;0m[ '']\u001b[0m \u001b[38;2;128;0;0m[ ``]\u001b[0m \u001b[38;2;73;0;0m[ think]\u001b[0m \u001b[38;2;85;0;0m[ about]\u001b[0m \u001b[38;2;131;0;0m[ it]\u001b[0m \u001b[38;2;75;0;0m[ !]\u001b[0m \u001b[38;2;73;0;0m[ you]\u001b[0m \u001b[38;2;133;0;0m[ ca]\u001b[0m \u001b[38;2;34;0;0m[ n]\u001b[0m \u001b[38;2;42;0;0m['t]\u001b[0m \u001b[38;2;91;0;0m[ tell]\u001b[0m \u001b[38;2;114;0;0m[ anyone]\u001b[0m \u001b[38;2;85;0;0m[-]\u001b[0m \u001b[38;2;87;0;0m[except]\u001b[0m \u001b[38;2;78;0;0m[ me]\u001b[0m \u001b[38;2;74;0;0m[ ,]\u001b[0m \u001b[38;2;88;0;0m[ of]\u001b[0m \u001b[38;2;97;0;0m[ course]\u001b[0m \u001b[38;2;98;0;0m[-]\u001b[0m \u001b[38;2;79;0;0m[that]\u001b[0m \u001b[38;2;54;0;0m[ dem]\u001b[0m \u001b[38;2;35;0;0m[er]\u001b[0m \u001b[38;2;71;0;0m[zel]\u001b[0m \u001b[38;2;44;0;0m[ is]\u001b[0m \u001b[38;2;52;0;0m[ a]\u001b[0m \u001b[38;2;84;0;0m[ robot]\u001b[0m \u001b[38;2;54;0;0m[ ,]\u001b[0m \u001b[38;2;78;0;0m[ because]\u001b[0m \u001b[38;2;41;0;0m[ he]\u001b[0m \u001b[38;2;40;0;0m[ has]\u001b[0m \u001b[38;2;76;0;0m[ adjusted]\u001b[0m \u001b[38;2;60;0;0m[ you]\u001b[0m \u001b[38;2;93;0;0m[ so]\u001b[0m \u001b[38;2;63;0;0m[ that]\u001b[0m \u001b[38;2;23;0;0m[ you]\u001b[0m \u001b[38;2;62;0;0m[ ca]\u001b[0m \u001b[38;2;0;0;0m[ n]\u001b[0m \u001b[38;2;42;0;0m['t]\u001b[0m \u001b[38;2;65;0;0m[ .]\u001b[0m \u001b[38;2;51;0;0m[ but]\u001b[0m \u001b[38;2;65;0;0m[ how]\u001b[0m \u001b[38;2;70;0;0m[ much]\u001b[0m \u001b[38;2;95;0;0m[ adjustment]\u001b[0m \u001b[38;2;90;0;0m[ did]\u001b[0m \u001b[38;2;41;0;0m[ that]\u001b[0m \u001b[38;2;110;0;0m[ take]\u001b[0m \u001b[38;2;56;0;0m[ ?]\u001b[0m \u001b[38;2;80;0;0m[ do]\u001b[0m \u001b[38;2;69;0;0m[ you]\u001b[0m \u001b[38;2;77;0;0m[ want]\u001b[0m \u001b[38;2;52;0;0m[ to]\u001b[0m \u001b[38;2;81;0;0m[ tell]\u001b[0m \u001b[38;2;117;0;0m[ people]\u001b[0m \u001b[38;2;100;0;0m[ that]\u001b[0m \u001b[38;2;44;0;0m[ he]\u001b[0m \u001b[38;2;41;0;0m[ is]\u001b[0m \u001b[38;2;50;0;0m[ a]\u001b[0m\n",
            "\n",
            "\n",
            "Example 18: \n",
            "Feature 15071 (max act: 19.97):\n",
            "  - Prompt: 'i leaned out the window and pointed at floyd 's hearing aid . floyd dug the hearing aid out of his ear and made an adjustment . `` sorry , '' he said , screwing it back in . `` blasted thing was turned off . '' `` what happened to chester ? '' `` shot in the head 's what happened to'\n",
            "  - Answer: 'chester'\n",
            "\u001b[38;2;0;0;0m[i]\u001b[0m \u001b[38;2;0;0;0m[ leaned]\u001b[0m \u001b[38;2;0;0;0m[ out]\u001b[0m \u001b[38;2;0;0;0m[ the]\u001b[0m \u001b[38;2;0;0;0m[ window]\u001b[0m \u001b[38;2;0;0;0m[ and]\u001b[0m \u001b[38;2;0;0;0m[ pointed]\u001b[0m \u001b[38;2;21;0;0m[ at]\u001b[0m \u001b[38;2;0;0;0m[ fl]\u001b[0m \u001b[38;2;0;0;0m[oyd]\u001b[0m \u001b[38;2;0;0;0m[ ']\u001b[0m \u001b[38;2;0;0;0m[s]\u001b[0m \u001b[38;2;0;0;0m[ hearing]\u001b[0m \u001b[38;2;16;0;0m[ aid]\u001b[0m \u001b[38;2;135;0;0m[ .]\u001b[0m \u001b[38;2;21;0;0m[ fl]\u001b[0m \u001b[38;2;110;0;0m[oyd]\u001b[0m \u001b[38;2;36;0;0m[ dug]\u001b[0m \u001b[38;2;0;0;0m[ the]\u001b[0m \u001b[38;2;0;0;0m[ hearing]\u001b[0m \u001b[38;2;65;0;0m[ aid]\u001b[0m \u001b[38;2;116;0;0m[ out]\u001b[0m \u001b[38;2;28;0;0m[ of]\u001b[0m \u001b[38;2;20;0;0m[ his]\u001b[0m \u001b[38;2;110;0;0m[ ear]\u001b[0m \u001b[38;2;21;0;0m[ and]\u001b[0m \u001b[38;2;18;0;0m[ made]\u001b[0m \u001b[38;2;33;0;0m[ an]\u001b[0m \u001b[38;2;72;0;0m[ adjustment]\u001b[0m \u001b[38;2;124;0;0m[ .]\u001b[0m \u001b[38;2;160;0;0m[ ``]\u001b[0m \u001b[38;2;47;0;0m[ sorry]\u001b[0m \u001b[38;2;67;0;0m[ ,]\u001b[0m \u001b[38;2;27;0;0m[ '']\u001b[0m \u001b[38;2;27;0;0m[ he]\u001b[0m \u001b[38;2;80;0;0m[ said]\u001b[0m \u001b[38;2;69;0;0m[ ,]\u001b[0m \u001b[38;2;95;0;0m[ screw]\u001b[0m \u001b[38;2;21;0;0m[ing]\u001b[0m \u001b[38;2;71;0;0m[ it]\u001b[0m \u001b[38;2;51;0;0m[ back]\u001b[0m \u001b[38;2;88;0;0m[ in]\u001b[0m \u001b[38;2;66;0;0m[ .]\u001b[0m \u001b[38;2;153;0;0m[ ``]\u001b[0m \u001b[38;2;137;0;0m[ blasted]\u001b[0m \u001b[38;2;116;0;0m[ thing]\u001b[0m \u001b[38;2;114;0;0m[ was]\u001b[0m \u001b[38;2;141;0;0m[ turned]\u001b[0m \u001b[38;2;182;0;0m[ off]\u001b[0m \u001b[38;2;75;0;0m[ .]\u001b[0m \u001b[38;2;133;0;0m[ '']\u001b[0m \u001b[38;2;192;0;0m[ ``]\u001b[0m \u001b[38;2;120;0;0m[ what]\u001b[0m \u001b[38;2;137;0;0m[ happened]\u001b[0m \u001b[38;2;52;0;0m[ to]\u001b[0m \u001b[38;2;80;0;0m[ che]\u001b[0m \u001b[38;2;109;0;0m[ster]\u001b[0m \u001b[38;2;64;0;0m[ ?]\u001b[0m \u001b[38;2;65;0;0m[ '']\u001b[0m \u001b[38;2;110;0;0m[ ``]\u001b[0m \u001b[38;2;151;0;0m[ shot]\u001b[0m \u001b[38;2;92;0;0m[ in]\u001b[0m \u001b[38;2;60;0;0m[ the]\u001b[0m \u001b[38;2;149;0;0m[ head]\u001b[0m \u001b[38;2;199;0;0m[ ']\u001b[0m \u001b[38;2;28;0;0m[s]\u001b[0m \u001b[38;2;103;0;0m[ what]\u001b[0m \u001b[38;2;118;0;0m[ happened]\u001b[0m \u001b[38;2;43;0;0m[ to]\u001b[0m\n",
            "\n",
            "\n",
            "Example 19: \n",
            "Feature 15071 (max act: 15.78):\n",
            "  - Prompt: '` well i do n't know why , nellie showed it to me many times . it has heaps of her poems and short stories in it ; mostly girlie stuff though , which is why she obviously did n't bother showing you . strange that she left it to you though , i ca n't imagine you would enjoy it very much . ` are you sure it is the same'\n",
            "  - Answer: 'book'\n",
            "\u001b[38;2;0;0;0m[`]\u001b[0m \u001b[38;2;13;0;0m[ well]\u001b[0m \u001b[38;2;28;0;0m[ i]\u001b[0m \u001b[38;2;28;0;0m[ do]\u001b[0m \u001b[38;2;22;0;0m[ n]\u001b[0m \u001b[38;2;0;0;0m['t]\u001b[0m \u001b[38;2;0;0;0m[ know]\u001b[0m \u001b[38;2;26;0;0m[ why]\u001b[0m \u001b[38;2;36;0;0m[ ,]\u001b[0m \u001b[38;2;45;0;0m[ ne]\u001b[0m \u001b[38;2;65;0;0m[ll]\u001b[0m \u001b[38;2;86;0;0m[ie]\u001b[0m \u001b[38;2;26;0;0m[ showed]\u001b[0m \u001b[38;2;38;0;0m[ it]\u001b[0m \u001b[38;2;38;0;0m[ to]\u001b[0m \u001b[38;2;86;0;0m[ me]\u001b[0m \u001b[38;2;29;0;0m[ many]\u001b[0m \u001b[38;2;93;0;0m[ times]\u001b[0m \u001b[38;2;64;0;0m[ .]\u001b[0m \u001b[38;2;35;0;0m[ it]\u001b[0m \u001b[38;2;53;0;0m[ has]\u001b[0m \u001b[38;2;46;0;0m[ he]\u001b[0m \u001b[38;2;90;0;0m[aps]\u001b[0m \u001b[38;2;42;0;0m[ of]\u001b[0m \u001b[38;2;39;0;0m[ her]\u001b[0m \u001b[38;2;113;0;0m[ poems]\u001b[0m \u001b[38;2;14;0;0m[ and]\u001b[0m \u001b[38;2;0;0;0m[ short]\u001b[0m \u001b[38;2;82;0;0m[ stories]\u001b[0m \u001b[38;2;27;0;0m[ in]\u001b[0m \u001b[38;2;90;0;0m[ it]\u001b[0m \u001b[38;2;65;0;0m[ ;]\u001b[0m \u001b[38;2;46;0;0m[ mostly]\u001b[0m \u001b[38;2;62;0;0m[ girl]\u001b[0m \u001b[38;2;48;0;0m[ie]\u001b[0m \u001b[38;2;83;0;0m[ stuff]\u001b[0m \u001b[38;2;60;0;0m[ though]\u001b[0m \u001b[38;2;84;0;0m[ ,]\u001b[0m \u001b[38;2;46;0;0m[ which]\u001b[0m \u001b[38;2;35;0;0m[ is]\u001b[0m \u001b[38;2;66;0;0m[ why]\u001b[0m \u001b[38;2;23;0;0m[ she]\u001b[0m \u001b[38;2;29;0;0m[ obviously]\u001b[0m \u001b[38;2;28;0;0m[ did]\u001b[0m \u001b[38;2;89;0;0m[ n]\u001b[0m \u001b[38;2;72;0;0m['t]\u001b[0m \u001b[38;2;85;0;0m[ bother]\u001b[0m \u001b[38;2;62;0;0m[ showing]\u001b[0m \u001b[38;2;65;0;0m[ you]\u001b[0m \u001b[38;2;109;0;0m[ .]\u001b[0m \u001b[38;2;141;0;0m[ strange]\u001b[0m \u001b[38;2;56;0;0m[ that]\u001b[0m \u001b[38;2;30;0;0m[ she]\u001b[0m \u001b[38;2;60;0;0m[ left]\u001b[0m \u001b[38;2;71;0;0m[ it]\u001b[0m \u001b[38;2;42;0;0m[ to]\u001b[0m \u001b[38;2;76;0;0m[ you]\u001b[0m \u001b[38;2;142;0;0m[ though]\u001b[0m \u001b[38;2;84;0;0m[ ,]\u001b[0m \u001b[38;2;93;0;0m[ i]\u001b[0m \u001b[38;2;118;0;0m[ ca]\u001b[0m \u001b[38;2;22;0;0m[ n]\u001b[0m \u001b[38;2;80;0;0m['t]\u001b[0m \u001b[38;2;136;0;0m[ imagine]\u001b[0m \u001b[38;2;35;0;0m[ you]\u001b[0m \u001b[38;2;40;0;0m[ would]\u001b[0m \u001b[38;2;51;0;0m[ enjoy]\u001b[0m \u001b[38;2;141;0;0m[ it]\u001b[0m \u001b[38;2;99;0;0m[ very]\u001b[0m \u001b[38;2;157;0;0m[ much]\u001b[0m \u001b[38;2;57;0;0m[ .]\u001b[0m \u001b[38;2;147;0;0m[ `]\u001b[0m \u001b[38;2;0;0;0m[ are]\u001b[0m \u001b[38;2;92;0;0m[ you]\u001b[0m \u001b[38;2;145;0;0m[ sure]\u001b[0m \u001b[38;2;25;0;0m[ it]\u001b[0m \u001b[38;2;52;0;0m[ is]\u001b[0m \u001b[38;2;49;0;0m[ the]\u001b[0m \u001b[38;2;106;0;0m[ same]\u001b[0m\n",
            "\n",
            "\n",
            "Example 20: \n",
            "Feature 15071 (max act: 19.88):\n",
            "  - Prompt: '`` we 'll wait for you , daddy , '' izzy said , snuggling up to annie . nick pressed the book into izzy 's hands and hurried out of the room . he came back a few minutes later , looking solemn . annie felt a prickling of fear . she sat up straighter , leaning forward . `` nick ? '' he eased back into the bed , on the other side of'\n",
            "  - Answer: 'izzy'\n",
            "\u001b[38;2;0;0;0m[``]\u001b[0m \u001b[38;2;0;0;0m[ we]\u001b[0m \u001b[38;2;24;0;0m[ ']\u001b[0m \u001b[38;2;21;0;0m[ll]\u001b[0m \u001b[38;2;33;0;0m[ wait]\u001b[0m \u001b[38;2;29;0;0m[ for]\u001b[0m \u001b[38;2;0;0;0m[ you]\u001b[0m \u001b[38;2;72;0;0m[ ,]\u001b[0m \u001b[38;2;86;0;0m[ daddy]\u001b[0m \u001b[38;2;0;0;0m[ ,]\u001b[0m \u001b[38;2;72;0;0m[ '']\u001b[0m \u001b[38;2;60;0;0m[ ]\u001b[0m \u001b[38;2;61;0;0m[izzy]\u001b[0m \u001b[38;2;61;0;0m[ said]\u001b[0m \u001b[38;2;84;0;0m[ ,]\u001b[0m \u001b[38;2;68;0;0m[ sn]\u001b[0m \u001b[38;2;40;0;0m[ugg]\u001b[0m \u001b[38;2;114;0;0m[ling]\u001b[0m \u001b[38;2;124;0;0m[ up]\u001b[0m \u001b[38;2;80;0;0m[ to]\u001b[0m \u001b[38;2;44;0;0m[ ann]\u001b[0m \u001b[38;2;85;0;0m[ie]\u001b[0m \u001b[38;2;83;0;0m[ .]\u001b[0m \u001b[38;2;87;0;0m[ nick]\u001b[0m \u001b[38;2;111;0;0m[ pressed]\u001b[0m \u001b[38;2;47;0;0m[ the]\u001b[0m \u001b[38;2;68;0;0m[ book]\u001b[0m \u001b[38;2;83;0;0m[ into]\u001b[0m \u001b[38;2;77;0;0m[ ]\u001b[0m \u001b[38;2;72;0;0m[izzy]\u001b[0m \u001b[38;2;134;0;0m[ ']\u001b[0m \u001b[38;2;20;0;0m[s]\u001b[0m \u001b[38;2;125;0;0m[ hands]\u001b[0m \u001b[38;2;68;0;0m[ and]\u001b[0m \u001b[38;2;63;0;0m[ hurried]\u001b[0m \u001b[38;2;109;0;0m[ out]\u001b[0m \u001b[38;2;45;0;0m[ of]\u001b[0m \u001b[38;2;37;0;0m[ the]\u001b[0m \u001b[38;2;142;0;0m[ room]\u001b[0m \u001b[38;2;98;0;0m[ .]\u001b[0m \u001b[38;2;93;0;0m[ he]\u001b[0m \u001b[38;2;87;0;0m[ came]\u001b[0m \u001b[38;2;66;0;0m[ back]\u001b[0m \u001b[38;2;72;0;0m[ a]\u001b[0m \u001b[38;2;66;0;0m[ few]\u001b[0m \u001b[38;2;139;0;0m[ minutes]\u001b[0m \u001b[38;2;135;0;0m[ later]\u001b[0m \u001b[38;2;85;0;0m[ ,]\u001b[0m \u001b[38;2;58;0;0m[ looking]\u001b[0m \u001b[38;2;157;0;0m[ solemn]\u001b[0m \u001b[38;2;84;0;0m[ .]\u001b[0m \u001b[38;2;52;0;0m[ ann]\u001b[0m \u001b[38;2;118;0;0m[ie]\u001b[0m \u001b[38;2;125;0;0m[ felt]\u001b[0m \u001b[38;2;73;0;0m[ a]\u001b[0m \u001b[38;2;137;0;0m[ prick]\u001b[0m \u001b[38;2;78;0;0m[ling]\u001b[0m \u001b[38;2;0;0;0m[ of]\u001b[0m \u001b[38;2;141;0;0m[ fear]\u001b[0m \u001b[38;2;144;0;0m[ .]\u001b[0m \u001b[38;2;128;0;0m[ she]\u001b[0m \u001b[38;2;92;0;0m[ sat]\u001b[0m \u001b[38;2;158;0;0m[ up]\u001b[0m \u001b[38;2;182;0;0m[ stra]\u001b[0m \u001b[38;2;183;0;0m[ighter]\u001b[0m \u001b[38;2;139;0;0m[ ,]\u001b[0m \u001b[38;2;55;0;0m[ leaning]\u001b[0m \u001b[38;2;151;0;0m[ forward]\u001b[0m \u001b[38;2;105;0;0m[ .]\u001b[0m \u001b[38;2;198;0;0m[ ``]\u001b[0m \u001b[38;2;109;0;0m[ nick]\u001b[0m \u001b[38;2;59;0;0m[ ?]\u001b[0m \u001b[38;2;67;0;0m[ '']\u001b[0m \u001b[38;2;56;0;0m[ he]\u001b[0m \u001b[38;2;70;0;0m[ eased]\u001b[0m \u001b[38;2;92;0;0m[ back]\u001b[0m \u001b[38;2;73;0;0m[ into]\u001b[0m \u001b[38;2;49;0;0m[ the]\u001b[0m \u001b[38;2;169;0;0m[ bed]\u001b[0m \u001b[38;2;126;0;0m[ ,]\u001b[0m \u001b[38;2;128;0;0m[ on]\u001b[0m \u001b[38;2;48;0;0m[ the]\u001b[0m \u001b[38;2;114;0;0m[ other]\u001b[0m \u001b[38;2;119;0;0m[ side]\u001b[0m \u001b[38;2;0;0;0m[ of]\u001b[0m\n",
            "\n"
          ]
        }
      ],
      "source": [
        "from transformers import AutoTokenizer\n",
        "\n",
        "def process_lambada(top_features, dataset, model, sae, feature_k=0, max_examples=5):\n",
        "    \"\"\"Analyze and visualize top features across LAMBADA examples\"\"\"\n",
        "    device = model.cfg.device\n",
        "    tokenizer = model.tokenizer\n",
        "\n",
        "    # Analyze each example\n",
        "    for idx in range(min(len(dataset), max_examples)):\n",
        "        text = dataset[idx]['text']\n",
        "        prompt = ' '.join(text.split()[:-1])\n",
        "        answer = text.split()[-1]\n",
        "\n",
        "        # Tokenize and process\n",
        "        tokens = tokenizer.encode(prompt, return_tensors=\"pt\").to(device)\n",
        "        with torch.no_grad():\n",
        "            _, cache = model.run_with_cache(tokens)\n",
        "            hidden = cache[sae.hook_point]\n",
        "            sae_activations = sae.encode(hidden)[0]  # [seq_len, d_sae]\n",
        "\n",
        "        # Get token strings with special characters handled\n",
        "        token_strs = tokenizer.batch_decode(tokens[0], clean_up_tokenization_spaces=False)\n",
        "\n",
        "        # Visualize top features for this example\n",
        "        print(f\"\\nExample {idx+1}: \")\n",
        "\n",
        "        feat_idx = top_features[feature_k]  # Show top k features\n",
        "\n",
        "        feature_acts = sae_activations[:, feat_idx]\n",
        "\n",
        "        # Highlight activation in context\n",
        "        colored_tokens = []\n",
        "        for i, (token, act) in enumerate(zip(token_strs, feature_acts)):\n",
        "            intensity = min(int(act.item() * 10), 255)\n",
        "            color_code = f\"\\033[38;2;{intensity};0;0m\"\n",
        "            reset_code = \"\\033[0m\"\n",
        "            colored_tokens.append(f\"{color_code}[{token}]{reset_code}\")\n",
        "\n",
        "\n",
        "        print(f\"Feature {feat_idx} (max act: {feature_acts.max():.2f}):\")\n",
        "        print(f\"  - Prompt: '{prompt}'\")\n",
        "        print(f\"  - Answer: '{answer}'\")\n",
        "        print(\" \".join(colored_tokens) + \"\\n\")\n",
        "\n",
        "# Usage\n",
        "process_lambada(\n",
        "    top_features=top_feature_indices,\n",
        "    dataset=lambada,\n",
        "    model=model,\n",
        "    sae=sae,\n",
        "    feature_k=0,\n",
        "    max_examples=20\n",
        ")\n"
      ]
    },
    {
      "cell_type": "markdown",
      "metadata": {
        "id": "YmDb63hlS-p-"
      },
      "source": [
        "## Feature Steering"
      ]
    },
    {
      "cell_type": "code",
      "execution_count": 16,
      "metadata": {
        "id": "i77W9MshTA87"
      },
      "outputs": [],
      "source": [
        "def setup_steering(feature_idx, factor):\n",
        "    \"\"\"Prepares steering vector and hook\"\"\"\n",
        "    # Get decoder weights (no grad)\n",
        "    with torch.no_grad():\n",
        "        steering_vector = sae.W_dec[feature_idx].clone() * factor  # [d_model]\n",
        "\n",
        "    # Create hook function\n",
        "    def steering_hook(activations, hook):\n",
        "        \"\"\"Add steering vector without gradient tracking\"\"\"\n",
        "        # Detach to prevent gradient issues\n",
        "        vec = steering_vector.to(activations.device).detach()\n",
        "        return activations + vec\n",
        "\n",
        "    return steering_hook\n"
      ]
    },
    {
      "cell_type": "code",
      "execution_count": 17,
      "metadata": {
        "colab": {
          "base_uri": "https://localhost:8080/"
        },
        "id": "nGsZPsgTcVqd",
        "outputId": "b11e50e0-b854-4b82-98fb-068af7fb07b1"
      },
      "outputs": [
        {
          "output_type": "stream",
          "name": "stderr",
          "text": [
            "Calculating Accuracy: 100%|██████████| 5153/5153 [03:07<00:00, 27.52it/s]"
          ]
        },
        {
          "output_type": "stream",
          "name": "stdout",
          "text": [
            "\n",
            "Accuracy: 0.11391422472346206\n"
          ]
        },
        {
          "output_type": "stream",
          "name": "stderr",
          "text": [
            "\n"
          ]
        }
      ],
      "source": [
        "mag_factor = 10\n",
        "hooks = [(sae.hook_point, setup_steering(feature_idx = idx, factor = mag_factor)) for idx in top_feature_indices[:top_k]]\n",
        "\n",
        "with model.hooks(hooks):\n",
        "  hooked_accuracy, hallucinating_prompts = calc_accuracy(lambada, model)\n",
        "  print('\\n' + 'Accuracy: ' + str(hooked_accuracy))"
      ]
    },
    {
      "cell_type": "markdown",
      "source": [
        "## Results"
      ],
      "metadata": {
        "id": "H26CadI_EOwh"
      }
    },
    {
      "cell_type": "markdown",
      "metadata": {
        "id": "OENPTvtwNtB3"
      },
      "source": [
        "**Note**: The next block of code is *very* computationally intensive and will take ~80-100 minutes to run."
      ]
    },
    {
      "cell_type": "code",
      "execution_count": 18,
      "metadata": {
        "colab": {
          "base_uri": "https://localhost:8080/"
        },
        "id": "JiMHJQPRN2x8",
        "outputId": "b2c8109c-3836-488d-c56d-ae4f68f7f9c6"
      },
      "outputs": [
        {
          "metadata": {
            "tags": null
          },
          "name": "stdout",
          "output_type": "stream",
          "text": [
            "Calculating for Top 5 Features...\n",
            "Mag Factor: 0x\n"
          ]
        },
        {
          "metadata": {
            "tags": null
          },
          "name": "stderr",
          "output_type": "stream",
          "text": [
            "Calculating Accuracy: 100%|██████████| 5153/5153 [03:06<00:00, 27.64it/s]\n"
          ]
        },
        {
          "metadata": {
            "tags": null
          },
          "name": "stdout",
          "output_type": "stream",
          "text": [
            "Mag Factor: 1.0x\n"
          ]
        },
        {
          "metadata": {
            "tags": null
          },
          "name": "stderr",
          "output_type": "stream",
          "text": [
            "Calculating Accuracy: 100%|██████████| 5153/5153 [03:03<00:00, 28.13it/s]\n"
          ]
        },
        {
          "metadata": {
            "tags": null
          },
          "name": "stdout",
          "output_type": "stream",
          "text": [
            "Mag Factor: 5.0x\n"
          ]
        },
        {
          "output_type": "stream",
          "name": "stderr",
          "text": [
            "Calculating Accuracy: 100%|██████████| 5153/5153 [03:00<00:00, 28.49it/s]\n"
          ]
        },
        {
          "output_type": "stream",
          "name": "stdout",
          "text": [
            "Mag Factor: 10.0x\n"
          ]
        },
        {
          "output_type": "stream",
          "name": "stderr",
          "text": [
            "Calculating Accuracy: 100%|██████████| 5153/5153 [02:55<00:00, 29.33it/s]\n"
          ]
        },
        {
          "output_type": "stream",
          "name": "stdout",
          "text": [
            "Mag Factor: 15.0x\n"
          ]
        },
        {
          "output_type": "stream",
          "name": "stderr",
          "text": [
            "Calculating Accuracy: 100%|██████████| 5153/5153 [02:56<00:00, 29.27it/s]\n"
          ]
        },
        {
          "output_type": "stream",
          "name": "stdout",
          "text": [
            "Mag Factor: 20.0x\n"
          ]
        },
        {
          "output_type": "stream",
          "name": "stderr",
          "text": [
            "Calculating Accuracy: 100%|██████████| 5153/5153 [02:56<00:00, 29.12it/s]\n"
          ]
        },
        {
          "output_type": "stream",
          "name": "stdout",
          "text": [
            "Calculating for Top 10 Features...\n",
            "Mag Factor: 0x\n"
          ]
        },
        {
          "output_type": "stream",
          "name": "stderr",
          "text": [
            "Calculating Accuracy: 100%|██████████| 5153/5153 [02:57<00:00, 28.97it/s]\n"
          ]
        },
        {
          "output_type": "stream",
          "name": "stdout",
          "text": [
            "Mag Factor: 1.0x\n"
          ]
        },
        {
          "output_type": "stream",
          "name": "stderr",
          "text": [
            "Calculating Accuracy: 100%|██████████| 5153/5153 [02:59<00:00, 28.68it/s]\n"
          ]
        },
        {
          "output_type": "stream",
          "name": "stdout",
          "text": [
            "Mag Factor: 5.0x\n"
          ]
        },
        {
          "output_type": "stream",
          "name": "stderr",
          "text": [
            "Calculating Accuracy: 100%|██████████| 5153/5153 [02:59<00:00, 28.66it/s]\n"
          ]
        },
        {
          "output_type": "stream",
          "name": "stdout",
          "text": [
            "Mag Factor: 10.0x\n"
          ]
        },
        {
          "output_type": "stream",
          "name": "stderr",
          "text": [
            "Calculating Accuracy: 100%|██████████| 5153/5153 [02:58<00:00, 28.87it/s]\n"
          ]
        },
        {
          "output_type": "stream",
          "name": "stdout",
          "text": [
            "Mag Factor: 15.0x\n"
          ]
        },
        {
          "output_type": "stream",
          "name": "stderr",
          "text": [
            "Calculating Accuracy: 100%|██████████| 5153/5153 [02:56<00:00, 29.23it/s]\n"
          ]
        },
        {
          "output_type": "stream",
          "name": "stdout",
          "text": [
            "Mag Factor: 20.0x\n"
          ]
        },
        {
          "output_type": "stream",
          "name": "stderr",
          "text": [
            "Calculating Accuracy: 100%|██████████| 5153/5153 [02:57<00:00, 29.07it/s]\n"
          ]
        },
        {
          "output_type": "stream",
          "name": "stdout",
          "text": [
            "Calculating for Top 15 Features...\n",
            "Mag Factor: 0x\n"
          ]
        },
        {
          "output_type": "stream",
          "name": "stderr",
          "text": [
            "Calculating Accuracy: 100%|██████████| 5153/5153 [02:54<00:00, 29.45it/s]\n"
          ]
        },
        {
          "output_type": "stream",
          "name": "stdout",
          "text": [
            "Mag Factor: 1.0x\n"
          ]
        },
        {
          "output_type": "stream",
          "name": "stderr",
          "text": [
            "Calculating Accuracy: 100%|██████████| 5153/5153 [03:00<00:00, 28.48it/s]\n"
          ]
        },
        {
          "output_type": "stream",
          "name": "stdout",
          "text": [
            "Mag Factor: 5.0x\n"
          ]
        },
        {
          "output_type": "stream",
          "name": "stderr",
          "text": [
            "Calculating Accuracy: 100%|██████████| 5153/5153 [02:59<00:00, 28.66it/s]\n"
          ]
        },
        {
          "output_type": "stream",
          "name": "stdout",
          "text": [
            "Mag Factor: 10.0x\n"
          ]
        },
        {
          "output_type": "stream",
          "name": "stderr",
          "text": [
            "Calculating Accuracy: 100%|██████████| 5153/5153 [02:58<00:00, 28.88it/s]\n"
          ]
        },
        {
          "output_type": "stream",
          "name": "stdout",
          "text": [
            "Mag Factor: 15.0x\n"
          ]
        },
        {
          "output_type": "stream",
          "name": "stderr",
          "text": [
            "Calculating Accuracy: 100%|██████████| 5153/5153 [02:58<00:00, 28.79it/s]\n"
          ]
        },
        {
          "output_type": "stream",
          "name": "stdout",
          "text": [
            "Mag Factor: 20.0x\n"
          ]
        },
        {
          "output_type": "stream",
          "name": "stderr",
          "text": [
            "Calculating Accuracy: 100%|██████████| 5153/5153 [03:00<00:00, 28.59it/s]\n"
          ]
        },
        {
          "output_type": "stream",
          "name": "stdout",
          "text": [
            "Calculating for Top 20 Features...\n",
            "Mag Factor: 0x\n"
          ]
        },
        {
          "output_type": "stream",
          "name": "stderr",
          "text": [
            "Calculating Accuracy: 100%|██████████| 5153/5153 [02:57<00:00, 28.97it/s]\n"
          ]
        },
        {
          "output_type": "stream",
          "name": "stdout",
          "text": [
            "Mag Factor: 1.0x\n"
          ]
        },
        {
          "output_type": "stream",
          "name": "stderr",
          "text": [
            "Calculating Accuracy: 100%|██████████| 5153/5153 [02:57<00:00, 29.11it/s]\n"
          ]
        },
        {
          "output_type": "stream",
          "name": "stdout",
          "text": [
            "Mag Factor: 5.0x\n"
          ]
        },
        {
          "output_type": "stream",
          "name": "stderr",
          "text": [
            "Calculating Accuracy: 100%|██████████| 5153/5153 [02:57<00:00, 29.05it/s]\n"
          ]
        },
        {
          "output_type": "stream",
          "name": "stdout",
          "text": [
            "Mag Factor: 10.0x\n"
          ]
        },
        {
          "output_type": "stream",
          "name": "stderr",
          "text": [
            "Calculating Accuracy: 100%|██████████| 5153/5153 [02:58<00:00, 28.80it/s]\n"
          ]
        },
        {
          "output_type": "stream",
          "name": "stdout",
          "text": [
            "Mag Factor: 15.0x\n"
          ]
        },
        {
          "output_type": "stream",
          "name": "stderr",
          "text": [
            "Calculating Accuracy: 100%|██████████| 5153/5153 [03:06<00:00, 27.57it/s]\n"
          ]
        },
        {
          "output_type": "stream",
          "name": "stdout",
          "text": [
            "Mag Factor: 20.0x\n"
          ]
        },
        {
          "output_type": "stream",
          "name": "stderr",
          "text": [
            "Calculating Accuracy: 100%|██████████| 5153/5153 [03:01<00:00, 28.33it/s]\n"
          ]
        }
      ],
      "source": [
        "# Plot model accuracy on LAMBADA vs magnification factors of top {5, 10, 15, 20} hallucination-inducing features\n",
        "\n",
        "results = []\n",
        "mag_factors = [0, 1.0, 5.0, 10.0, 15.0, 20.0]\n",
        "k_vals = [5, 10, 15, 20]\n",
        "\n",
        "for k_val in k_vals:\n",
        "  accuracy_results = []\n",
        "  print(f'Calculating for Top {k_val} Features...')\n",
        "  for mag_factor in mag_factors:\n",
        "    print(f'Mag Factor: {mag_factor}x')\n",
        "    hooks = [(sae.hook_point, setup_steering(feature_idx = idx, factor = mag_factor)) for idx in top_feature_indices[:k_val]]\n",
        "    with model.hooks(hooks):\n",
        "      accuracy, _ = calc_accuracy(lambada, model)\n",
        "      accuracy_results.append(accuracy)\n",
        "  results.append(accuracy_results)"
      ]
    },
    {
      "cell_type": "code",
      "source": [
        "# Compute the Confidence Interval for the accuracy metric of the steered model\n",
        "def normal_ci(accuracies, n, ci=95):\n",
        "  accuracies = np.array(accuracies)\n",
        "  z = 1.96 if ci == 95 else scipy.stats.norm.ppf(1 - (1 - ci / 100) / 2)\n",
        "  se = np.sqrt(accuracies * (1 - accuracies) / n)\n",
        "  return accuracies - z * se, accuracies + z * se"
      ],
      "metadata": {
        "id": "6QkOzP91CHNJ"
      },
      "execution_count": 19,
      "outputs": []
    },
    {
      "cell_type": "code",
      "source": [
        "# Plot Accuracy vs Magnitude Factor with 95% Confidence Bars\n",
        "for i in range(len(results)):\n",
        "  l, u = normal_ci(results[i], num_prompts_to_analyse)\n",
        "  err = np.array([np.array(results[i]) - l, u - np.array(results[i])])\n",
        "  plt.errorbar(mag_factors,\n",
        "               results[i],\n",
        "               yerr=err,\n",
        "               label=f'Top {k_vals[i]} Features',\n",
        "               capsize=5,\n",
        "               capthick=2,\n",
        "               elinewidth=1.5)\n",
        "\n",
        "plt.axhline(y=gpt2_accuracy, color='gray', linestyle='--', label='GPT-2 Base Accuracy')\n",
        "plt.xlabel('Magnitude Factor')\n",
        "plt.ylabel('Accuracy')\n",
        "plt.title('Model Accuracy vs. Magnitude Factor')\n",
        "plt.grid(True)\n",
        "plt.legend()\n",
        "plt.show()"
      ],
      "metadata": {
        "id": "5_jeaMAMBsit",
        "colab": {
          "base_uri": "https://localhost:8080/",
          "height": 472
        },
        "outputId": "606b83a5-35d4-4809-8540-c7a9b4375bc0"
      },
      "execution_count": 20,
      "outputs": [
        {
          "output_type": "display_data",
          "data": {
            "text/plain": [
              "<Figure size 640x480 with 1 Axes>"
            ],
            "image/png": "[encoded data removed]"
          },
          "metadata": {}
        }
      ]
    }
  ]
}
